{
 "cells": [
  {
   "cell_type": "markdown",
   "metadata": {
    "slideshow": {
     "slide_type": "slide"
    }
   },
   "source": [
    "# File Processing"
   ]
  },
  {
   "cell_type": "markdown",
   "metadata": {
    "slideshow": {
     "slide_type": "fragment"
    }
   },
   "source": [
    "Files are commonly used by computer codes, for example to save computed data or to read tables and external data files. Julia has extensive support for working with files, but here we will focus on only the basic functionality."
   ]
  },
  {
   "cell_type": "markdown",
   "metadata": {
    "slideshow": {
     "slide_type": "subslide"
    }
   },
   "source": [
    "## Reading files\n",
    "\n",
    "First we consider the most basic way to read a text file. We create an example text file named `test_file.txt` (e.g. using the Jupyter notebook or an editor), containing some lines of text.\n",
    "\n",
    "The code below shows how to read each line of this file into a string, which can then be further processed in Julia (here it simply displays each line as a Julia string).\n",
    "\n",
    "- The function `f = open(filename)` returns a so-called stream `f` for accessing the data in the file `filename`. It will break with an error if the operation cannot be completed, for example if the file does not exist.\n",
    "\n",
    "- The function `eof(f)` (end-of-file) returns `true` if the stream `f` has reached the end of the file.\n",
    "\n",
    "- The function `readline(f)` returns a string containing the next file in the stream `f`.\n",
    "\n",
    "- The function `close(f)` closes the stream `f`."
   ]
  },
  {
   "cell_type": "code",
   "execution_count": 1,
   "metadata": {
    "slideshow": {
     "slide_type": "subslide"
    }
   },
   "outputs": [
    {
     "data": {
      "text/plain": [
       "\"This is a test file\""
      ]
     },
     "metadata": {},
     "output_type": "display_data"
    },
    {
     "data": {
      "text/plain": [
       "\"===================\""
      ]
     },
     "metadata": {},
     "output_type": "display_data"
    },
    {
     "data": {
      "text/plain": [
       "\"\""
      ]
     },
     "metadata": {},
     "output_type": "display_data"
    },
    {
     "data": {
      "text/plain": [
       "\"This is line #4\""
      ]
     },
     "metadata": {},
     "output_type": "display_data"
    },
    {
     "data": {
      "text/plain": [
       "\"Here are some comma-separated numbers:\""
      ]
     },
     "metadata": {},
     "output_type": "display_data"
    },
    {
     "data": {
      "text/plain": [
       "\"\""
      ]
     },
     "metadata": {},
     "output_type": "display_data"
    },
    {
     "data": {
      "text/plain": [
       "\"1,2,3,4,5\""
      ]
     },
     "metadata": {},
     "output_type": "display_data"
    },
    {
     "data": {
      "text/plain": [
       "\"5,-4,3e3,2.0,1\""
      ]
     },
     "metadata": {},
     "output_type": "display_data"
    }
   ],
   "source": [
    "f = open(\"test_file.txt\")\n",
    "while !eof(f)\n",
    "    str = readline(f)\n",
    "    display(str)\n",
    "end\n",
    "close(f)"
   ]
  },
  {
   "cell_type": "markdown",
   "metadata": {
    "slideshow": {
     "slide_type": "subslide"
    }
   },
   "source": [
    "The function `eachline` lets you do this in a easier way, and it also supports a filename instead of a stream:"
   ]
  },
  {
   "cell_type": "code",
   "execution_count": 2,
   "metadata": {
    "slideshow": {
     "slide_type": "fragment"
    }
   },
   "outputs": [
    {
     "data": {
      "text/plain": [
       "\"This is a test file\""
      ]
     },
     "metadata": {},
     "output_type": "display_data"
    },
    {
     "data": {
      "text/plain": [
       "\"===================\""
      ]
     },
     "metadata": {},
     "output_type": "display_data"
    },
    {
     "data": {
      "text/plain": [
       "\"\""
      ]
     },
     "metadata": {},
     "output_type": "display_data"
    },
    {
     "data": {
      "text/plain": [
       "\"This is line #4\""
      ]
     },
     "metadata": {},
     "output_type": "display_data"
    },
    {
     "data": {
      "text/plain": [
       "\"Here are some comma-separated numbers:\""
      ]
     },
     "metadata": {},
     "output_type": "display_data"
    },
    {
     "data": {
      "text/plain": [
       "\"\""
      ]
     },
     "metadata": {},
     "output_type": "display_data"
    },
    {
     "data": {
      "text/plain": [
       "\"1,2,3,4,5\""
      ]
     },
     "metadata": {},
     "output_type": "display_data"
    },
    {
     "data": {
      "text/plain": [
       "\"5,-4,3e3,2.0,1\""
      ]
     },
     "metadata": {},
     "output_type": "display_data"
    }
   ],
   "source": [
    "for line in eachline(\"test_file.txt\")\n",
    "    display(line)\n",
    "end"
   ]
  },
  {
   "cell_type": "markdown",
   "metadata": {
    "slideshow": {
     "slide_type": "subslide"
    }
   },
   "source": [
    "If you also read the entire file into a Julia string with the `read` function:"
   ]
  },
  {
   "cell_type": "code",
   "execution_count": 3,
   "metadata": {
    "slideshow": {
     "slide_type": "fragment"
    }
   },
   "outputs": [
    {
     "data": {
      "text/plain": [
       "\"This is a test file\\n===================\\n\\nThis is line #4\\nHere are some comma-separated numbers:\\n\\n1,2,3,4,5\\n5,-4,3e3,2.0,1\""
      ]
     },
     "execution_count": 3,
     "metadata": {},
     "output_type": "execute_result"
    }
   ],
   "source": [
    "str = read(\"test_file.txt\", String)"
   ]
  },
  {
   "cell_type": "markdown",
   "metadata": {
    "slideshow": {
     "slide_type": "fragment"
    }
   },
   "source": [
    "Alternatively, you can read the entire file into an array, with each line an element:"
   ]
  },
  {
   "cell_type": "code",
   "execution_count": 4,
   "metadata": {
    "slideshow": {
     "slide_type": "fragment"
    }
   },
   "outputs": [
    {
     "data": {
      "text/plain": [
       "8-element Array{String,1}:\n",
       " \"This is a test file\"                   \n",
       " \"===================\"                   \n",
       " \"\"                                      \n",
       " \"This is line #4\"                       \n",
       " \"Here are some comma-separated numbers:\"\n",
       " \"\"                                      \n",
       " \"1,2,3,4,5\"                             \n",
       " \"5,-4,3e3,2.0,1\"                        "
      ]
     },
     "execution_count": 4,
     "metadata": {},
     "output_type": "execute_result"
    }
   ],
   "source": [
    "lines = readlines(\"test_file.txt\")"
   ]
  },
  {
   "cell_type": "markdown",
   "metadata": {
    "slideshow": {
     "slide_type": "subslide"
    }
   },
   "source": [
    "You can then access these strings using the usual array syntax, or loop over all of them:"
   ]
  },
  {
   "cell_type": "code",
   "execution_count": 5,
   "metadata": {
    "slideshow": {
     "slide_type": "fragment"
    }
   },
   "outputs": [
    {
     "name": "stdout",
     "output_type": "stream",
     "text": [
      "Line #2 says: ===================\n",
      "\n",
      "Here are all the lines which have between 1 and 18 characters:\n",
      "\n",
      "This is line #4\n",
      "1,2,3,4,5\n",
      "5,-4,3e3,2.0,1\n"
     ]
    }
   ],
   "source": [
    "println(\"Line #2 says: \", lines[2])\n",
    "println()\n",
    "println(\"Here are all the lines which have between 1 and 18 characters:\\n\")\n",
    "for line in lines\n",
    "    if 1 ≤ length(line) ≤ 18\n",
    "        println(line)\n",
    "    end\n",
    "end"
   ]
  },
  {
   "cell_type": "markdown",
   "metadata": {
    "slideshow": {
     "slide_type": "slide"
    }
   },
   "source": [
    "## Writing files\n",
    "\n",
    "The syntax for writing files is similar. The basic usage is demonstrated below:"
   ]
  },
  {
   "cell_type": "code",
   "execution_count": 6,
   "metadata": {
    "slideshow": {
     "slide_type": "fragment"
    }
   },
   "outputs": [],
   "source": [
    "f = open(\"created_data.txt\", \"w\")\n",
    "for i = 1:5\n",
    "     # Create random strings of letters\n",
    "    str = String(rand('a':'z', 50))\n",
    "    write(f, str * \"\\n\")  # Write string to stream f\n",
    "end\n",
    "println(f) # println can be used with streams too\n",
    "\n",
    "# Print Fibonacci numbers to file\n",
    "x = y = 1\n",
    "print(f, \"$x $y\")\n",
    "for i = 1:50\n",
    "    z = x + y\n",
    "    x = y\n",
    "    y = z\n",
    "    print(f, \" $z\")\n",
    "end\n",
    "println(f)\n",
    "close(f)"
   ]
  },
  {
   "cell_type": "code",
   "execution_count": 7,
   "metadata": {
    "slideshow": {
     "slide_type": "subslide"
    }
   },
   "outputs": [
    {
     "name": "stdout",
     "output_type": "stream",
     "text": [
      "sinfaovewqocnssjoopyjdzoydnyhgxztaszpwkyinmseafqbw\n",
      "hpuvwhcnmmlqrhhgeanqunvxzoglygmzalncrzetbkfrknxrah\n",
      "rkpjjlpwfdilmhcievzyytyseczljeyeumjnhqztjvisxinbws\n",
      "ukmhhmtepcignsyviicxjdehutbohofikqhwstnyoddgorytus\n",
      "nehuxstjqoraoummmirehxqufsqoidsfgvddeokqppudshalxi\n",
      "\n",
      "1 1 2 3 5 8 13 21 34 55 89 144 233 377 610 987 1597 2584 4181 6765 10946 17711 28657 46368 75025 121393 196418 317811 514229 832040 1346269 2178309 3524578 5702887 9227465 14930352 24157817 39088169 63245986 102334155 165580141 267914296 433494437 701408733 1134903170 1836311903 2971215073 4807526976 7778742049 12586269025 20365011074 32951280099\n"
     ]
    }
   ],
   "source": [
    "# Read file and print each line\n",
    "for line in eachline(\"created_data.txt\")\n",
    "    println(line)\n",
    "end"
   ]
  },
  {
   "cell_type": "markdown",
   "metadata": {
    "slideshow": {
     "slide_type": "slide"
    }
   },
   "source": [
    "## Delimited files\n",
    "\n",
    "The `DelimitedFiles` package contains two convenient functions for reading and writing arrays of data:\n",
    "\n",
    "- `writedlm(filename, A, delim)` writes the array `A` to file `filename`, using the character or string `delim` between each element in a row.\n",
    "\n",
    "- `readdlm(filename, delim, T)` reads an array from a file in a similar way, with the (optional) element type `T`\n",
    "\n",
    "The code below demonstrates these functions."
   ]
  },
  {
   "cell_type": "code",
   "execution_count": 8,
   "metadata": {
    "slideshow": {
     "slide_type": "fragment"
    }
   },
   "outputs": [
    {
     "name": "stdout",
     "output_type": "stream",
     "text": [
      "0.7273968316001534,-1.910558772146002,0.5555344921370325,-0.13972380354003414,-0.5156689482867147\n",
      "0.7117190262464789,0.5247557431886677,0.22290729410843824,-0.769905481209942,1.7817623194893581\n",
      "-0.6233023560673462,0.94854018856378,0.32301629682351296,1.0789406454327812,0.9680998067671721\n",
      "-0.020446671663736444,-0.41137541893564195,1.1922436934714766,0.14997340013967214,-1.336357485940364\n",
      "-0.15720690540721646,-1.2608684840158961,1.3631323745305266,-0.7325729342761159,0.9678396108307675\n",
      "-0.2881262419825551,-0.3767392035147662,0.5960672179600445,-1.8726175446621636,-0.056728003896302406\n",
      "0.7099023182807136,0.5347808886906541,1.4165608869850597,1.9722839904408414,-1.9789627792684767\n",
      "-2.272906935308456,-1.374347982166976,-0.29389069640286075,0.17986779621263982,0.001657017684854035\n"
     ]
    },
    {
     "data": {
      "text/plain": [
       "true"
      ]
     },
     "execution_count": 8,
     "metadata": {},
     "output_type": "execute_result"
    }
   ],
   "source": [
    "using DelimitedFiles\n",
    "\n",
    "# Write file\n",
    "A = randn(8,5)    # Sample data\n",
    "writedlm(\"created_data.txt\", A, ',')\n",
    "\n",
    "# Print file\n",
    "for line in eachline(\"created_data.txt\")\n",
    "    println(line)\n",
    "end\n",
    "\n",
    "# Read into array\n",
    "B = readdlm(\"created_data.txt\", ',')\n",
    "\n",
    "isequal(A,B) # Check identical"
   ]
  },
  {
   "cell_type": "markdown",
   "metadata": {
    "slideshow": {
     "slide_type": "slide"
    }
   },
   "source": [
    "## Example: Coded triangle numbers\n",
    "\n",
    "Project Euler, problem 42:\n",
    "\n",
    "> The n<sup>th</sup> term of the sequence of triangle numbers is given by, $t_n = n(n+1)/2$; so the first\n",
    "> ten triangle numbers are:\n",
    "> \n",
    ">     1, 3, 6, 10, 15, 21, 28, 36, 45, 55, ...\n",
    ">\n",
    "> By converting each letter in a word to a number corresponding to its alphabetical position and adding\n",
    "> these values we form a word value. For example, the word value for SKY is $19 + 11 + 25 = 55 = t_{10}$. If\n",
    "> the word value is a triangle number then we shall call the word a triangle word.\n",
    ">\n",
    "> Using `p042_words.txt` (right click and 'Save Link/Target As...'), a 16K text file containing nearly\n",
    "> two-thousand common English words, how many are triangle words?\n",
    "    \n",
    "    "
   ]
  },
  {
   "cell_type": "code",
   "execution_count": 9,
   "metadata": {
    "slideshow": {
     "slide_type": "subslide"
    }
   },
   "outputs": [
    {
     "data": {
      "text/plain": [
       "55"
      ]
     },
     "execution_count": 9,
     "metadata": {},
     "output_type": "execute_result"
    }
   ],
   "source": [
    "function word_value(word)\n",
    "    return sum(collect(word) .- 'A' .+ 1)\n",
    "end\n",
    "word_value(\"SKY\")"
   ]
  },
  {
   "cell_type": "code",
   "execution_count": 10,
   "metadata": {
    "slideshow": {
     "slide_type": "fragment"
    }
   },
   "outputs": [
    {
     "name": "stdout",
     "output_type": "stream",
     "text": [
      "There are 162 triangle words in the list\n"
     ]
    }
   ],
   "source": [
    "trinums = [n*(n+1)÷2 for n = 1:50]\n",
    "words = readdlm(\"p042_words.txt\", ',', String)\n",
    "nbrtriwords = count([word_value(word) ∈ trinums for word in words])\n",
    "println(\"There are $nbrtriwords triangle words in the list\")"
   ]
  }
 ],
 "metadata": {
  "kernelspec": {
   "display_name": "Julia 1.3.0",
   "language": "julia",
   "name": "julia-1.3"
  },
  "language_info": {
   "file_extension": ".jl",
   "mimetype": "application/julia",
   "name": "julia",
   "version": "1.3.0"
  }
 },
 "nbformat": 4,
 "nbformat_minor": 2
}
