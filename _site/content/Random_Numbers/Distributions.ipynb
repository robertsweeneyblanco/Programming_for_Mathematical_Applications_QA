{
 "cells": [
  {
   "cell_type": "markdown",
   "metadata": {
    "slideshow": {
     "slide_type": "slide"
    }
   },
   "source": [
    "# Distributions"
   ]
  },
  {
   "cell_type": "markdown",
   "metadata": {
    "slideshow": {
     "slide_type": "slide"
    }
   },
   "source": [
    "## Uniformly distributed random numbers\n",
    "\n",
    "The function `rand(n)` generates $n$ so-called *pseudo-random* numbers from a uniform distribution on $[0,1]$. This means that the numbers are technically fully deterministic, but for most practical purposes they can be seen as random. These numbers have a wide range of application in computing, for statistical simulations, studying noise, etc."
   ]
  },
  {
   "cell_type": "code",
   "execution_count": 11,
   "metadata": {
    "slideshow": {
     "slide_type": "fragment"
    }
   },
   "outputs": [
    {
     "data": {
      "text/plain": [
       "0.12780989889368866"
      ]
     },
     "execution_count": 11,
     "metadata": {},
     "output_type": "execute_result"
    }
   ],
   "source": [
    "rand()               # Defaults to n = 1 random number"
   ]
  },
  {
   "cell_type": "code",
   "execution_count": 12,
   "metadata": {
    "slideshow": {
     "slide_type": "fragment"
    }
   },
   "outputs": [
    {
     "data": {
      "text/plain": [
       "0.374186714831074"
      ]
     },
     "execution_count": 12,
     "metadata": {},
     "output_type": "execute_result"
    }
   ],
   "source": [
    "rand()               # Different output each time"
   ]
  },
  {
   "cell_type": "code",
   "execution_count": 13,
   "metadata": {
    "slideshow": {
     "slide_type": "fragment"
    }
   },
   "outputs": [
    {
     "data": {
      "text/plain": [
       "3-element Array{Float64,1}:\n",
       " 0.9311151512445586 \n",
       " 0.43893895933102156\n",
       " 0.24686248047491066"
      ]
     },
     "execution_count": 13,
     "metadata": {},
     "output_type": "execute_result"
    }
   ],
   "source": [
    "rand(3)              # Array of 3 random numbers"
   ]
  },
  {
   "cell_type": "markdown",
   "metadata": {
    "slideshow": {
     "slide_type": "subslide"
    }
   },
   "source": [
    "Note that all the generated numbers are different, which we would expect from a random number generator. However, sometimes it is useful to be able to generate the same sequence of random numbers (e.g. for debugging code). This can be done using the `Random.seed!` command from the `Random` package, and an arbitrary so-called *seed* number:"
   ]
  },
  {
   "cell_type": "code",
   "execution_count": 14,
   "metadata": {
    "slideshow": {
     "slide_type": "fragment"
    }
   },
   "outputs": [
    {
     "name": "stdout",
     "output_type": "stream",
     "text": [
      "[0.5908446386657102, 0.7667970365022592, 0.5662374165061859]\n",
      "[0.4600853424625171, 0.7940257103317943, 0.8541465903790502, 0.20058603493384108, 0.2986142783434118]\n",
      "[0.5908446386657102, 0.7667970365022592]\n",
      "[0.5662374165061859, 0.4600853424625171, 0.7940257103317943, 0.8541465903790502, 0.20058603493384108, 0.2986142783434118]\n"
     ]
    }
   ],
   "source": [
    "using Random\n",
    "Random.seed!(1234)      # Seed number 1234\n",
    "println(rand(3))\n",
    "println(rand(5))\n",
    "Random.seed!(1234)      # Re-seed with same number - will give the same sequence of random numbers\n",
    "println(rand(2))\n",
    "println(rand(6))"
   ]
  },
  {
   "cell_type": "markdown",
   "metadata": {
    "slideshow": {
     "slide_type": "slide"
    }
   },
   "source": [
    "## Other intervals\n",
    "\n",
    "To generate uniform random numbers from a different interval $[a,b]$, you can simply scale a random number $x\\in [0,1]$ by $a + x(b-a)$. For example:"
   ]
  },
  {
   "cell_type": "code",
   "execution_count": 15,
   "metadata": {
    "slideshow": {
     "slide_type": "fragment"
    }
   },
   "outputs": [
    {
     "data": {
      "text/plain": [
       "5-element Array{Float64,1}:\n",
       " -0.506325626779982  \n",
       "  0.15934446673808322\n",
       "  0.29776390041869094\n",
       " -0.9781882207288093 \n",
       " -0.8671539260893253 "
      ]
     },
     "execution_count": 15,
     "metadata": {},
     "output_type": "execute_result"
    }
   ],
   "source": [
    "y = 2rand(5) .- 1     # 5 uniform random numbers on [-1,1]"
   ]
  },
  {
   "cell_type": "code",
   "execution_count": 16,
   "metadata": {
    "slideshow": {
     "slide_type": "fragment"
    }
   },
   "outputs": [
    {
     "data": {
      "text/plain": [
       "3-element Array{Float64,1}:\n",
       " 10.697273545220465 \n",
       "  8.526836870721521 \n",
       "  4.7874010983099815"
      ]
     },
     "execution_count": 16,
     "metadata": {},
     "output_type": "execute_result"
    }
   ],
   "source": [
    "z = 7rand(3) .+ 4    # 3 uniform random numbers on [4,11]"
   ]
  },
  {
   "cell_type": "markdown",
   "metadata": {
    "slideshow": {
     "slide_type": "slide"
    }
   },
   "source": [
    "## Random integers\n",
    "\n",
    "The `rand` function can also be used with a range or a vector, from which it chooses samples at random. This can be used to generate random integers:"
   ]
  },
  {
   "cell_type": "code",
   "execution_count": 17,
   "metadata": {
    "slideshow": {
     "slide_type": "fragment"
    }
   },
   "outputs": [
    {
     "data": {
      "text/plain": [
       "3-element Array{Int64,1}:\n",
       " 4\n",
       " 9\n",
       " 3"
      ]
     },
     "execution_count": 17,
     "metadata": {},
     "output_type": "execute_result"
    }
   ],
   "source": [
    "rand(1:10, 3)        # 3 random integers between 1 and 10"
   ]
  },
  {
   "cell_type": "markdown",
   "metadata": {
    "slideshow": {
     "slide_type": "fragment"
    }
   },
   "source": [
    "but also more generally to select any objects from a vector at random:"
   ]
  },
  {
   "cell_type": "code",
   "execution_count": 18,
   "metadata": {
    "slideshow": {
     "slide_type": "fragment"
    }
   },
   "outputs": [
    {
     "data": {
      "text/plain": [
       "5-element Array{Float64,1}:\n",
       " 3.141592653589793\n",
       " 3.141592653589793\n",
       " 2.718281828459045\n",
       " 2.718281828459045\n",
       " 2.718281828459045"
      ]
     },
     "execution_count": 18,
     "metadata": {},
     "output_type": "execute_result"
    }
   ],
   "source": [
    "rand([π, exp(1), -1.0], 5)"
   ]
  },
  {
   "cell_type": "markdown",
   "metadata": {
    "slideshow": {
     "slide_type": "subslide"
    }
   },
   "source": [
    "## Normal distributions\n",
    "\n",
    "The function `randn` is similar to `rand` but draws random numbers from a normal distribution with mean 0 and standard deviation 1. "
   ]
  },
  {
   "cell_type": "code",
   "execution_count": 19,
   "metadata": {},
   "outputs": [
    {
     "data": {
      "text/plain": [
       "0.1509756176321479"
      ]
     },
     "execution_count": 19,
     "metadata": {},
     "output_type": "execute_result"
    }
   ],
   "source": [
    "randn()"
   ]
  },
  {
   "cell_type": "markdown",
   "metadata": {},
   "source": [
    "Suppose $\\mu$ and $\\sigma > 0$ are constants. If $Z$ is standard normal, then $\\sigma Z + \\mu$ is normal with mean $\\mu$ and standard deviation $\\sigma$. Thus we can generate numbers from any normal distributions using the `randn` function. As an example, the code below draws from a normal distribution with mean 2 and standard deviation 5."
   ]
  },
  {
   "cell_type": "code",
   "execution_count": 20,
   "metadata": {},
   "outputs": [
    {
     "data": {
      "text/plain": [
       "5.846391302672911"
      ]
     },
     "execution_count": 20,
     "metadata": {},
     "output_type": "execute_result"
    }
   ],
   "source": [
    "μ = 2\n",
    "σ = 5\n",
    "σ*randn() + μ"
   ]
  }
 ],
 "metadata": {
  "kernelspec": {
   "display_name": "Julia 1.3.0",
   "language": "julia",
   "name": "julia-1.3"
  },
  "language_info": {
   "file_extension": ".jl",
   "mimetype": "application/julia",
   "name": "julia",
   "version": "1.3.0"
  }
 },
 "nbformat": 4,
 "nbformat_minor": 2
}
