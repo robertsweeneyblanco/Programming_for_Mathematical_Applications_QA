{
 "cells": [
  {
   "cell_type": "markdown",
   "metadata": {},
   "source": [
    "# Optional and Keyword Arguments to Functions\n",
    "\n",
    "## Optional arguments\n",
    "\n",
    "Arguments to a function can be made optional by providing a default value. This simplifies the calling syntax when the default value is desired, but still allows for overriding if needed.\n",
    "\n",
    "As an example, consider solving the equation $2x=\\tan x$ using the fixed-point iteration $x_{n+1} = \\tan^{-1}(2x_n)$. Our arguments are the termination tolerance $\\delta$ (that is, the iterations will continue until $|x_{n+1}-x_n|\\le \\delta$) and the starting value $x_0$. In the function below, these arguments have default values of $10^{-3}$ and $1.0$, resepectively."
   ]
  },
  {
   "cell_type": "code",
   "execution_count": 1,
   "metadata": {},
   "outputs": [
    {
     "data": {
      "text/plain": [
       "fixpnt (generic function with 3 methods)"
      ]
     },
     "execution_count": 1,
     "metadata": {},
     "output_type": "execute_result"
    }
   ],
   "source": [
    "function fixpnt(δ=1e-3, x0=1.0)\n",
    "    x = x0\n",
    "    iter = 0\n",
    "    while true\n",
    "        iter += 1\n",
    "        x0 = x\n",
    "        x = atan(2x0)\n",
    "        if abs(x-x0) ≤ δ\n",
    "            println(\"Terminating after $iter iterations, x = $x\")\n",
    "            return\n",
    "        end\n",
    "    end\n",
    "end"
   ]
  },
  {
   "cell_type": "markdown",
   "metadata": {},
   "source": [
    "The function can now called with no arguments, meaning the default values are used for `δ` and `x0`: "
   ]
  },
  {
   "cell_type": "code",
   "execution_count": 2,
   "metadata": {},
   "outputs": [
    {
     "name": "stdout",
     "output_type": "stream",
     "text": [
      "Terminating after 6 iterations, x = 1.165380637446075\n"
     ]
    }
   ],
   "source": [
    "fixpnt()"
   ]
  },
  {
   "cell_type": "markdown",
   "metadata": {},
   "source": [
    "If we provide one argument, it will override the default value for `δ` but use the default value for `x0`:"
   ]
  },
  {
   "cell_type": "code",
   "execution_count": 3,
   "metadata": {},
   "outputs": [
    {
     "name": "stdout",
     "output_type": "stream",
     "text": [
      "Terminating after 20 iterations, x = 1.165561185193013\n"
     ]
    }
   ],
   "source": [
    "fixpnt(1e-10)"
   ]
  },
  {
   "cell_type": "markdown",
   "metadata": {},
   "source": [
    "Finally, if both arguments are provided, none of the default values will be used:"
   ]
  },
  {
   "cell_type": "code",
   "execution_count": 4,
   "metadata": {},
   "outputs": [
    {
     "name": "stdout",
     "output_type": "stream",
     "text": [
      "Terminating after 24 iterations, x = 1.1655611851826804\n"
     ]
    }
   ],
   "source": [
    "fixpnt(1e-10, 0.1)"
   ]
  },
  {
   "cell_type": "markdown",
   "metadata": {},
   "source": [
    "Note that it is not possible to use the default value for the first argument `δ`, but overriding the second argument `x0`. The next topic will show how to use so-called keyword arguments for this."
   ]
  },
  {
   "cell_type": "markdown",
   "metadata": {},
   "source": [
    "## Keyword arguments\n",
    "\n",
    "Functions with keyword arguments are defined using a semicolon in the signature. These arguments have to be provided using their names when called, however, the order can be arbitrary. As before, default values can also be provided for keyword arguments.\n",
    "\n",
    "As an example, we add a named argument `maxiter` to the previous example:"
   ]
  },
  {
   "cell_type": "code",
   "execution_count": 5,
   "metadata": {},
   "outputs": [
    {
     "data": {
      "text/plain": [
       "fixpnt2 (generic function with 3 methods)"
      ]
     },
     "execution_count": 5,
     "metadata": {},
     "output_type": "execute_result"
    }
   ],
   "source": [
    "function fixpnt2(δ=1e-3, x0=1.0; maxiter=10)\n",
    "    x = x0\n",
    "    iter = 0\n",
    "    while true\n",
    "        iter += 1\n",
    "        x0 = x\n",
    "        x = atan(2x0)\n",
    "        if iter ≥ maxiter || abs(x-x0) ≤ δ\n",
    "            println(\"Terminating after $iter iterations, x = $x\")\n",
    "            return\n",
    "        end\n",
    "    end\n",
    "end"
   ]
  },
  {
   "cell_type": "markdown",
   "metadata": {},
   "source": [
    "We can now for example provide the first argument `δ`, use the default value for the second argument `x0`, but specify the keyword argument `maxiter` as follows:"
   ]
  },
  {
   "cell_type": "code",
   "execution_count": 6,
   "metadata": {},
   "outputs": [
    {
     "name": "stdout",
     "output_type": "stream",
     "text": [
      "Terminating after 15 iterations, x = 1.165561180314663\n"
     ]
    }
   ],
   "source": [
    "fixpnt2(1e-10, maxiter=15)"
   ]
  }
 ],
 "metadata": {
  "kernelspec": {
   "display_name": "Julia 1.3.0",
   "language": "julia",
   "name": "julia-1.3"
  },
  "language_info": {
   "file_extension": ".jl",
   "mimetype": "application/julia",
   "name": "julia",
   "version": "1.3.0"
  }
 },
 "nbformat": 4,
 "nbformat_minor": 2
}
