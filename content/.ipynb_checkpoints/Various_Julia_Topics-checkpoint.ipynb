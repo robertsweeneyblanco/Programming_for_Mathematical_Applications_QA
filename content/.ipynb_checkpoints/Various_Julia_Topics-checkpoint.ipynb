{
 "cells": [
  {
   "cell_type": "markdown",
   "metadata": {
    "slideshow": {
     "slide_type": "slide"
    }
   },
   "source": [
    "# Various Julia Language Topics\n"
   ]
  },
  {
   "cell_type": "markdown",
   "metadata": {
    "slideshow": {
     "slide_type": "slide"
    }
   },
   "source": [
    "## Scope of Variables\n",
    "\n",
    "The *scope* of a variable is the region of code within which a variable is visible. A new *local scope* is introduced by most code blocks. A local scope inherits all the variables from a parent local scope, both for reading and writing, unless the variable is specifically marked with the keyword `local`. This is illustrated in the example below."
   ]
  },
  {
   "cell_type": "code",
   "execution_count": 1,
   "metadata": {
    "slideshow": {
     "slide_type": "fragment"
    }
   },
   "outputs": [
    {
     "name": "stdout",
     "output_type": "stream",
     "text": [
      "5\n",
      "10\n"
     ]
    },
    {
     "ename": "UndefVarError",
     "evalue": "UndefVarError: z not defined",
     "output_type": "error",
     "traceback": [
      "UndefVarError: z not defined",
      "",
      "Stacktrace:",
      " [1] top-level scope at In[1]:12"
     ]
    }
   ],
   "source": [
    "x = 10\n",
    "y = 10\n",
    "\n",
    "for i = 1:5\n",
    "    z = i        # Local scope, only visible inside for-loop\n",
    "    x = z        # Using x from parent scope\n",
    "    local y = z  # Local scope, only visible inside for-loop (not using y from parent scope)\n",
    "end\n",
    "\n",
    "println(x)    #  = 5, since for loop modifies parent variable x\n",
    "println(y)    #  = 10, since for loop uses local variable y\n",
    "println(z)    # Error: z only defined in the local scope of the for-loop"
   ]
  },
  {
   "cell_type": "markdown",
   "metadata": {
    "slideshow": {
     "slide_type": "subslide"
    }
   },
   "source": [
    "This can be convenient in for example *nested functions*, where the variables defined in the top function can be used in the inner function without having to pass it as a parameter."
   ]
  },
  {
   "cell_type": "markdown",
   "metadata": {
    "slideshow": {
     "slide_type": "slide"
    }
   },
   "source": [
    "### Example: Saving intermediate values in a recursion\n",
    "\n",
    "The function below implements the so-called *McCarthy 91 function*:\n",
    "\n",
    "$$\n",
    "M(n) = \n",
    "\\begin{cases}\n",
    "n-10, & \\text{if }n > 100 \\\\\n",
    "M(M(n+11)), & \\text{if } n \\le 100\n",
    "\\end{cases}\n",
    "$$\n",
    "\n",
    "While trivial to implement using recursion, it is not that easy to trace the recursive calls to the function. Therefore, we define a function `Mvalues(n)` which creates an empty array `returned_values`. Inside this function we define the actual recursive function `M(n)`, and each time it is called we push the value that it returns to the `returned_values` array. Note that the order of these numbers in the array will not be the same as the order in which `M(n)` is called, since the values are pushed to the array at the end of the function."
   ]
  },
  {
   "cell_type": "code",
   "execution_count": 2,
   "metadata": {
    "slideshow": {
     "slide_type": "subslide"
    }
   },
   "outputs": [
    {
     "data": {
      "text/plain": [
       "Mvalues (generic function with 1 method)"
      ]
     },
     "execution_count": 2,
     "metadata": {},
     "output_type": "execute_result"
    }
   ],
   "source": [
    "function Mvalues(n)\n",
    "    returned_values = Int64[]\n",
    "\n",
    "    function M(n)\n",
    "        if n > 100\n",
    "            newval = n - 10\n",
    "        else\n",
    "            newval = M(M(n + 11))\n",
    "        end\n",
    "        push!(returned_values, newval)\n",
    "        return newval\n",
    "    end\n",
    "\n",
    "    M(n)\n",
    "    return returned_values\n",
    "end"
   ]
  },
  {
   "cell_type": "code",
   "execution_count": 3,
   "metadata": {
    "slideshow": {
     "slide_type": "subslide"
    }
   },
   "outputs": [
    {
     "data": {
      "text/plain": [
       "1-element Array{Int64,1}:\n",
       " 95"
      ]
     },
     "execution_count": 3,
     "metadata": {},
     "output_type": "execute_result"
    }
   ],
   "source": [
    "Mvalues(105)     # Easy - terminates immediately, M(105) = 95"
   ]
  },
  {
   "cell_type": "code",
   "execution_count": 4,
   "metadata": {
    "slideshow": {
     "slide_type": "fragment"
    }
   },
   "outputs": [
    {
     "data": {
      "text/plain": [
       "9-element Array{Int64,1}:\n",
       "  98\n",
       "  99\n",
       " 100\n",
       " 101\n",
       "  91\n",
       "  91\n",
       "  91\n",
       "  91\n",
       "  91"
      ]
     },
     "execution_count": 4,
     "metadata": {},
     "output_type": "execute_result"
    }
   ],
   "source": [
    "Mvalues(97)      # More complex - finally returns M(97) = 91"
   ]
  },
  {
   "cell_type": "markdown",
   "metadata": {
    "slideshow": {
     "slide_type": "slide"
    }
   },
   "source": [
    "## Optional and keyword arguments to functions\n",
    "\n",
    "### Optional arguments\n",
    "\n",
    "Arguments to a function can be made optional by providing a default value. This simplifies the calling syntax when the default value is desired, but still allows for overriding if needed.\n",
    "\n",
    "As an example, consider solving the equation $2x=\\tan x$ using the fixed-point iteration $x_{n+1} = \\tan^{-1}(2x_n)$. Our arguments are the termination tolerance $\\delta$ (that is, the iterations will continue until $|x_{n+1}-x_n|\\le \\delta$) and the starting value $x_0$. In the function below, these arguments have default values of $10^{-3}$ and $1.0$, resepectively."
   ]
  },
  {
   "cell_type": "code",
   "execution_count": 5,
   "metadata": {
    "slideshow": {
     "slide_type": "subslide"
    }
   },
   "outputs": [
    {
     "data": {
      "text/plain": [
       "fixpnt (generic function with 3 methods)"
      ]
     },
     "execution_count": 5,
     "metadata": {},
     "output_type": "execute_result"
    }
   ],
   "source": [
    "function fixpnt(δ=1e-3, x0=1.0)\n",
    "    x = x0\n",
    "    iter = 0\n",
    "    while true\n",
    "        iter += 1\n",
    "        x0 = x\n",
    "        x = atan(2x0)\n",
    "        if abs(x-x0) ≤ δ\n",
    "            println(\"Terminating after $iter iterations, x = $x\")\n",
    "            return\n",
    "        end\n",
    "    end\n",
    "end"
   ]
  },
  {
   "cell_type": "markdown",
   "metadata": {
    "slideshow": {
     "slide_type": "subslide"
    }
   },
   "source": [
    "The function can now called with no arguments, meaning the default values are used for `δ` and `x0`: "
   ]
  },
  {
   "cell_type": "code",
   "execution_count": 6,
   "metadata": {
    "slideshow": {
     "slide_type": "fragment"
    }
   },
   "outputs": [
    {
     "name": "stdout",
     "output_type": "stream",
     "text": [
      "Terminating after 6 iterations, x = 1.165380637446075\n"
     ]
    }
   ],
   "source": [
    "fixpnt()"
   ]
  },
  {
   "cell_type": "markdown",
   "metadata": {
    "slideshow": {
     "slide_type": "fragment"
    }
   },
   "source": [
    "If we provide one argument, it will override the default value for `δ` but use the default value for `x0`:"
   ]
  },
  {
   "cell_type": "code",
   "execution_count": 7,
   "metadata": {
    "slideshow": {
     "slide_type": "fragment"
    }
   },
   "outputs": [
    {
     "name": "stdout",
     "output_type": "stream",
     "text": [
      "Terminating after 20 iterations, x = 1.165561185193013\n"
     ]
    }
   ],
   "source": [
    "fixpnt(1e-10)"
   ]
  },
  {
   "cell_type": "markdown",
   "metadata": {
    "slideshow": {
     "slide_type": "subslide"
    }
   },
   "source": [
    "Finally, if both arguments are provided, none of the default values will be used:"
   ]
  },
  {
   "cell_type": "code",
   "execution_count": 8,
   "metadata": {
    "slideshow": {
     "slide_type": "fragment"
    }
   },
   "outputs": [
    {
     "name": "stdout",
     "output_type": "stream",
     "text": [
      "Terminating after 24 iterations, x = 1.1655611851826804\n"
     ]
    }
   ],
   "source": [
    "fixpnt(1e-10, 0.1)"
   ]
  },
  {
   "cell_type": "markdown",
   "metadata": {
    "slideshow": {
     "slide_type": "fragment"
    }
   },
   "source": [
    "Note that it is not possible to use the default value for the first argument `δ`, but overriding the second argument `x0`. The next topic will show how to use so-called keyword arguments for this."
   ]
  },
  {
   "cell_type": "markdown",
   "metadata": {
    "slideshow": {
     "slide_type": "slide"
    }
   },
   "source": [
    "### Keyword arguments\n",
    "\n",
    "Functions with keyword arguments are defined using a semicolon in the signature. These arguments have to be provided using their names when called, however, the order can be arbitrary. As before, default values can also be provided for keyword arguments.\n",
    "\n",
    "As an example, we add a named argument `maxiter` to the previous example:"
   ]
  },
  {
   "cell_type": "code",
   "execution_count": 9,
   "metadata": {
    "slideshow": {
     "slide_type": "subslide"
    }
   },
   "outputs": [
    {
     "data": {
      "text/plain": [
       "fixpnt2 (generic function with 3 methods)"
      ]
     },
     "execution_count": 9,
     "metadata": {},
     "output_type": "execute_result"
    }
   ],
   "source": [
    "function fixpnt2(δ=1e-3, x0=1.0; maxiter=10)\n",
    "    x = x0\n",
    "    iter = 0\n",
    "    while true\n",
    "        iter += 1\n",
    "        x0 = x\n",
    "        x = atan(2x0)\n",
    "        if iter ≥ maxiter || abs(x-x0) ≤ δ\n",
    "            println(\"Terminating after $iter iterations, x = $x\")\n",
    "            return\n",
    "        end\n",
    "    end\n",
    "end"
   ]
  },
  {
   "cell_type": "markdown",
   "metadata": {
    "slideshow": {
     "slide_type": "subslide"
    }
   },
   "source": [
    "We can now for example provide the first argument `δ`, use the default value for the second argument `x0`, but specify the keyword argument `maxiter` as follows:"
   ]
  },
  {
   "cell_type": "code",
   "execution_count": 10,
   "metadata": {
    "slideshow": {
     "slide_type": "fragment"
    }
   },
   "outputs": [
    {
     "name": "stdout",
     "output_type": "stream",
     "text": [
      "Terminating after 15 iterations, x = 1.165561180314663\n"
     ]
    }
   ],
   "source": [
    "fixpnt2(1e-10, maxiter=15)"
   ]
  },
  {
   "cell_type": "markdown",
   "metadata": {
    "slideshow": {
     "slide_type": "slide"
    }
   },
   "source": [
    "## Dictionaries\n",
    "\n",
    "A dictionary is like an array, but more general. In an array, the indices have to be integers; in a dictionary they can be (almost) any type.\n",
    "\n",
    "A dictionary contains a collection of indices, which are called keys, and a collection of values. Each key is associated with a single value. The association of a key and a value is called a key-value pair or sometimes an item."
   ]
  }
 ],
 "metadata": {
  "kernelspec": {
   "display_name": "Julia 1.3.0",
   "language": "julia",
   "name": "julia-1.3"
  },
  "language_info": {
   "file_extension": ".jl",
   "mimetype": "application/julia",
   "name": "julia",
   "version": "1.3.0"
  }
 },
 "nbformat": 4,
 "nbformat_minor": 2
}
