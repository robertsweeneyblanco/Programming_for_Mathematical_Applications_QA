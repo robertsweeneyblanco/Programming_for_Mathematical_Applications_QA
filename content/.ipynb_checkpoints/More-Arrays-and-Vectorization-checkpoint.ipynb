{
 "cells": [
  {
   "cell_type": "markdown",
   "metadata": {
    "slideshow": {
     "slide_type": "slide"
    }
   },
   "source": [
    "# More on Arrays and Vectorization"
   ]
  },
  {
   "cell_type": "markdown",
   "metadata": {
    "slideshow": {
     "slide_type": "slide"
    }
   },
   "source": [
    "### Constructing Arrays using Comprehensions\n",
    "\n",
    "*Comprehension syntax* is a a more general way to create arrays based on expressions.\n",
    "It has the following form:\n",
    "\n",
    "```\n",
    "A = [ F(x,y,...) for x=rx, y=ry, ... ]\n",
    "```\n",
    "\n",
    "The function `F(x,y,...)` will be evaluated with the values `x`, `y`, etc, taking on each value in their given lists. The resulting values are put in a multi-dimensional array, of the size given by the variable ranges `rx`, `ry`, etc."
   ]
  },
  {
   "cell_type": "code",
   "execution_count": 1,
   "metadata": {
    "slideshow": {
     "slide_type": "fragment"
    }
   },
   "outputs": [
    {
     "data": {
      "text/plain": [
       "5-element Array{Int64,1}:\n",
       "  1\n",
       "  4\n",
       "  9\n",
       " 16\n",
       " 25"
      ]
     },
     "execution_count": 1,
     "metadata": {},
     "output_type": "execute_result"
    }
   ],
   "source": [
    "x = [ x^2 for x = 1:5 ]                # Square of the numbers 1 to 5"
   ]
  },
  {
   "cell_type": "code",
   "execution_count": 2,
   "metadata": {
    "slideshow": {
     "slide_type": "subslide"
    }
   },
   "outputs": [
    {
     "data": {
      "text/plain": [
       "3×5 Array{Int64,2}:\n",
       " 2  3  4  5  6\n",
       " 3  4  5  6  7\n",
       " 4  5  6  7  8"
      ]
     },
     "execution_count": 2,
     "metadata": {},
     "output_type": "execute_result"
    }
   ],
   "source": [
    "A = [ x+y for x = 1:3, y = 1:5 ]       # 3x5 matrix with entries A_ij = i + j"
   ]
  },
  {
   "cell_type": "code",
   "execution_count": 3,
   "metadata": {
    "slideshow": {
     "slide_type": "fragment"
    }
   },
   "outputs": [
    {
     "data": {
      "text/plain": [
       "3×5 Array{Int64,2}:\n",
       " 1  1   1   1    1\n",
       " 2  4   8  16   32\n",
       " 3  9  27  81  243"
      ]
     },
     "execution_count": 3,
     "metadata": {},
     "output_type": "execute_result"
    }
   ],
   "source": [
    "B = [ x^y for x = 1:3, y = 1:5 ]       # 3x5 matrix with entries A_ij = i^j"
   ]
  },
  {
   "cell_type": "markdown",
   "metadata": {
    "slideshow": {
     "slide_type": "subslide"
    }
   },
   "source": [
    "The generated values can also be filtered using the `if` keyword, that is, the value will only be included in the array if the condition after `if` is true:"
   ]
  },
  {
   "cell_type": "code",
   "execution_count": 4,
   "metadata": {
    "slideshow": {
     "slide_type": "fragment"
    }
   },
   "outputs": [
    {
     "data": {
      "text/plain": [
       "3-element Array{Int64,1}:\n",
       "  9\n",
       " 36\n",
       " 81"
      ]
     },
     "execution_count": 4,
     "metadata": {},
     "output_type": "execute_result"
    }
   ],
   "source": [
    "x = [ x^2 for x = 1:10 if x%3 == 0]    # Only for x that are multiples of 3"
   ]
  },
  {
   "cell_type": "markdown",
   "metadata": {
    "slideshow": {
     "slide_type": "fragment"
    }
   },
   "source": [
    "Like before, the data type of the elements in the array will be determined based on the values, but can also be enforced by putting the type name before the brackets:"
   ]
  },
  {
   "cell_type": "code",
   "execution_count": 5,
   "metadata": {
    "slideshow": {
     "slide_type": "fragment"
    }
   },
   "outputs": [
    {
     "data": {
      "text/plain": [
       "2×10 Array{Float64,2}:\n",
       " -3.0  -4.0   0.0  -5.0  4.0  -2.0  -1.0   0.0  -3.0   0.0\n",
       "  3.0  -3.0  -2.0  -1.0  3.0  -5.0  -2.0  -2.0  -5.0  -2.0"
      ]
     },
     "execution_count": 5,
     "metadata": {},
     "output_type": "execute_result"
    }
   ],
   "source": [
    "y = Float64[ rand(-5:5) for i = 1:2, j = 1:10 ]"
   ]
  },
  {
   "cell_type": "markdown",
   "metadata": {
    "slideshow": {
     "slide_type": "slide"
    }
   },
   "source": [
    "#### Generator expressions\n",
    "\n",
    "If you remove the brackets from a comprehension, you create a *generator expression*. It can be seen as a rule that produces the requested values on demand, without allocating an array to store them. Parentheses are needed to separate the generator from other elements:"
   ]
  },
  {
   "cell_type": "code",
   "execution_count": 6,
   "metadata": {
    "slideshow": {
     "slide_type": "fragment"
    }
   },
   "outputs": [
    {
     "data": {
      "text/plain": [
       "Base.Generator{UnitRange{Int64},getfield(Main, Symbol(\"##13#14\"))}(getfield(Main, Symbol(\"##13#14\"))(), 1:10)"
      ]
     },
     "execution_count": 6,
     "metadata": {},
     "output_type": "execute_result"
    }
   ],
   "source": [
    "gen = (i*(i-1) for i = 1:10)        # A generator expression"
   ]
  },
  {
   "cell_type": "code",
   "execution_count": 7,
   "metadata": {
    "slideshow": {
     "slide_type": "fragment"
    }
   },
   "outputs": [
    {
     "name": "stdout",
     "output_type": "stream",
     "text": [
      "0 2 6 12 20 30 42 56 72 90 "
     ]
    }
   ],
   "source": [
    "for x in gen                        # Loop over all the values in the generator expression\n",
    "    print(x, \" \")\n",
    "end"
   ]
  },
  {
   "cell_type": "markdown",
   "metadata": {
    "slideshow": {
     "slide_type": "slide"
    }
   },
   "source": [
    "### More on creating arrays\n",
    "\n",
    "Some other useful functions for creating arrays include the `reshape` function, which takes the data from one array and rearranges it into new dimensions:"
   ]
  },
  {
   "cell_type": "code",
   "execution_count": 8,
   "metadata": {
    "slideshow": {
     "slide_type": "fragment"
    }
   },
   "outputs": [
    {
     "data": {
      "text/plain": [
       "3×5 reshape(::UnitRange{Int64}, 3, 5) with eltype Int64:\n",
       " 1  4  7  10  13\n",
       " 2  5  8  11  14\n",
       " 3  6  9  12  15"
      ]
     },
     "execution_count": 8,
     "metadata": {},
     "output_type": "execute_result"
    }
   ],
   "source": [
    "reshape(1:15, 3, 5)"
   ]
  },
  {
   "cell_type": "markdown",
   "metadata": {
    "slideshow": {
     "slide_type": "subslide"
    }
   },
   "source": [
    "Note how the elements are assigned column-wise, that is, first into column 1, then column 2, etc. If you want to assign by rows, you can use the `permutedims` function (which is strongly related to the *transpose* of a matrix in linear algebra, more on this later):"
   ]
  },
  {
   "cell_type": "code",
   "execution_count": 9,
   "metadata": {
    "slideshow": {
     "slide_type": "fragment"
    }
   },
   "outputs": [
    {
     "data": {
      "text/plain": [
       "3×5 Array{Int64,2}:\n",
       "  1   2   3   4   5\n",
       "  6   7   8   9  10\n",
       " 11  12  13  14  15"
      ]
     },
     "execution_count": 9,
     "metadata": {},
     "output_type": "execute_result"
    }
   ],
   "source": [
    "permutedims(reshape(1:15, 5, 3))"
   ]
  },
  {
   "cell_type": "markdown",
   "metadata": {
    "slideshow": {
     "slide_type": "fragment"
    }
   },
   "source": [
    "Note how the inner matrix is of dimensions 5x3, so that after permutation the size is 3x5 just like before."
   ]
  },
  {
   "cell_type": "markdown",
   "metadata": {
    "slideshow": {
     "slide_type": "subslide"
    }
   },
   "source": [
    "The `repeat` function repeats the entries of a given matrix according to a specified pattern. In its simplest form, it just copies the array:"
   ]
  },
  {
   "cell_type": "code",
   "execution_count": 10,
   "metadata": {
    "slideshow": {
     "slide_type": "fragment"
    }
   },
   "outputs": [
    {
     "data": {
      "text/plain": [
       "6-element Array{Int64,1}:\n",
       " 1\n",
       " 2\n",
       " 1\n",
       " 2\n",
       " 1\n",
       " 2"
      ]
     },
     "execution_count": 10,
     "metadata": {},
     "output_type": "execute_result"
    }
   ],
   "source": [
    "repeat(1:2, 3)"
   ]
  },
  {
   "cell_type": "markdown",
   "metadata": {
    "slideshow": {
     "slide_type": "subslide"
    }
   },
   "source": [
    "but it also works for multi-dimensional arrays:"
   ]
  },
  {
   "cell_type": "code",
   "execution_count": 11,
   "metadata": {
    "slideshow": {
     "slide_type": "fragment"
    }
   },
   "outputs": [
    {
     "data": {
      "text/plain": [
       "6×4 Array{Int64,2}:\n",
       " 1  1  1  1\n",
       " 2  2  2  2\n",
       " 1  1  1  1\n",
       " 2  2  2  2\n",
       " 1  1  1  1\n",
       " 2  2  2  2"
      ]
     },
     "execution_count": 11,
     "metadata": {},
     "output_type": "execute_result"
    }
   ],
   "source": [
    "repeat(1:2, 3, 4)"
   ]
  },
  {
   "cell_type": "code",
   "execution_count": 12,
   "metadata": {
    "slideshow": {
     "slide_type": "fragment"
    }
   },
   "outputs": [
    {
     "data": {
      "text/plain": [
       "2×4 Array{Int64,2}:\n",
       " 1  2  1  2\n",
       " 3  4  3  4"
      ]
     },
     "execution_count": 12,
     "metadata": {},
     "output_type": "execute_result"
    }
   ],
   "source": [
    "repeat([1 2; 3 4], 1, 2)"
   ]
  },
  {
   "cell_type": "markdown",
   "metadata": {
    "slideshow": {
     "slide_type": "slide"
    }
   },
   "source": [
    "### Array functions\n",
    "\n",
    "We have seen before how many for-loops over arrays can be avoided using e.g. the dot-operator, which evaluates functions and operators element-wise. A number of other helper functions are available to extend this so-called *vectorization* technique, and allow for shorter code that is easier to understand and which might execute faster.\n",
    "\n",
    "For example, a very common operation is to sum all the elements of an array. While this is easy to do with a for-loop, the function `sum` makes it even easier:"
   ]
  },
  {
   "cell_type": "code",
   "execution_count": 13,
   "metadata": {
    "slideshow": {
     "slide_type": "fragment"
    }
   },
   "outputs": [
    {
     "name": "stdout",
     "output_type": "stream",
     "text": [
      "Sum of [61, 53, 95, 46, 51] = 306\n"
     ]
    }
   ],
   "source": [
    "x = rand(1:100, 5)\n",
    "println(\"Sum of \", x, \" = \", sum(x))"
   ]
  },
  {
   "cell_type": "markdown",
   "metadata": {
    "slideshow": {
     "slide_type": "subslide"
    }
   },
   "source": [
    "The `sum` function can also take an additional dimension argument `dims`, to specify which dimension it should add along. For example, it can add all the elements in each column (along dimension 1, producing a vector of sums):"
   ]
  },
  {
   "cell_type": "code",
   "execution_count": 14,
   "metadata": {
    "slideshow": {
     "slide_type": "fragment"
    }
   },
   "outputs": [
    {
     "data": {
      "text/plain": [
       "3×5 Array{Int64,2}:\n",
       " -43   49   47  -66  -66\n",
       "  64   46  -75   10  -64\n",
       "  91  -18  -48  -73  -87"
      ]
     },
     "execution_count": 14,
     "metadata": {},
     "output_type": "execute_result"
    }
   ],
   "source": [
    "A = rand(-100:100, 3, 5)"
   ]
  },
  {
   "cell_type": "code",
   "execution_count": 15,
   "metadata": {
    "slideshow": {
     "slide_type": "fragment"
    }
   },
   "outputs": [
    {
     "data": {
      "text/plain": [
       "1×5 Array{Int64,2}:\n",
       " 112  77  -76  -129  -217"
      ]
     },
     "execution_count": 15,
     "metadata": {},
     "output_type": "execute_result"
    }
   ],
   "source": [
    "sum(A, dims=1)"
   ]
  },
  {
   "cell_type": "markdown",
   "metadata": {
    "slideshow": {
     "slide_type": "subslide"
    }
   },
   "source": [
    "or it can add all the elements in each row (along dimension 2):"
   ]
  },
  {
   "cell_type": "code",
   "execution_count": 16,
   "metadata": {
    "slideshow": {
     "slide_type": "fragment"
    }
   },
   "outputs": [
    {
     "data": {
      "text/plain": [
       "3×1 Array{Int64,2}:\n",
       "  -79\n",
       "  -19\n",
       " -135"
      ]
     },
     "execution_count": 16,
     "metadata": {},
     "output_type": "execute_result"
    }
   ],
   "source": [
    "sum(A, dims=2)"
   ]
  },
  {
   "cell_type": "markdown",
   "metadata": {},
   "source": [
    "Note that while these functions reduce a 2D array to a 1D array, the output is still a 2D array (a row of a column vector). The syntax [:] after any array will convert it to a 1D array, which might be needed for example when using the array as indices."
   ]
  },
  {
   "cell_type": "code",
   "execution_count": 17,
   "metadata": {},
   "outputs": [
    {
     "data": {
      "text/plain": [
       "5-element Array{Int64,1}:\n",
       "  112\n",
       "   77\n",
       "  -76\n",
       " -129\n",
       " -217"
      ]
     },
     "execution_count": 17,
     "metadata": {},
     "output_type": "execute_result"
    }
   ],
   "source": [
    "sum(A, dims=1)[:]"
   ]
  },
  {
   "cell_type": "markdown",
   "metadata": {
    "slideshow": {
     "slide_type": "subslide"
    }
   },
   "source": [
    "Some other examples of these so-called *array reduction* functions are shown below."
   ]
  },
  {
   "cell_type": "code",
   "execution_count": 18,
   "metadata": {
    "slideshow": {
     "slide_type": "fragment"
    }
   },
   "outputs": [
    {
     "data": {
      "text/plain": [
       "5-element Array{Int64,1}:\n",
       " 87\n",
       " 19\n",
       " 60\n",
       " 45\n",
       " 96"
      ]
     },
     "metadata": {},
     "output_type": "display_data"
    },
    {
     "data": {
      "text/plain": [
       "428457600"
      ]
     },
     "execution_count": 18,
     "metadata": {},
     "output_type": "execute_result"
    }
   ],
   "source": [
    "x = rand(1:100, 5)\n",
    "display(x)\n",
    "prod(x)                         # Product of all elements"
   ]
  },
  {
   "cell_type": "code",
   "execution_count": 19,
   "metadata": {
    "slideshow": {
     "slide_type": "fragment"
    }
   },
   "outputs": [
    {
     "data": {
      "text/plain": [
       "3×5 Array{Int64,2}:\n",
       " -43   49   47  -66  -66\n",
       "  64   46  -75   10  -64\n",
       "  91  -18  -48  -73  -87"
      ]
     },
     "metadata": {},
     "output_type": "display_data"
    },
    {
     "data": {
      "text/plain": [
       "1×5 Array{Int64,2}:\n",
       " 91  49  47  10  -64"
      ]
     },
     "metadata": {},
     "output_type": "display_data"
    },
    {
     "data": {
      "text/plain": [
       "1×5 Array{Int64,2}:\n",
       " -43  -18  -75  -73  -87"
      ]
     },
     "metadata": {},
     "output_type": "display_data"
    }
   ],
   "source": [
    "display(A)\n",
    "display(maximum(A, dims=1))     # Largest element in each column\n",
    "display(minimum(A, dims=1))     # Smallest element in each column"
   ]
  },
  {
   "cell_type": "markdown",
   "metadata": {
    "slideshow": {
     "slide_type": "subslide"
    }
   },
   "source": [
    "The *cumulative* sum and product functions work in a similar way, but produce arrays of the same size as the original array:"
   ]
  },
  {
   "cell_type": "code",
   "execution_count": 20,
   "metadata": {
    "slideshow": {
     "slide_type": "fragment"
    }
   },
   "outputs": [
    {
     "data": {
      "text/plain": [
       "5-element Array{Int64,1}:\n",
       "  1\n",
       "  3\n",
       "  6\n",
       " 10\n",
       " 15"
      ]
     },
     "metadata": {},
     "output_type": "display_data"
    },
    {
     "data": {
      "text/plain": [
       "5-element Array{Int64,1}:\n",
       "   1\n",
       "   2\n",
       "   6\n",
       "  24\n",
       " 120"
      ]
     },
     "metadata": {},
     "output_type": "display_data"
    }
   ],
   "source": [
    "x = 1:5\n",
    "display(cumsum(x))                   # Cumulative sum, that is, entry n is the sum of x_1,...,x_n\n",
    "display(cumprod(x))                  # Cumulative product"
   ]
  },
  {
   "cell_type": "code",
   "execution_count": 21,
   "metadata": {
    "slideshow": {
     "slide_type": "subslide"
    }
   },
   "outputs": [
    {
     "data": {
      "text/plain": [
       "2×3 reshape(::UnitRange{Int64}, 2, 3) with eltype Int64:\n",
       " 1  3  5\n",
       " 2  4  6"
      ]
     },
     "execution_count": 21,
     "metadata": {},
     "output_type": "execute_result"
    }
   ],
   "source": [
    "A = reshape(1:6, 2, 3)"
   ]
  },
  {
   "cell_type": "code",
   "execution_count": 22,
   "metadata": {
    "slideshow": {
     "slide_type": "fragment"
    }
   },
   "outputs": [
    {
     "data": {
      "text/plain": [
       "2×3 Array{Int64,2}:\n",
       " 1  3   5\n",
       " 3  7  11"
      ]
     },
     "execution_count": 22,
     "metadata": {},
     "output_type": "execute_result"
    }
   ],
   "source": [
    "cumsum(A, dims=1)                    # Cumulative sum along dimension 1 (that is, column-wise)"
   ]
  },
  {
   "cell_type": "code",
   "execution_count": 23,
   "metadata": {
    "slideshow": {
     "slide_type": "fragment"
    }
   },
   "outputs": [
    {
     "data": {
      "text/plain": [
       "2×3 Array{Int64,2}:\n",
       " 1  3  15\n",
       " 2  8  48"
      ]
     },
     "execution_count": 23,
     "metadata": {},
     "output_type": "execute_result"
    }
   ],
   "source": [
    "cumprod(A, dims=2)                   # Cumulative product along dimension 2"
   ]
  },
  {
   "cell_type": "markdown",
   "metadata": {
    "slideshow": {
     "slide_type": "slide"
    }
   },
   "source": [
    "### Example: Taylor polynomial using array functions\n",
    "\n",
    "In part 1, we used for-loops to evaluate the Taylor polynomial for $\\cos x$ of a given degree $2n$:\n",
    "\n",
    "```julia\n",
    "function taylor_cos(x,n)\n",
    "    term = 1\n",
    "    y = 1\n",
    "    for k = 1:n\n",
    "        term *= -x^2 / ((2k-1) * 2k)\n",
    "        y += term\n",
    "    end\n",
    "    y\n",
    "end\n",
    "```"
   ]
  },
  {
   "cell_type": "markdown",
   "metadata": {
    "slideshow": {
     "slide_type": "subslide"
    }
   },
   "source": [
    "We can rewrite this in a vectorized form by using the `cumprod` and the `sum` functions. Note that each term in the sum is built up by multiplying the previous term by the expression `-x^2 / ((2k-1) * 2k)`. This means we can create a vector with these values, and create *all* the terms using the `cumprod` function. Finally, the Taylor polynomial is obtained by adding all the terms using the `sum` function, and manually adding the first term 1 which is a special case:"
   ]
  },
  {
   "cell_type": "code",
   "execution_count": 24,
   "metadata": {
    "slideshow": {
     "slide_type": "fragment"
    }
   },
   "outputs": [
    {
     "data": {
      "text/plain": [
       "taylor_cos (generic function with 1 method)"
      ]
     },
     "execution_count": 24,
     "metadata": {},
     "output_type": "execute_result"
    }
   ],
   "source": [
    "function taylor_cos(x,n)\n",
    "    factors = [ -x^2 / ((2k-1) * 2k) for k = 1:n ]\n",
    "    y = 1 + sum(cumprod(factors))\n",
    "end"
   ]
  },
  {
   "cell_type": "code",
   "execution_count": 25,
   "metadata": {
    "slideshow": {
     "slide_type": "fragment"
    }
   },
   "outputs": [
    {
     "name": "stdout",
     "output_type": "stream",
     "text": [
      "-0.8390715290752269\n",
      "-0.8390715290764524\n"
     ]
    }
   ],
   "source": [
    "println(taylor_cos(10, 50)) # Taylor approximation\n",
    "println(cos(10))            # true value"
   ]
  },
  {
   "cell_type": "markdown",
   "metadata": {
    "slideshow": {
     "slide_type": "subslide"
    }
   },
   "source": [
    "Since we now know how to plot functions, let us make the typical calculus plot that compares Taylor polynomial approximations of different degrees. Note how we can generate a 2D array `yy_taylor` of 6 different Taylor polynomials, for all values of `x`, using an array comprehension."
   ]
  },
  {
   "cell_type": "code",
   "execution_count": 26,
   "metadata": {
    "slideshow": {
     "slide_type": "subslide"
    }
   },
   "outputs": [
    {
     "data": {
      "image/png": "[encoded data removed]",
      "text/plain": [
       "Figure(PyObject <Figure size 640x480 with 1 Axes>)"
      ]
     },
     "metadata": {},
     "output_type": "display_data"
    }
   ],
   "source": [
    "xx = -10:0.01:10\n",
    "yy = cos.(xx)\n",
    "yy_taylor = [ taylor_cos(x,n) for x in xx, n in 0:5 ]\n",
    "\n",
    "using PyPlot\n",
    "plot(xx, yy, linewidth=2, color=\"k\")\n",
    "plot(xx, yy_taylor)\n",
    "grid(true)\n",
    "axis([-10,10,-1.2,1.2]);"
   ]
  },
  {
   "cell_type": "markdown",
   "metadata": {
    "slideshow": {
     "slide_type": "slide"
    }
   },
   "source": [
    "### Array functions for indices and booleans\n",
    "\n",
    "Another useful set of array functions are based on indices and boolean variables. For example, the `in` function (or the $\\in$ symbol) will loop through an array and return `true` if a given number appears anywhere in the array:"
   ]
  },
  {
   "cell_type": "code",
   "execution_count": 27,
   "metadata": {
    "slideshow": {
     "slide_type": "fragment"
    }
   },
   "outputs": [
    {
     "name": "stdout",
     "output_type": "stream",
     "text": [
      "true\n",
      "false\n"
     ]
    }
   ],
   "source": [
    "x = 1:2:1000                 # Odd numbers\n",
    "println(503 in x)            # True, 503 is in the list\n",
    "println(1000 ∈ x)            # False, 1000 is not in the list"
   ]
  },
  {
   "cell_type": "markdown",
   "metadata": {
    "slideshow": {
     "slide_type": "fragment"
    }
   },
   "source": [
    "The `all` function returns `true` if all elements in a boolean array are `true`:"
   ]
  },
  {
   "cell_type": "code",
   "execution_count": 28,
   "metadata": {
    "slideshow": {
     "slide_type": "fragment"
    }
   },
   "outputs": [
    {
     "name": "stdout",
     "output_type": "stream",
     "text": [
      "false\n",
      "true\n"
     ]
    }
   ],
   "source": [
    "println(all(x .< 500))\n",
    "println(all(x .> 0))"
   ]
  },
  {
   "cell_type": "markdown",
   "metadata": {
    "slideshow": {
     "slide_type": "subslide"
    }
   },
   "source": [
    "The `any` function returns `true` if any element in a boolean array is `true`:"
   ]
  },
  {
   "cell_type": "code",
   "execution_count": 29,
   "metadata": {
    "slideshow": {
     "slide_type": "fragment"
    }
   },
   "outputs": [
    {
     "name": "stdout",
     "output_type": "stream",
     "text": [
      "true\n",
      "false\n"
     ]
    }
   ],
   "source": [
    "println(any(x .== 503))\n",
    "println(any(x .== 1000))"
   ]
  },
  {
   "cell_type": "markdown",
   "metadata": {
    "slideshow": {
     "slide_type": "subslide"
    }
   },
   "source": [
    "We can also find the *index* of e.g. the first element that is `true` in a boolean array:"
   ]
  },
  {
   "cell_type": "code",
   "execution_count": 30,
   "metadata": {
    "slideshow": {
     "slide_type": "fragment"
    }
   },
   "outputs": [
    {
     "data": {
      "text/plain": [
       "252"
      ]
     },
     "execution_count": 30,
     "metadata": {},
     "output_type": "execute_result"
    }
   ],
   "source": [
    "idx = findfirst(x .== 503)    # Index in x with the value 503"
   ]
  },
  {
   "cell_type": "markdown",
   "metadata": {
    "slideshow": {
     "slide_type": "fragment"
    }
   },
   "source": [
    "or more generally, a vector with the indices to *all* the elements that are `true`:"
   ]
  },
  {
   "cell_type": "code",
   "execution_count": 31,
   "metadata": {
    "slideshow": {
     "slide_type": "fragment"
    }
   },
   "outputs": [
    {
     "name": "stdout",
     "output_type": "stream",
     "text": [
      "Indices in x with numbers that are multiples of 97: [49, 146, 243, 340, 437]\n"
     ]
    }
   ],
   "source": [
    "ind = findall(@. x % 97 == 0)\n",
    "println(\"Indices in x with numbers that are multiples of 97: \", ind)"
   ]
  },
  {
   "cell_type": "markdown",
   "metadata": {
    "slideshow": {
     "slide_type": "subslide"
    }
   },
   "source": [
    "Finally, the `count` function returns the number of times `true` appears in a boolean array:"
   ]
  },
  {
   "cell_type": "code",
   "execution_count": 32,
   "metadata": {
    "slideshow": {
     "slide_type": "fragment"
    }
   },
   "outputs": [
    {
     "data": {
      "text/plain": [
       "5"
      ]
     },
     "execution_count": 32,
     "metadata": {},
     "output_type": "execute_result"
    }
   ],
   "source": [
    "count(@. x % 97 == 0)"
   ]
  },
  {
   "cell_type": "markdown",
   "metadata": {
    "slideshow": {
     "slide_type": "subslide"
    }
   },
   "source": [
    "### Logical indexing\n",
    "\n",
    "As an alternative to indexing an array by `x[idx]` where `idx` is an array of integers, *logical indexing* allows for the syntax `x[choose]` where `choose` is an array of booleans. The size of `choose` must be the length of the array (or more generally, the dimension it indexes into). Note that the result is identical to `x[findall(choose)]`, but shorter to write and likely more efficient. "
   ]
  },
  {
   "cell_type": "code",
   "execution_count": 33,
   "metadata": {
    "slideshow": {
     "slide_type": "fragment"
    }
   },
   "outputs": [
    {
     "data": {
      "text/plain": [
       "11-element Array{Int64,1}:\n",
       " -11\n",
       " -10\n",
       "  -6\n",
       "  -5\n",
       "  -4\n",
       "   1\n",
       "   2\n",
       "   3\n",
       "   7\n",
       "   8\n",
       "   9"
      ]
     },
     "execution_count": 33,
     "metadata": {},
     "output_type": "execute_result"
    }
   ],
   "source": [
    "x = -11:11\n",
    "y = sin.(x)\n",
    "x = x[y .> 0]          # Only keep values of x where y=sin x is positive"
   ]
  },
  {
   "cell_type": "code",
   "execution_count": 34,
   "metadata": {
    "slideshow": {
     "slide_type": "subslide"
    }
   },
   "outputs": [
    {
     "data": {
      "text/plain": [
       "3×10 Array{Int64,2}:\n",
       "  9  -1  -10   2   9  -5  -3  -1  3  -4\n",
       "  7  -9   -8  -9  -4   8   0  -8  9  -7\n",
       " 10  10    5  -5   9   4  10  -1  2  -2"
      ]
     },
     "execution_count": 34,
     "metadata": {},
     "output_type": "execute_result"
    }
   ],
   "source": [
    "# Example: Consider the matrix\n",
    "A = rand(-10:10, 3, 10)"
   ]
  },
  {
   "cell_type": "code",
   "execution_count": 35,
   "metadata": {
    "slideshow": {
     "slide_type": "fragment"
    }
   },
   "outputs": [
    {
     "data": {
      "text/plain": [
       "1×10 BitArray{2}:\n",
       " true  true  false  false  true  true  true  false  true  false"
      ]
     },
     "execution_count": 35,
     "metadata": {},
     "output_type": "execute_result"
    }
   ],
   "source": [
    "# Compute a boolean array with `true` if the column sums are >=0\n",
    "pick = sum(A, dims=1) .≥ 0"
   ]
  },
  {
   "cell_type": "code",
   "execution_count": 36,
   "metadata": {
    "slideshow": {
     "slide_type": "fragment"
    }
   },
   "outputs": [
    {
     "data": {
      "text/plain": [
       "3×6 Array{Int64,2}:\n",
       "  9  -1   9  -5  -3  3\n",
       "  7  -9  -4   8   0  9\n",
       " 10  10   9   4  10  2"
      ]
     },
     "execution_count": 36,
     "metadata": {},
     "output_type": "execute_result"
    }
   ],
   "source": [
    "# Create a new vector with only the columns of A given by the `pick` variable\n",
    "# Note that since `pick` is a 2D vector (row vector), we use [:] before indexing\n",
    "B = A[:, pick[:]]"
   ]
  },
  {
   "cell_type": "markdown",
   "metadata": {
    "slideshow": {
     "slide_type": "slide"
    }
   },
   "source": [
    "### Examples: Simplifying the Sieve of Eratosthenes function\n",
    "\n",
    "In our previous implementation, we used the code below to collect all the prime numbers:\n",
    "```julia\n",
    "    ...\n",
    "    # Return an array with all prime numbers\n",
    "    primes = Int64[]\n",
    "    for i = 2:n\n",
    "        if prime[i]\n",
    "            push!(primes, i)\n",
    "        end\n",
    "    end\n",
    "    primes\n",
    "    ...\n",
    "```\n",
    "Using array comprehensions, we can replace this entire part of the code by a single line:\n",
    "```julia\n",
    "    primes = [ i for i = 2:n if prime[i] ]\n",
    "```\n",
    "or even simpler, since the list of primes is simply the indices of the `true` values in the array `prime`, we can use the `findall` function. However in our original implementation, `prime[1]` was set to `true` (since it was not used) so we have to first make sure the number 1 is not considered a prime. Then the code can be written as:\n",
    "```julia\n",
    "    prime[1] = false\n",
    "    primes = findall(prime)\n",
    "```"
   ]
  },
  {
   "cell_type": "markdown",
   "metadata": {
    "slideshow": {
     "slide_type": "slide"
    }
   },
   "source": [
    "### Example: Simplifying the dart-throwing function\n",
    "\n",
    "We previously used the following code to count the number of \"hits\", that is, how many points in the vectors `x`,`y` are inside the unit circle:\n",
    "```julia\n",
    "# Determine if points are inside the circle (a \"hit\")\n",
    "hits = 0\n",
    "for i = 1:n\n",
    "    if x[i]^2 + y[i]^2 ≤ 1\n",
    "        hits += 1\n",
    "    end\n",
    "end\n",
    "```\n",
    "Using the `count` function, this can be written as a single line of code:\n",
    "```julia\n",
    "hits = count(@. x^2 + y^2 ≤ 1)\n",
    "```"
   ]
  },
  {
   "cell_type": "markdown",
   "metadata": {
    "slideshow": {
     "slide_type": "slide"
    }
   },
   "source": [
    "### Example: Simplifying the poker hand flush code\n",
    "\n",
    "When simulating the poker hands, we used the following code to determine if all cards were of the same suit:\n",
    "```julia\n",
    "    same_suit = true\n",
    "    for i = 2:5\n",
    "        if suits[i] ≠ suits[1]\n",
    "            same_suit = false\n",
    "            break\n",
    "        end\n",
    "    end\n",
    "```\n",
    "Using the `all` function, this can be simplified to a single line of code:\n",
    "```julia\n",
    "    same_suit = all(suits[2:5] .== suits[1])\n",
    "```"
   ]
  }
 ],
 "metadata": {
  "kernelspec": {
   "display_name": "Julia 1.3.0",
   "language": "julia",
   "name": "julia-1.3"
  },
  "language_info": {
   "file_extension": ".jl",
   "mimetype": "application/julia",
   "name": "julia",
   "version": "1.3.0"
  }
 },
 "nbformat": 4,
 "nbformat_minor": 2
}
