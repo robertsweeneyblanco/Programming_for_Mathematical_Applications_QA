{
 "cells": [
  {
   "cell_type": "markdown",
   "metadata": {
    "slideshow": {
     "slide_type": "slide"
    }
   },
   "source": [
    "# Matrix operations, linear algebra"
   ]
  },
  {
   "cell_type": "markdown",
   "metadata": {
    "slideshow": {
     "slide_type": "slide"
    }
   },
   "source": [
    "### Vectors and matrices\n",
    "\n",
    "We have already seen how to create 1D and 2D arrays in Julia. These can be naturally used to represent vectors and matrices:"
   ]
  },
  {
   "cell_type": "code",
   "execution_count": 1,
   "metadata": {
    "slideshow": {
     "slide_type": "fragment"
    }
   },
   "outputs": [
    {
     "data": {
      "text/plain": [
       "3-element Array{Float64,1}:\n",
       " -0.021772996308672583\n",
       " -1.1931325025911688  \n",
       "  1.6158391973078738  "
      ]
     },
     "execution_count": 1,
     "metadata": {},
     "output_type": "execute_result"
    }
   ],
   "source": [
    "x = randn(3)   # Random vector"
   ]
  },
  {
   "cell_type": "code",
   "execution_count": 2,
   "metadata": {
    "slideshow": {
     "slide_type": "fragment"
    }
   },
   "outputs": [
    {
     "data": {
      "text/plain": [
       "3×3 Array{Float64,2}:\n",
       "  0.0577623  -1.34468    0.3378   \n",
       " -0.240045   -0.468172  -2.62513  \n",
       " -0.198912   -0.862207   0.0531239"
      ]
     },
     "execution_count": 2,
     "metadata": {},
     "output_type": "execute_result"
    }
   ],
   "source": [
    "A = randn(3,3) # Random matrix"
   ]
  },
  {
   "cell_type": "markdown",
   "metadata": {
    "slideshow": {
     "slide_type": "slide"
    }
   },
   "source": [
    "### Matrix operations\n",
    "\n",
    "Julia also defines common matrix operations for arrays, some in the base library and some in the `LinearAlgebra` package."
   ]
  },
  {
   "cell_type": "code",
   "execution_count": 3,
   "metadata": {
    "slideshow": {
     "slide_type": "fragment"
    }
   },
   "outputs": [],
   "source": [
    "using LinearAlgebra"
   ]
  },
  {
   "cell_type": "markdown",
   "metadata": {
    "slideshow": {
     "slide_type": "subslide"
    }
   },
   "source": [
    "For example addition, subtraction, and scalar multiplication work as expected:"
   ]
  },
  {
   "cell_type": "code",
   "execution_count": 4,
   "metadata": {
    "slideshow": {
     "slide_type": "fragment"
    }
   },
   "outputs": [
    {
     "data": {
      "text/plain": [
       "3-element Array{Float64,1}:\n",
       " -2.746128145913699 \n",
       "  0.6238207409805658\n",
       "  7.5441095073109015"
      ]
     },
     "execution_count": 4,
     "metadata": {},
     "output_type": "execute_result"
    }
   ],
   "source": [
    "y = randn(3)\n",
    "x - 3y"
   ]
  },
  {
   "cell_type": "markdown",
   "metadata": {
    "slideshow": {
     "slide_type": "fragment"
    }
   },
   "source": [
    "Note that this happens to be the same operation as the corresponding *elementwise* operation `x .- 3y`, because of the definition of vector addition. However, if you try to multiply two vectors\n",
    "\n",
    "```julia\n",
    "z = x * y   # Error - cannot multiply two vectors\n",
    "```\n",
    "\n",
    "you get an error. Use can use the `dot` function or the $\\cdot$ syntax (type `\\cdot` and tab) to compute dot products:"
   ]
  },
  {
   "cell_type": "code",
   "execution_count": 5,
   "metadata": {
    "slideshow": {
     "slide_type": "fragment"
    }
   },
   "outputs": [
    {
     "data": {
      "text/plain": [
       "-2.4901943143871237"
      ]
     },
     "execution_count": 5,
     "metadata": {},
     "output_type": "execute_result"
    }
   ],
   "source": [
    "x_dot_y_1 = dot(x,y)   # Dot product\n",
    "x_dot_y_2 = x ⋅ y      # Same thing"
   ]
  },
  {
   "cell_type": "markdown",
   "metadata": {
    "slideshow": {
     "slide_type": "subslide"
    }
   },
   "source": [
    "For the special case of vectors of length 3, Julia also defines the cross product:"
   ]
  },
  {
   "cell_type": "code",
   "execution_count": 6,
   "metadata": {
    "slideshow": {
     "slide_type": "fragment"
    }
   },
   "outputs": [
    {
     "data": {
      "text/plain": [
       "3-element Array{Float64,1}:\n",
       " 3.336372087216575 \n",
       " 1.4243478768476163\n",
       " 1.096692397953567 "
      ]
     },
     "execution_count": 6,
     "metadata": {},
     "output_type": "execute_result"
    }
   ],
   "source": [
    "x_cross_y = cross(x,y)"
   ]
  },
  {
   "cell_type": "markdown",
   "metadata": {
    "slideshow": {
     "slide_type": "slide"
    }
   },
   "source": [
    "The 2-norm of a vector can be calculated using the `norm` function:"
   ]
  },
  {
   "cell_type": "code",
   "execution_count": 7,
   "metadata": {
    "slideshow": {
     "slide_type": "fragment"
    }
   },
   "outputs": [
    {
     "data": {
      "text/plain": [
       "0.0"
      ]
     },
     "execution_count": 7,
     "metadata": {},
     "output_type": "execute_result"
    }
   ],
   "source": [
    "a = norm(x)                 # 2-norm of x\n",
    "b = sqrt(sum(abs.(x).^2))   # Should be the same\n",
    "a - b                       # Confirm"
   ]
  },
  {
   "cell_type": "markdown",
   "metadata": {
    "slideshow": {
     "slide_type": "fragment"
    }
   },
   "source": [
    "More generally, the `norm` function takes a second argument `p` in which case it computes the $p$-norm:\n",
    "\n",
    "$$\n",
    "\\|A\\|_p = \\left( \\sum_{i=1}^n | a_i | ^p \\right)^{1/p}\n",
    "$$\n",
    "\n",
    "This includes the so-called max-norm, by setting `p` to `Inf`."
   ]
  },
  {
   "cell_type": "markdown",
   "metadata": {
    "slideshow": {
     "slide_type": "slide"
    }
   },
   "source": [
    "### Matrix multiplication\n",
    "\n",
    "Matrix multiplication is performed using the `*` operator. Recall the definition of the product of two matrices $C=AB$ where $A$ is $m$-by-$k$, $B$ is $k$-by-$n$, and $C$ is $m$-by-$n$: \n",
    "\n",
    "$$\n",
    "C_{ij} = \\sum_{\\ell=1}^k A_{i\\ell} B_{\\ell j},\\qquad\\text{ for }i=1,\\ldots,m\\text{ and }j=1,\\ldots,n\n",
    "$$\n",
    "\n",
    "If the \"middle dimensions\" ($k$ in the example above) do not match, Julia gives an error."
   ]
  },
  {
   "cell_type": "code",
   "execution_count": 8,
   "metadata": {
    "slideshow": {
     "slide_type": "fragment"
    }
   },
   "outputs": [
    {
     "data": {
      "text/plain": [
       "4×3 Array{Float64,2}:\n",
       " -0.341603   -2.17688   -0.631939\n",
       " -0.0467917  -2.11816   -1.3882  \n",
       "  0.0630553   0.108865  -2.23194 \n",
       " -0.0452437   0.700564   2.31513 "
      ]
     },
     "execution_count": 8,
     "metadata": {},
     "output_type": "execute_result"
    }
   ],
   "source": [
    "B = randn(4,3)\n",
    "C = B*A     # OK, since B is 4-by-3 and A is 3-by-3"
   ]
  },
  {
   "cell_type": "markdown",
   "metadata": {
    "slideshow": {
     "slide_type": "subslide"
    }
   },
   "source": [
    "Note that unlike addition and subtraction, matrix multiplication is completely different from elementwise multiplication:"
   ]
  },
  {
   "cell_type": "code",
   "execution_count": 9,
   "metadata": {
    "slideshow": {
     "slide_type": "fragment"
    }
   },
   "outputs": [
    {
     "data": {
      "text/plain": [
       "3×3 Array{Float64,2}:\n",
       " -0.25559    1.54754   -3.4533 \n",
       " -0.563065  -2.58619    5.88285\n",
       " -0.145346   0.118072  -2.19622"
      ]
     },
     "execution_count": 9,
     "metadata": {},
     "output_type": "execute_result"
    }
   ],
   "source": [
    "AA = A*A     # Square of matrix\n",
    "A2 = A.*A    # Square of each entry in matrix\n",
    "A2 - AA      # These are not the same"
   ]
  },
  {
   "cell_type": "markdown",
   "metadata": {
    "slideshow": {
     "slide_type": "subslide"
    }
   },
   "source": [
    "Similarly, the power `^` operator will compute *matrix powers*, not elementwise powers:"
   ]
  },
  {
   "cell_type": "code",
   "execution_count": 10,
   "metadata": {
    "slideshow": {
     "slide_type": "fragment"
    }
   },
   "outputs": [
    {
     "data": {
      "text/plain": [
       "3×3 Array{Complex{Float64},2}:\n",
       " -0.207366-0.815999im  -1.32916-3.24675im    2.9191-4.18515im\n",
       "  0.171307-1.36995im    1.01232-5.45083im  -2.23925-7.02627im\n",
       " -0.092465-0.681746im  -0.52618-2.71258im   1.16802-3.49659im"
      ]
     },
     "execution_count": 10,
     "metadata": {},
     "output_type": "execute_result"
    }
   ],
   "source": [
    "A_to_the_power_of_2 = A^2       # Same as A*A\n",
    "A_to_the_power_of_3_5 = A^3.5   # A^3.5, much harder to compute!"
   ]
  },
  {
   "cell_type": "markdown",
   "metadata": {
    "slideshow": {
     "slide_type": "fragment"
    }
   },
   "source": [
    "Note that Julia automatically returns a matrix of complex numbers when needed (even if the input matrix was real)."
   ]
  },
  {
   "cell_type": "markdown",
   "metadata": {
    "slideshow": {
     "slide_type": "slide"
    }
   },
   "source": [
    "### Matrix transpose\n",
    "\n",
    "Matrices can be transposed using the `transpose` function, or conjugate transposed using the `adjoint` function or the convenient `'` syntax: "
   ]
  },
  {
   "cell_type": "code",
   "execution_count": 11,
   "metadata": {
    "slideshow": {
     "slide_type": "fragment"
    }
   },
   "outputs": [
    {
     "data": {
      "text/plain": [
       "3×4 Array{Float64,2}:\n",
       "  0.0673377  -0.941458  -1.58155    1.64532\n",
       " -4.14456    -0.154658   2.78497   -2.31816\n",
       " -0.328539   -0.914381  -0.907507   1.08381"
      ]
     },
     "execution_count": 11,
     "metadata": {},
     "output_type": "execute_result"
    }
   ],
   "source": [
    "BT = transpose(B)     # B is 4-by-3, so BT is 3-by-4\n",
    "BT2 = B'              # Same thing (since B is real so conjugate does not matter)\n",
    "\n",
    "A * B'                # Well-defined, since A is 3-by-3 and B' is 3-by-4"
   ]
  },
  {
   "cell_type": "markdown",
   "metadata": {
    "slideshow": {
     "slide_type": "fragment"
    }
   },
   "source": [
    "Since the dot product between two vectors can be written as $z = x^*y$ (conjugate transpose of $x$), matrix multiplication can be used to provide an alternative syntax:"
   ]
  },
  {
   "cell_type": "code",
   "execution_count": 12,
   "metadata": {
    "slideshow": {
     "slide_type": "fragment"
    }
   },
   "outputs": [
    {
     "data": {
      "text/plain": [
       "-2.4901943143871237"
      ]
     },
     "execution_count": 12,
     "metadata": {},
     "output_type": "execute_result"
    }
   ],
   "source": [
    "x_dot_y_3 = x' * y"
   ]
  },
  {
   "cell_type": "markdown",
   "metadata": {
    "slideshow": {
     "slide_type": "slide"
    }
   },
   "source": [
    "In all these examples, the vectors `x` and `y` have been 1D arrays. It is also possible to use 2D arrays (or matrices) to represent vectors, which allows for both column- and row-vectors:"
   ]
  },
  {
   "cell_type": "code",
   "execution_count": 13,
   "metadata": {
    "slideshow": {
     "slide_type": "fragment"
    }
   },
   "outputs": [
    {
     "data": {
      "text/plain": [
       "1×3 Array{Float64,2}:\n",
       " -0.491693  -0.557039  0.866311"
      ]
     },
     "execution_count": 13,
     "metadata": {},
     "output_type": "execute_result"
    }
   ],
   "source": [
    "a = randn(3,1)   # Column vector\n",
    "b = randn(1,3)   # Row vector"
   ]
  },
  {
   "cell_type": "markdown",
   "metadata": {
    "slideshow": {
     "slide_type": "fragment"
    }
   },
   "source": [
    "Note that `a' * b` is now invalid because of the dimensions. One option is to do `a' * b'`, but it is generally safer to use the `dot` function to compute the dot product:"
   ]
  },
  {
   "cell_type": "code",
   "execution_count": 14,
   "metadata": {
    "slideshow": {
     "slide_type": "fragment"
    }
   },
   "outputs": [
    {
     "data": {
      "text/plain": [
       "-0.3912342051292812"
      ]
     },
     "execution_count": 14,
     "metadata": {},
     "output_type": "execute_result"
    }
   ],
   "source": [
    "a_dot_b = dot(a,b)"
   ]
  },
  {
   "cell_type": "markdown",
   "metadata": {
    "slideshow": {
     "slide_type": "slide"
    }
   },
   "source": [
    "### Special matrices\n",
    "\n",
    "The 2D arrays shown above have been general, that is, that can be used to represent arbitrary matrices. Many applications lead to matrices with special structures or properties, and Julia defines a number of specialized matrix representations for this. The main reason for using these is to obtain better performance (which can make a very big difference), but they are also useful to e.g. ensure correctness of codes by enforcing known properties.\n",
    "\n",
    "\n",
    "| Type                | Description                                                                                   |\n",
    "|:------------------- |:--------------------------------------------------------------------------------------------- |\n",
    "| Symmetric           | [Symmetric matrix](https://en.wikipedia.org/wiki/Symmetric_matrix)                            |\n",
    "| Hermitian           | [Hermitian matrix](https://en.wikipedia.org/wiki/Hermitian_matrix)                            |\n",
    "| UpperTriangular     | Upper [triangular matrix](https://en.wikipedia.org/wiki/Triangular_matrix)                    |\n",
    "| UnitUpperTriangular | Upper [triangular matrix](https://en.wikipedia.org/wiki/Triangular_matrix) with unit diagonal |\n",
    "| LowerTriangular     | Lower [triangular matrix](https://en.wikipedia.org/wiki/Triangular_matrix)                    |\n",
    "| UnitLowerTriangular | Lower [triangular matrix](https://en.wikipedia.org/wiki/Triangular_matrix) with unit diagonal |\n",
    "| Tridiagonal         | [Tridiagonal matrix](https://en.wikipedia.org/wiki/Tridiagonal_matrix)                        |\n",
    "| SymTridiagonal      | Symmetric tridiagonal matrix                                                                  |\n",
    "| Bidiagonal          | Upper/lower [bidiagonal matrix](https://en.wikipedia.org/wiki/Bidiagonal_matrix)              |\n",
    "| Diagonal            | [Diagonal matrix](https://en.wikipedia.org/wiki/Diagonal_matrix)                              |\n",
    "| UniformScaling      | [Uniform scaling operator](https://en.wikipedia.org/wiki/Uniform_scaling)                     |"
   ]
  },
  {
   "cell_type": "markdown",
   "metadata": {
    "slideshow": {
     "slide_type": "slide"
    }
   },
   "source": [
    "For example, if you know that your matrix is both symmetric and tridiagonal, you can use the `SymTridiagonal` type. The example below shows how to generate a famous matrix which is very common in applications:"
   ]
  },
  {
   "cell_type": "code",
   "execution_count": 15,
   "metadata": {
    "slideshow": {
     "slide_type": "fragment"
    }
   },
   "outputs": [
    {
     "data": {
      "text/plain": [
       "5×5 SymTridiagonal{Float64,Array{Float64,1}}:\n",
       "  2.0  -1.0    ⋅     ⋅     ⋅ \n",
       " -1.0   2.0  -1.0    ⋅     ⋅ \n",
       "   ⋅   -1.0   2.0  -1.0    ⋅ \n",
       "   ⋅     ⋅   -1.0   2.0  -1.0\n",
       "   ⋅     ⋅     ⋅   -1.0   2.0"
      ]
     },
     "execution_count": 15,
     "metadata": {},
     "output_type": "execute_result"
    }
   ],
   "source": [
    "T = SymTridiagonal(2ones(5), -ones(4))"
   ]
  },
  {
   "cell_type": "markdown",
   "metadata": {
    "slideshow": {
     "slide_type": "subslide"
    }
   },
   "source": [
    "The matrix operations defined above will work just as before on these specialized types, but likely be much more efficient. For example:"
   ]
  },
  {
   "cell_type": "code",
   "execution_count": 16,
   "metadata": {
    "slideshow": {
     "slide_type": "fragment"
    }
   },
   "outputs": [
    {
     "data": {
      "text/plain": [
       "5×5 Array{Float64,2}:\n",
       "  14.0  -14.0    6.0   -1.0    0.0\n",
       " -14.0   20.0  -15.0    6.0   -1.0\n",
       "   6.0  -15.0   20.0  -15.0    6.0\n",
       "  -1.0    6.0  -15.0   20.0  -14.0\n",
       "   0.0   -1.0    6.0  -14.0   14.0"
      ]
     },
     "execution_count": 16,
     "metadata": {},
     "output_type": "execute_result"
    }
   ],
   "source": [
    "T * randn(5)     # Matrix-vector multiplication\n",
    "T^3              # Matrix cube"
   ]
  },
  {
   "cell_type": "markdown",
   "metadata": {
    "slideshow": {
     "slide_type": "slide"
    }
   },
   "source": [
    "### The identity matrix\n",
    "\n",
    "The identity matrix $I$ is so commonly used, that it has a special syntax which supports some additional performance improvements. In its simplest form, you can simply use the `I` operator and it will behave as expected:"
   ]
  },
  {
   "cell_type": "code",
   "execution_count": 17,
   "metadata": {
    "slideshow": {
     "slide_type": "fragment"
    }
   },
   "outputs": [
    {
     "data": {
      "text/plain": [
       "5×5 SymTridiagonal{Float64,Array{Float64,1}}:\n",
       "  4.0  -1.0    ⋅     ⋅     ⋅ \n",
       " -1.0   4.0  -1.0    ⋅     ⋅ \n",
       "   ⋅   -1.0   4.0  -1.0    ⋅ \n",
       "   ⋅     ⋅   -1.0   4.0  -1.0\n",
       "   ⋅     ⋅     ⋅   -1.0   4.0"
      ]
     },
     "execution_count": 17,
     "metadata": {},
     "output_type": "execute_result"
    }
   ],
   "source": [
    "T + 2I     # OK, since T is 3-by-3"
   ]
  },
  {
   "cell_type": "markdown",
   "metadata": {
    "slideshow": {
     "slide_type": "subslide"
    }
   },
   "source": [
    "If you want to actually create an identity matrix, you have to specify the element type and the dimensions:"
   ]
  },
  {
   "cell_type": "code",
   "execution_count": 18,
   "metadata": {
    "slideshow": {
     "slide_type": "fragment"
    }
   },
   "outputs": [
    {
     "data": {
      "text/plain": [
       "4×4 Array{Float64,2}:\n",
       " 1.0  0.0  0.0  0.0\n",
       " 0.0  1.0  0.0  0.0\n",
       " 0.0  0.0  1.0  0.0\n",
       " 0.0  0.0  0.0  1.0"
      ]
     },
     "execution_count": 18,
     "metadata": {},
     "output_type": "execute_result"
    }
   ],
   "source": [
    "I4 = Matrix{Float64}(I, 4, 4)"
   ]
  },
  {
   "cell_type": "markdown",
   "metadata": {
    "slideshow": {
     "slide_type": "fragment"
    }
   },
   "source": [
    "but this is often not necessary since the `I` operator can be used in expressions, as shown above."
   ]
  },
  {
   "cell_type": "markdown",
   "metadata": {
    "slideshow": {
     "slide_type": "slide"
    }
   },
   "source": [
    "## Linear systems\n",
    "\n",
    "One of the most common uses of matrices is for solving linear systems of equations. Julia uses the backslash operator `\\` for this:"
   ]
  },
  {
   "cell_type": "code",
   "execution_count": 19,
   "metadata": {
    "slideshow": {
     "slide_type": "fragment"
    }
   },
   "outputs": [
    {
     "data": {
      "text/plain": [
       "true"
      ]
     },
     "execution_count": 19,
     "metadata": {},
     "output_type": "execute_result"
    }
   ],
   "source": [
    "A = [1 2; 3 4]\n",
    "b = [5,1]\n",
    "x = A \\ b         # Solve Ax = b for x\n",
    "A*x == b        # Confirm solution is correct"
   ]
  },
  {
   "cell_type": "markdown",
   "metadata": {
    "slideshow": {
     "slide_type": "subslide"
    }
   },
   "source": [
    "One way to view the syntax `A\\b` is that it multiplies by `A`-inverse from the left, but using much more efficient and accurate algorithms.\n",
    "\n",
    "For systems with many right-hand side vectors `b`, the `\\` operator also works with matrices:"
   ]
  },
  {
   "cell_type": "code",
   "execution_count": 20,
   "metadata": {
    "slideshow": {
     "slide_type": "fragment"
    }
   },
   "outputs": [
    {
     "data": {
      "text/plain": [
       "true"
      ]
     },
     "execution_count": 20,
     "metadata": {},
     "output_type": "execute_result"
    }
   ],
   "source": [
    "B = [5 7; 1 -3]\n",
    "X = A \\ B          # Solve for two RHS vectors\n",
    "A*X == B"
   ]
  },
  {
   "cell_type": "markdown",
   "metadata": {
    "slideshow": {
     "slide_type": "slide"
    }
   },
   "source": [
    "The algorithm used by the `\\` operator is typically Gaussian elimination, but the details are quite complex depending on the type of matrices involved. Due to the high cost of general Gaussian elimination, it can make a big difference if you use a specialized matrix type:"
   ]
  },
  {
   "cell_type": "code",
   "execution_count": 21,
   "metadata": {
    "slideshow": {
     "slide_type": "fragment"
    }
   },
   "outputs": [
    {
     "name": "stdout",
     "output_type": "stream",
     "text": [
      "  0.039093 seconds (120.81 k allocations: 6.057 MiB, 11.71% gc time)\n",
      "  0.000058 seconds (6 allocations: 63.047 KiB)\n",
      "  0.000050 seconds (6 allocations: 63.047 KiB)\n",
      "  0.289975 seconds (377.20 k allocations: 48.851 MiB, 18.46% gc time)\n",
      "  0.161816 seconds (6 allocations: 30.564 MiB, 26.19% gc time)\n",
      "  0.121922 seconds (6 allocations: 30.564 MiB, 1.86% gc time)\n"
     ]
    }
   ],
   "source": [
    "n = 2000\n",
    "T = SymTridiagonal(2ones(n), -ones(n))     # n-by-n symmetric tridiagonal\n",
    "\n",
    "for rep = 1:3 @time T \\ randn(n) end       # Very fast since T is a SymTridiagonal\n",
    "Tfull = Matrix(T)                          # Convert T to a full 2D array\n",
    "for rep = 1:3 @time Tfull \\ randn(n) end   # Now \\ is magnitudes slower"
   ]
  },
  {
   "cell_type": "markdown",
   "metadata": {
    "slideshow": {
     "slide_type": "slide"
    }
   },
   "source": [
    "The matrix `A` in `A\\b` can also be rectangular, in which case a minimum-norm least squares solution is computed."
   ]
  },
  {
   "cell_type": "markdown",
   "metadata": {
    "slideshow": {
     "slide_type": "fragment"
    }
   },
   "source": [
    "### Example: Linear regression\n",
    "\n",
    "Suppose you want to approximate a set of $n$ points $(x_i,y_i)$, $i=1,\\ldots,n$, by a straight line. The *least squares approximation* $y=a + bx$ is given by the least-squares solution of the following over-determined system:\n",
    "\n",
    "$$\n",
    "\\begin{pmatrix}\n",
    "1 & x_1 \\\\\n",
    "1 & x_2 \\\\\n",
    "\\vdots & \\vdots \\\\\n",
    "1 & x_n\n",
    "\\end{pmatrix}\n",
    "\\begin{pmatrix}\n",
    "a \\\\ b\n",
    "\\end{pmatrix}=\n",
    "\\begin{pmatrix}\n",
    "y_1 \\\\ y_2 \\\\ \\vdots \\\\ y_n\n",
    "\\end{pmatrix}\n",
    "$$"
   ]
  },
  {
   "cell_type": "code",
   "execution_count": 22,
   "metadata": {
    "slideshow": {
     "slide_type": "slide"
    }
   },
   "outputs": [
    {
     "data": {
      "image/png": "[encoded data removed]",
      "text/plain": [
       "Figure(PyObject <Figure size 640x480 with 1 Axes>)"
      ]
     },
     "metadata": {},
     "output_type": "display_data"
    }
   ],
   "source": [
    "x = 0:0.1:10\n",
    "n = length(x)\n",
    "y = 3x .- 2 + randn(n)     # Example data: straight line with noise\n",
    "\n",
    "A = [ones(n) x]            # LHS\n",
    "ab = A \\ y                 # Least-squares solution\n",
    "\n",
    "using PyPlot\n",
    "xplot = 0:10;\n",
    "yplot = @. ab[1] + ab[2] * xplot\n",
    "plot(x,y,\".\")\n",
    "plot(xplot, yplot, \"r\");"
   ]
  },
  {
   "cell_type": "markdown",
   "metadata": {
    "slideshow": {
     "slide_type": "slide"
    }
   },
   "source": [
    "### Other matrix operations\n",
    "\n",
    "The `LinearAlgebra` package defines many other common matrix operations. For example, determinant, trace, and inverse matrix (but note that inverse matrices are often inefficient and ill-conditioned, use `\\` instead for solving linear systems):"
   ]
  },
  {
   "cell_type": "code",
   "execution_count": 23,
   "metadata": {
    "slideshow": {
     "slide_type": "fragment"
    }
   },
   "outputs": [
    {
     "name": "stdout",
     "output_type": "stream",
     "text": [
      "det(A) = 2.8687593898057506\n",
      "tr(A) = 1.6278039667977091\n",
      "inv(A) = [0.173381 0.536201 -0.102944; 0.320358 -0.6258 0.809713; -0.118417 -0.427549 -1.13546]\n"
     ]
    }
   ],
   "source": [
    "A = randn(3,3)\n",
    "println(\"det(A) = \", det(A))\n",
    "println(\"tr(A) = \", tr(A))\n",
    "println(\"inv(A) = \", inv(A))"
   ]
  },
  {
   "cell_type": "markdown",
   "metadata": {
    "slideshow": {
     "slide_type": "subslide"
    }
   },
   "source": [
    "Eigenvalues and eigenvectors can be computed using the functions `eigvals` and `eigvects`. Note that the output of these functions is in general complex, even though the matrices are real."
   ]
  },
  {
   "cell_type": "code",
   "execution_count": 24,
   "metadata": {
    "slideshow": {
     "slide_type": "fragment"
    }
   },
   "outputs": [
    {
     "data": {
      "text/plain": [
       "3-element Array{Float64,1}:\n",
       " -2.819664990699433 \n",
       "  0.5695543688069462\n",
       "  0.4618240881114363"
      ]
     },
     "execution_count": 24,
     "metadata": {},
     "output_type": "execute_result"
    }
   ],
   "source": [
    "A = randn(3,3)\n",
    "lambda = eigvals(A)     # Eigenvalues"
   ]
  },
  {
   "cell_type": "code",
   "execution_count": 25,
   "metadata": {
    "slideshow": {
     "slide_type": "fragment"
    }
   },
   "outputs": [
    {
     "data": {
      "text/plain": [
       "3×3 Array{Float64,2}:\n",
       "  0.747638  -0.900207   -0.93696 \n",
       " -0.169621  -0.0649532  -0.165563\n",
       " -0.642079  -0.430591   -0.307724"
      ]
     },
     "execution_count": 25,
     "metadata": {},
     "output_type": "execute_result"
    }
   ],
   "source": [
    "X = eigvecs(A)          # Eigenvectors"
   ]
  },
  {
   "cell_type": "code",
   "execution_count": 26,
   "metadata": {
    "slideshow": {
     "slide_type": "fragment"
    }
   },
   "outputs": [
    {
     "data": {
      "text/plain": [
       "2.0930285233966152e-15"
      ]
     },
     "execution_count": 26,
     "metadata": {},
     "output_type": "execute_result"
    }
   ],
   "source": [
    "norm(A*X - X*Diagonal(lambda))     # Confirm A*X = X*LAMBDA"
   ]
  },
  {
   "cell_type": "markdown",
   "metadata": {
    "slideshow": {
     "slide_type": "slide"
    }
   },
   "source": [
    "### Example: Eigenvalues of random matrices\n",
    "\n",
    "Random matrix theory studies the distribution of the eigenvalues of certain classes of randomly generated matrices, which have many important applications. For example, matrices with entries from the normal distribution can be shown to have eigenvalues concentrated inside a circle in the complex plane:"
   ]
  },
  {
   "cell_type": "code",
   "execution_count": 27,
   "metadata": {
    "slideshow": {
     "slide_type": "subslide"
    }
   },
   "outputs": [
    {
     "data": {
      "image/png": "[encoded data removed]",
      "text/plain": [
       "Figure(PyObject <Figure size 640x480 with 1 Axes>)"
      ]
     },
     "metadata": {},
     "output_type": "display_data"
    }
   ],
   "source": [
    "n = 1000\n",
    "A = randn(n,n)\n",
    "l = eigvals(A)\n",
    "plot(real(l), imag(l), \".\")\n",
    "axis(\"equal\");\n",
    "# Draw circle\n",
    "radius = sqrt(n)\n",
    "phi = 2π*(0:100)/100\n",
    "plot(radius*cos.(phi), radius*sin.(phi));"
   ]
  },
  {
   "cell_type": "markdown",
   "metadata": {
    "slideshow": {
     "slide_type": "slide"
    }
   },
   "source": [
    "### Other data types\n",
    "\n",
    "We already saw how matrix operations can be performed on complex numbers. Many operations are also defined for rational numbers, which allows for exact linear algebra computations:"
   ]
  },
  {
   "cell_type": "code",
   "execution_count": 28,
   "metadata": {
    "slideshow": {
     "slide_type": "fragment"
    }
   },
   "outputs": [
    {
     "data": {
      "text/plain": [
       "3×3 Array{Rational{Int64},2}:\n",
       " -5//9   7//10  -1//1 \n",
       "  5//3   4//1    7//8 \n",
       " -5//7  -6//1   -9//10"
      ]
     },
     "metadata": {},
     "output_type": "display_data"
    },
    {
     "data": {
      "text/plain": [
       "3×3 Array{Rational{Int64},2}:\n",
       "   2772//11489  55692//57445    7749//11489\n",
       "   1470//11489   -360//11489   -5950//34467\n",
       " -12000//11489  -6440//11489  -17080//34467"
      ]
     },
     "execution_count": 28,
     "metadata": {},
     "output_type": "execute_result"
    }
   ],
   "source": [
    "num = rand(-10:10, 3, 3)\n",
    "den = rand(1:10, 3, 3)\n",
    "rat = num .// den\n",
    "display(rat)\n",
    "inv(rat)"
   ]
  }
 ],
 "metadata": {
  "kernelspec": {
   "display_name": "Julia 1.3.0",
   "language": "julia",
   "name": "julia-1.3"
  },
  "language_info": {
   "file_extension": ".jl",
   "mimetype": "application/julia",
   "name": "julia",
   "version": "1.3.0"
  }
 },
 "nbformat": 4,
 "nbformat_minor": 2
}
