{
 "cells": [
  {
   "cell_type": "markdown",
   "metadata": {
    "slideshow": {
     "slide_type": "slide"
    }
   },
   "source": [
    "# Matrix Operations"
   ]
  },
  {
   "cell_type": "markdown",
   "metadata": {
    "slideshow": {
     "slide_type": "slide"
    }
   },
   "source": [
    "## Creating Vectors and Matrices\n",
    "\n",
    "We have already seen how to create 1D and 2D arrays in Julia. These can be naturally used to represent vectors and matrices:"
   ]
  },
  {
   "cell_type": "code",
   "execution_count": 1,
   "metadata": {
    "slideshow": {
     "slide_type": "fragment"
    }
   },
   "outputs": [
    {
     "data": {
      "text/plain": [
       "3-element Array{Float64,1}:\n",
       " 1.8043080258368742\n",
       " 1.2729108094256616\n",
       " 0.644310017473172 "
      ]
     },
     "execution_count": 1,
     "metadata": {},
     "output_type": "execute_result"
    }
   ],
   "source": [
    "x = randn(3)   # Random vector"
   ]
  },
  {
   "cell_type": "code",
   "execution_count": 2,
   "metadata": {
    "slideshow": {
     "slide_type": "fragment"
    }
   },
   "outputs": [
    {
     "data": {
      "text/plain": [
       "3×3 Array{Float64,2}:\n",
       "  0.588901  0.167637  -1.15099\n",
       " -0.678913  0.667647  -1.60432\n",
       " -0.787747  2.86609   -1.22371"
      ]
     },
     "execution_count": 2,
     "metadata": {},
     "output_type": "execute_result"
    }
   ],
   "source": [
    "A = randn(3,3) # Random matrix"
   ]
  },
  {
   "cell_type": "markdown",
   "metadata": {
    "slideshow": {
     "slide_type": "slide"
    }
   },
   "source": [
    "## Basic Matrix Operations\n",
    "\n",
    "Julia also defines common matrix operations for arrays, some in the base library and some in the `LinearAlgebra` package."
   ]
  },
  {
   "cell_type": "code",
   "execution_count": 3,
   "metadata": {
    "slideshow": {
     "slide_type": "fragment"
    }
   },
   "outputs": [],
   "source": [
    "using LinearAlgebra"
   ]
  },
  {
   "cell_type": "markdown",
   "metadata": {
    "slideshow": {
     "slide_type": "subslide"
    }
   },
   "source": [
    "For example addition, subtraction, and scalar multiplication work as expected:"
   ]
  },
  {
   "cell_type": "code",
   "execution_count": 4,
   "metadata": {
    "slideshow": {
     "slide_type": "fragment"
    }
   },
   "outputs": [
    {
     "data": {
      "text/plain": [
       "3-element Array{Float64,1}:\n",
       " -2.842435135658006\n",
       "  1.739773813551812\n",
       " -1.242498746492078"
      ]
     },
     "execution_count": 4,
     "metadata": {},
     "output_type": "execute_result"
    }
   ],
   "source": [
    "y = randn(3)\n",
    "x - 3y"
   ]
  },
  {
   "cell_type": "markdown",
   "metadata": {
    "slideshow": {
     "slide_type": "fragment"
    }
   },
   "source": [
    "Note that this happens to be the same operation as the corresponding *elementwise* operation `x .- 3y`, because of the definition of vector addition. However, if you try to multiply two vectors\n",
    "\n",
    "```julia\n",
    "z = x * y   # Error - cannot multiply two vectors\n",
    "```\n",
    "\n",
    "you get an error. Use can use the `dot` function or the $\\cdot$ syntax (type `\\cdot` and tab) to compute dot products:"
   ]
  },
  {
   "cell_type": "code",
   "execution_count": 5,
   "metadata": {
    "slideshow": {
     "slide_type": "fragment"
    }
   },
   "outputs": [
    {
     "data": {
      "text/plain": [
       "3.001856934497898"
      ]
     },
     "execution_count": 5,
     "metadata": {},
     "output_type": "execute_result"
    }
   ],
   "source": [
    "x_dot_y_1 = dot(x,y)   # Dot product\n",
    "x_dot_y_2 = x ⋅ y      # Same thing"
   ]
  },
  {
   "cell_type": "markdown",
   "metadata": {
    "slideshow": {
     "slide_type": "subslide"
    }
   },
   "source": [
    "For the special case of vectors of length 3, Julia also defines the cross product:"
   ]
  },
  {
   "cell_type": "code",
   "execution_count": 6,
   "metadata": {
    "slideshow": {
     "slide_type": "fragment"
    }
   },
   "outputs": [
    {
     "data": {
      "text/plain": [
       "3-element Array{Float64,1}:\n",
       "  0.9008479271055119 \n",
       " -0.13681367615524787\n",
       " -2.2524180880675777 "
      ]
     },
     "execution_count": 6,
     "metadata": {},
     "output_type": "execute_result"
    }
   ],
   "source": [
    "x_cross_y = cross(x,y)"
   ]
  },
  {
   "cell_type": "markdown",
   "metadata": {
    "slideshow": {
     "slide_type": "slide"
    }
   },
   "source": [
    "The 2-norm of a vector can be calculated using the `norm` function:"
   ]
  },
  {
   "cell_type": "code",
   "execution_count": 7,
   "metadata": {
    "slideshow": {
     "slide_type": "fragment"
    }
   },
   "outputs": [
    {
     "data": {
      "text/plain": [
       "0.0"
      ]
     },
     "execution_count": 7,
     "metadata": {},
     "output_type": "execute_result"
    }
   ],
   "source": [
    "a = norm(x)                 # 2-norm of x\n",
    "b = sqrt(sum(abs.(x).^2))   # Should be the same\n",
    "a - b                       # Confirm"
   ]
  },
  {
   "cell_type": "markdown",
   "metadata": {
    "slideshow": {
     "slide_type": "fragment"
    }
   },
   "source": [
    "More generally, the `norm` function takes a second argument `p` in which case it computes the $p$-norm:\n",
    "\n",
    "$$\n",
    "\\|A\\|_p = \\left( \\sum_{i=1}^n | a_i | ^p \\right)^{1/p}\n",
    "$$\n",
    "\n",
    "This includes the so-called max-norm, by setting `p` to `Inf`."
   ]
  },
  {
   "cell_type": "markdown",
   "metadata": {
    "slideshow": {
     "slide_type": "slide"
    }
   },
   "source": [
    "## Matrix Multiplication\n",
    "\n",
    "Matrix multiplication is performed using the `*` operator. Recall the definition of the product of two matrices $C=AB$ where $A$ is $m$-by-$k$, $B$ is $k$-by-$n$, and $C$ is $m$-by-$n$: \n",
    "\n",
    "$$\n",
    "C_{ij} = \\sum_{\\ell=1}^k A_{i\\ell} B_{\\ell j},\\qquad\\text{ for }i=1,\\ldots,m\\text{ and }j=1,\\ldots,n\n",
    "$$\n",
    "\n",
    "If the \"middle dimensions\" ($k$ in the example above) do not match, Julia gives an error."
   ]
  },
  {
   "cell_type": "code",
   "execution_count": 8,
   "metadata": {
    "slideshow": {
     "slide_type": "fragment"
    }
   },
   "outputs": [
    {
     "data": {
      "text/plain": [
       "4×3 Array{Float64,2}:\n",
       "  0.80787   -1.36908    2.86875 \n",
       "  1.9197     0.246358  -1.01032 \n",
       " -0.771649   2.87346    0.985174\n",
       "  0.55624   -0.669925   0.673916"
      ]
     },
     "execution_count": 8,
     "metadata": {},
     "output_type": "execute_result"
    }
   ],
   "source": [
    "B = randn(4,3)\n",
    "C = B*A     # OK, since B is 4-by-3 and A is 3-by-3"
   ]
  },
  {
   "cell_type": "markdown",
   "metadata": {
    "slideshow": {
     "slide_type": "subslide"
    }
   },
   "source": [
    "Note that unlike addition and subtraction, matrix multiplication is completely different from elementwise multiplication:"
   ]
  },
  {
   "cell_type": "code",
   "execution_count": 9,
   "metadata": {
    "slideshow": {
     "slide_type": "fragment"
    }
   },
   "outputs": [
    {
     "data": {
      "text/plain": [
       "3×3 Array{Float64,2}:\n",
       " -0.792876   3.11629  0.863064\n",
       "  0.0502101  4.71194  0.900331\n",
       "  2.0663     9.94022  3.69144 "
      ]
     },
     "execution_count": 9,
     "metadata": {},
     "output_type": "execute_result"
    }
   ],
   "source": [
    "AA = A*A     # Square of matrix\n",
    "A2 = A.*A    # Square of each entry in matrix\n",
    "A2 - AA      # These are not the same"
   ]
  },
  {
   "cell_type": "markdown",
   "metadata": {
    "slideshow": {
     "slide_type": "subslide"
    }
   },
   "source": [
    "Similarly, the power `^` operator will compute *matrix powers*, not elementwise powers:"
   ]
  },
  {
   "cell_type": "code",
   "execution_count": 10,
   "metadata": {
    "slideshow": {
     "slide_type": "fragment"
    }
   },
   "outputs": [
    {
     "data": {
      "text/plain": [
       "3×3 Array{Complex{Float64},2}:\n",
       "    1.57309+1.77636e-15im   5.05275-1.27676e-15im  0.278469+8.88178e-16im\n",
       " -0.0690414+1.9984e-15im    10.6151-3.9968e-15im   -1.34836+5.32907e-15im\n",
       "    3.16091-2.77556e-17im  0.277824-5.32907e-15im    8.8581-1.44329e-15im"
      ]
     },
     "execution_count": 10,
     "metadata": {},
     "output_type": "execute_result"
    }
   ],
   "source": [
    "A_to_the_power_of_2 = A^2       # Same as A*A\n",
    "A_to_the_power_of_3_5 = A^3.5   # A^3.5, much harder to compute!"
   ]
  },
  {
   "cell_type": "markdown",
   "metadata": {
    "slideshow": {
     "slide_type": "fragment"
    }
   },
   "source": [
    "Note that Julia automatically returns a matrix of complex numbers when needed (even if the input matrix was real)."
   ]
  },
  {
   "cell_type": "markdown",
   "metadata": {
    "slideshow": {
     "slide_type": "slide"
    }
   },
   "source": [
    "## Matrix Transpose\n",
    "\n",
    "Matrices can be transposed using the `transpose` function, or conjugate transposed using the `adjoint` function or the convenient `'` syntax: "
   ]
  },
  {
   "cell_type": "code",
   "execution_count": 11,
   "metadata": {
    "slideshow": {
     "slide_type": "fragment"
    }
   },
   "outputs": [
    {
     "data": {
      "text/plain": [
       "3×4 Array{Float64,2}:\n",
       " -0.327447   0.870474  -2.11866   0.20615 \n",
       " -0.447953  -2.63843   -2.23207  -0.244009\n",
       " -3.5218    -5.31322   -3.93732  -1.35757 "
      ]
     },
     "execution_count": 11,
     "metadata": {},
     "output_type": "execute_result"
    }
   ],
   "source": [
    "BT = transpose(B)     # B is 4-by-3, so BT is 3-by-4\n",
    "BT2 = B'              # Same thing (since B is real so conjugate does not matter)\n",
    "\n",
    "A * B'                # Well-defined, since A is 3-by-3 and B' is 3-by-4"
   ]
  },
  {
   "cell_type": "markdown",
   "metadata": {
    "slideshow": {
     "slide_type": "fragment"
    }
   },
   "source": [
    "Since the dot product between two vectors can be written as $z = x^*y$ (conjugate transpose of $x$), matrix multiplication can be used to provide an alternative syntax:"
   ]
  },
  {
   "cell_type": "code",
   "execution_count": 12,
   "metadata": {
    "slideshow": {
     "slide_type": "fragment"
    }
   },
   "outputs": [
    {
     "data": {
      "text/plain": [
       "3.001856934497898"
      ]
     },
     "execution_count": 12,
     "metadata": {},
     "output_type": "execute_result"
    }
   ],
   "source": [
    "x_dot_y_3 = x' * y"
   ]
  },
  {
   "cell_type": "markdown",
   "metadata": {
    "slideshow": {
     "slide_type": "slide"
    }
   },
   "source": [
    "In all these examples, the vectors `x` and `y` have been 1D arrays. It is also possible to use 2D arrays (or matrices) to represent vectors, which allows for both column- and row-vectors:"
   ]
  },
  {
   "cell_type": "code",
   "execution_count": 13,
   "metadata": {
    "slideshow": {
     "slide_type": "fragment"
    }
   },
   "outputs": [
    {
     "data": {
      "text/plain": [
       "1×3 Array{Float64,2}:\n",
       " 0.77621  -0.0556769  -1.19503"
      ]
     },
     "execution_count": 13,
     "metadata": {},
     "output_type": "execute_result"
    }
   ],
   "source": [
    "a = randn(3,1)   # Column vector\n",
    "b = randn(1,3)   # Row vector"
   ]
  },
  {
   "cell_type": "markdown",
   "metadata": {
    "slideshow": {
     "slide_type": "fragment"
    }
   },
   "source": [
    "Note that `a' * b` is now invalid because of the dimensions. One option is to do `a' * b'`, but it is generally safer to use the `dot` function to compute the dot product:"
   ]
  },
  {
   "cell_type": "code",
   "execution_count": 14,
   "metadata": {
    "slideshow": {
     "slide_type": "fragment"
    }
   },
   "outputs": [
    {
     "data": {
      "text/plain": [
       "-0.01179966396371468"
      ]
     },
     "execution_count": 14,
     "metadata": {},
     "output_type": "execute_result"
    }
   ],
   "source": [
    "a_dot_b = dot(a,b)"
   ]
  },
  {
   "cell_type": "markdown",
   "metadata": {},
   "source": [
    "## Other Matrix Operations\n",
    "\n",
    "The `LinearAlgebra` package defines many other common matrix operations. For example, determinant, trace, and inverse matrix (but note that inverse matrices are often inefficient and ill-conditioned, use `\\` instead for solving linear systems):"
   ]
  },
  {
   "cell_type": "code",
   "execution_count": 15,
   "metadata": {},
   "outputs": [
    {
     "name": "stdout",
     "output_type": "stream",
     "text": [
      "det(A) = 0.3704374734218431\n",
      "tr(A) = -0.6347425567702447\n",
      "inv(A) = [-0.95347875018126 1.6652523787071785 0.7985731845981; 0.7406339872995229 -2.815003600706891 -0.39457360187443213; -0.4673978941823733 5.669263906119602 1.5322856332636579]\n"
     ]
    }
   ],
   "source": [
    "A = randn(3,3)\n",
    "println(\"det(A) = \", det(A))\n",
    "println(\"tr(A) = \", tr(A))\n",
    "println(\"inv(A) = \", inv(A))"
   ]
  },
  {
   "cell_type": "markdown",
   "metadata": {},
   "source": [
    "## Eigenvalues and Eigenvectors"
   ]
  },
  {
   "cell_type": "markdown",
   "metadata": {},
   "source": [
    "Eigenvalues and eigenvectors can be computed using the functions `eigvals` and `eigvects`. Note that the output of these functions is in general complex, even though the matrices are real."
   ]
  },
  {
   "cell_type": "code",
   "execution_count": 16,
   "metadata": {},
   "outputs": [
    {
     "data": {
      "text/plain": [
       "3-element Array{Complex{Float64},1}:\n",
       " -1.260720284374532 - 0.9888600557825056im\n",
       " -1.260720284374532 + 0.9888600557825056im\n",
       " 1.0585152586110855 + 0.0im               "
      ]
     },
     "execution_count": 16,
     "metadata": {},
     "output_type": "execute_result"
    }
   ],
   "source": [
    "A = randn(3,3)\n",
    "lambda = eigvals(A)     # Eigenvalues"
   ]
  },
  {
   "cell_type": "code",
   "execution_count": 17,
   "metadata": {},
   "outputs": [
    {
     "data": {
      "text/plain": [
       "3×3 Array{Complex{Float64},2}:\n",
       "   0.169405+0.0925806im    0.169405-0.0925806im  -0.656458+0.0im\n",
       "   0.850646-0.0im          0.850646+0.0im          0.67863+0.0im\n",
       " -0.0492494-0.486526im   -0.0492494+0.486526im    0.329431+0.0im"
      ]
     },
     "execution_count": 17,
     "metadata": {},
     "output_type": "execute_result"
    }
   ],
   "source": [
    "X = eigvecs(A)          # Eigenvectors"
   ]
  },
  {
   "cell_type": "code",
   "execution_count": 18,
   "metadata": {},
   "outputs": [
    {
     "data": {
      "text/plain": [
       "2.836573658775847e-15"
      ]
     },
     "execution_count": 18,
     "metadata": {},
     "output_type": "execute_result"
    }
   ],
   "source": [
    "norm(A*X - X*Diagonal(lambda))     # Confirm A*X = X*LAMBDA"
   ]
  },
  {
   "cell_type": "markdown",
   "metadata": {},
   "source": [
    "The `Diagonal` function above is an example of a special matrix in Julia discussed in the next section."
   ]
  },
  {
   "cell_type": "markdown",
   "metadata": {},
   "source": [
    "## Example: Eigenvalues of Random Matrices\n",
    "\n",
    "Random matrix theory studies the distribution of the eigenvalues of certain classes of randomly generated matrices, which have many important applications. For example, matrices with entries from the normal distribution can be shown to have eigenvalues concentrated inside a circle in the complex plane:"
   ]
  },
  {
   "cell_type": "code",
   "execution_count": 21,
   "metadata": {},
   "outputs": [
    {
     "data": {
      "image/png": "[encoded data removed]",
      "text/plain": [
       "Figure(PyObject <Figure size 640x480 with 1 Axes>)"
      ]
     },
     "metadata": {},
     "output_type": "display_data"
    }
   ],
   "source": [
    "using PyPlot\n",
    "n = 1000\n",
    "A = randn(n,n)\n",
    "l = eigvals(A)\n",
    "plot(real(l), imag(l), \".\")\n",
    "axis(\"equal\");\n",
    "# Draw circle\n",
    "radius = sqrt(n)\n",
    "phi = 2π*(0:100)/100\n",
    "plot(radius*cos.(phi), radius*sin.(phi));"
   ]
  },
  {
   "cell_type": "markdown",
   "metadata": {},
   "source": [
    "## Other data types\n",
    "\n",
    "We already saw how matrix operations can be performed on complex numbers. Many operations are also defined for rational numbers, which allows for exact linear algebra computations:"
   ]
  },
  {
   "cell_type": "code",
   "execution_count": 20,
   "metadata": {},
   "outputs": [
    {
     "data": {
      "text/plain": [
       "3×3 Array{Rational{Int64},2}:\n",
       " -3//1  10//9   1//5\n",
       "  7//5   1//4  -2//1\n",
       "  0//1  -9//2   3//4"
      ]
     },
     "metadata": {},
     "output_type": "display_data"
    },
    {
     "data": {
      "text/plain": [
       "3×3 Array{Rational{Int64},2}:\n",
       " -10575//28813   -2080//28813  -8180//86439\n",
       "  -1260//28813   -2700//28813  -6864//28813\n",
       "  -7560//28813  -16200//28813  -8300//86439"
      ]
     },
     "execution_count": 20,
     "metadata": {},
     "output_type": "execute_result"
    }
   ],
   "source": [
    "num = rand(-10:10, 3, 3)\n",
    "den = rand(1:10, 3, 3)\n",
    "rat = num .// den\n",
    "display(rat)\n",
    "inv(rat)"
   ]
  }
 ],
 "metadata": {
  "kernelspec": {
   "display_name": "Julia 1.3.0",
   "language": "julia",
   "name": "julia-1.3"
  },
  "language_info": {
   "file_extension": ".jl",
   "mimetype": "application/julia",
   "name": "julia",
   "version": "1.3.0"
  }
 },
 "nbformat": 4,
 "nbformat_minor": 2
}
