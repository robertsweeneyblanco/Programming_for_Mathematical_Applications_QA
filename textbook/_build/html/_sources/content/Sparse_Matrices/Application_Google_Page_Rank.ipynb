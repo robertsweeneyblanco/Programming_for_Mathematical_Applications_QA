{
 "cells": [
  {
   "attachments": {},
   "cell_type": "markdown",
   "metadata": {},
   "source": [
    "# Application: Google PageRank\n",
    "\n",
    "PageRank (PR) is an algorithm used by Google Search to rank web pages in their search engine results.\n",
    "It works by counting the number and the quality of links to a page. \n",
    "\n",
    "The PageRanks for an example network are shown below. Page C has a higher PageRank than Page E,\n",
    "even though there are fewer links to C; the one link to C comes from an important page and hence\n",
    "is of high value. \n",
    "\n",
    "![PageRanks-Example.png](pageranks-example.png \"PageRank example\")\n",
    "\n",
    "(from <https://en.wikipedia.org/wiki/PageRank>)"
   ]
  },
  {
   "cell_type": "markdown",
   "metadata": {},
   "source": [
    "## Algorithm\n",
    "\n",
    "The starting point is the *webgraph*, which is a graph where each web page is a vertex, and a link\n",
    "from one to another is an edge. The goal is to determine weights $PR(p_j)$ for each vertex (web page)\n",
    "$p_j$ (*not* for the edges, as in a weighted graph), which can be interpreted as a probability that someone clicking links at random will eventually reach the page. This can be used to derive the simple relationship\n",
    "between these probabilities shown below. Here it is also assumed that the person with probability $1-d$ stops clicking links and chooses a random page, where $d$ is a *damping factor*.\n",
    "\n",
    "$$\n",
    "PR(p_i) = \\frac{1-d}{N} + d \\sum_{p_j \\in M(p_i)} \\frac{PR(p_j)}{L(p_j)}\n",
    "$$\n",
    "\n",
    "$N$ is the total number of web pages, $M(p_i)$ is the set of pages that link *to* page $p_i$,\n",
    "and $L(p_j)$ is the number of outbound links from page $p_j$."
   ]
  },
  {
   "cell_type": "markdown",
   "metadata": {},
   "source": [
    "## Iterative computation\n",
    "\n",
    "We can solve the equation for the PageRanks iteratively, by first writing it\n",
    "in matrix-vector form. Define the (column) vector of all PageRanks\n",
    "$\\boldsymbol{R} =\\left[ PR(p_1), \\ldots, PR(p_N)\\right]$. Then the equation\n",
    "can be written\n",
    "\n",
    "$$\n",
    "\\boldsymbol{R} = d M \\boldsymbol{R} + \\frac{1-d}{N}\\boldsymbol{1} = \\mathrm{rhs}(\\boldsymbol{R}\\,)\n",
    "$$\n",
    "\n",
    "where $\\boldsymbol{1}$ is a vector of all 1's, and $M=(K^{-1}A)^T$ where\n",
    "$A$ is the regular adjancency matrix and $K$ is a diagonal matrix with the\n",
    "outdegrees on the diagonal. A page with no outbound links (such as page\n",
    "A in the example above) is a special case, which can be handled by adding\n",
    "links to all other pages.\n",
    "\n",
    "To solve this equation, we use fixpoint iteration:\n",
    "\n",
    "$$\n",
    "\\boldsymbol{R}^{\\ n+1} = \\mathrm{rhs}(\\boldsymbol{R}^{\\ n})\n",
    "$$\n",
    "\n",
    "until the difference between two iterations is smaller than a tolerance.\n",
    "For initial guess, we can use $\\boldsymbol{R}^{\\ 0} = \\boldsymbol{1} / N$."
   ]
  },
  {
   "cell_type": "markdown",
   "metadata": {},
   "source": [
    "## Example\n",
    "\n",
    "As an example, we reproduce the PageRanks for the graph shown above. First we create\n",
    "the adjancency matrix $A$, including the added links for pages without outbound links:"
   ]
  },
  {
   "cell_type": "code",
   "execution_count": 1,
   "metadata": {},
   "outputs": [
    {
     "data": {
      "image/png": "[encoded data removed]",
      "text/plain": [
       "Figure(PyObject <Figure size 640x480 with 1 Axes>)"
      ]
     },
     "metadata": {},
     "output_type": "display_data"
    }
   ],
   "source": [
    "using PyPlot, SparseArrays\n",
    "rows = [2,3,4,4,5,5,5,6,6,7,7,8,8,9,9,10,11]\n",
    "cols = [3,2,1,2,2,4,6,2,5,2,5,2,5,2,5,5,5]\n",
    "A = sparse(rows, cols, 1, 11, 11)\n",
    "A[sum(A,dims=2)[:] .== 0,:] .= 1  # If a vertex has no outbound edges, all edges to all other vertices\n",
    "spy(A, marker=\".\");"
   ]
  },
  {
   "cell_type": "markdown",
   "metadata": {},
   "source": [
    "Next we implement a function for the algorithm. Note that $K^{-1}A$ is easiest evaluated by dividing the rows of $A$ by the vector of outward links $L$."
   ]
  },
  {
   "cell_type": "code",
   "execution_count": 2,
   "metadata": {},
   "outputs": [
    {
     "data": {
      "text/plain": [
       "pagerank (generic function with 3 methods)"
      ]
     },
     "execution_count": 2,
     "metadata": {},
     "output_type": "execute_result"
    }
   ],
   "source": [
    "function pagerank(A, d=0.85, tol=1e-6)\n",
    "    N = size(A,2)\n",
    "    L = sum(A, dims=2)\n",
    "    M = (A ./ L)'\n",
    "    R = ones(N) / N\n",
    "    while true\n",
    "        newR = d * (M * R) .+ (1 - d) / N\n",
    "        if maximum(abs.(newR - R)) < tol\n",
    "            return newR\n",
    "        end\n",
    "        R = newR\n",
    "    end\n",
    "end"
   ]
  },
  {
   "cell_type": "markdown",
   "metadata": {},
   "source": [
    "Finally we can compute the PageRanks of the example network:"
   ]
  },
  {
   "cell_type": "code",
   "execution_count": 3,
   "metadata": {},
   "outputs": [
    {
     "data": {
      "text/plain": [
       "11-element Vector{Float64}:\n",
       "  3.3\n",
       " 38.4\n",
       " 34.3\n",
       "  3.9\n",
       "  8.1\n",
       "  3.9\n",
       "  1.6\n",
       "  1.6\n",
       "  1.6\n",
       "  1.6\n",
       "  1.6"
      ]
     },
     "execution_count": 3,
     "metadata": {},
     "output_type": "execute_result"
    }
   ],
   "source": [
    "R = pagerank(A, 0.85)\n",
    "round.(100R, digits=1) # Show percentages"
   ]
  }
 ],
 "metadata": {
  "kernelspec": {
   "display_name": "Julia 1.7.0-rc2",
   "language": "julia",
   "name": "julia-1.7"
  },
  "language_info": {
   "file_extension": ".jl",
   "mimetype": "application/julia",
   "name": "julia",
   "version": "1.7.0"
  }
 },
 "nbformat": 4,
 "nbformat_minor": 2
}
