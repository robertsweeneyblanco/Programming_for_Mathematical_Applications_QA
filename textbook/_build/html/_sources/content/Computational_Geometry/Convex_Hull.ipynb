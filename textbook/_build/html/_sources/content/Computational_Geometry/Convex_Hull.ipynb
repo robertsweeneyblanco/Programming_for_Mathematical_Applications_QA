{
 "cells": [
  {
   "cell_type": "markdown",
   "metadata": {},
   "source": [
    "# Convex Hull"
   ]
  },
  {
   "cell_type": "markdown",
   "metadata": {
    "slideshow": {
     "slide_type": "slide"
    }
   },
   "source": [
    "## Point representation\n",
    "\n",
    "The first geometric entity to consider is a point. Here we will consider planar problems, so a point can be represented by its $(x,y)$ coordinates, as two `Float64` numbers in Julia. Here we will simply use a vector with 2 elements.\n",
    "\n",
    "To store a *collection of points*, we could store the $(x,y)$ coordinates as the columns or the rows of a 2D array. However, we will instead use an *array of arrays*, that is, a 1D array of all the points as 1D arrays $(x,y)$. This simplifies some of the algorithms."
   ]
  },
  {
   "cell_type": "code",
   "execution_count": 1,
   "metadata": {
    "slideshow": {
     "slide_type": "fragment"
    }
   },
   "outputs": [
    {
     "data": {
      "text/plain": [
       "10-element Vector{Vector{Float64}}:\n",
       " [-0.9285022993710237, -1.2013065748114053]\n",
       " [-1.1600343744081472, 1.793411702115841]\n",
       " [-0.11836541413228635, -0.34970385551586436]\n",
       " [0.5282964741214162, 0.5708467822369161]\n",
       " [0.6051069413368764, 1.248971287272271]\n",
       " [-0.6473156481591723, 0.4315058368175947]\n",
       " [0.9455166914265013, -0.9967700871138128]\n",
       " [-0.19455374120323457, -0.2179363298054384]\n",
       " [-0.8153222210499158, -0.21110684481811468]\n",
       " [1.5882557945959408, -0.09310125829623998]"
      ]
     },
     "execution_count": 1,
     "metadata": {},
     "output_type": "execute_result"
    }
   ],
   "source": [
    "p = [ randn(2) for i = 1:10 ] # 10 random points - note array-of-array"
   ]
  },
  {
   "cell_type": "code",
   "execution_count": 2,
   "metadata": {
    "slideshow": {
     "slide_type": "subslide"
    }
   },
   "outputs": [
    {
     "data": {
      "image/png": "[encoded data removed]",
      "text/plain": [
       "Figure(PyObject <Figure size 640x480 with 1 Axes>)"
      ]
     },
     "metadata": {},
     "output_type": "display_data"
    },
    {
     "name": "stderr",
     "output_type": "stream",
     "text": [
      "┌ Warning: `vendor()` is deprecated, use `BLAS.get_config()` and inspect the output instead\n",
      "│   caller = npyinitialize() at numpy.jl:67\n",
      "└ @ PyCall /home/mfranco/.julia/packages/PyCall/L0fLP/src/numpy.jl:67\n"
     ]
    }
   ],
   "source": [
    "# Plot the points as dots\n",
    "# The functions first and last simply collects the corresponding indices\n",
    "using PyPlot\n",
    "plot(first.(p), last.(p), \".\")\n",
    "axis(\"equal\"); grid(true);"
   ]
  },
  {
   "attachments": {},
   "cell_type": "markdown",
   "metadata": {
    "slideshow": {
     "slide_type": "slide"
    }
   },
   "source": [
    "## Convex hull\n",
    "\n",
    "The *convex hull* of a set $X$ of points is the smallest convex set that contains $X$. In the plane, this is a polygon through a subset of the points. Many algorithms have been proposed for computing the convex hull, and here we will focus on the *Jarvis march* algorithm, also called the *gift wrapping algorithm*.\n",
    "\n",
    "The method is illustrated below. The main steps are as follows:\n",
    "\n",
    "1. Find the leftmost point $p_0$ (smallest $x$-coordinate)\n",
    "2. Find the next point $p_1$ such that all other points are to the right of the line $p_0p_1$\n",
    "3. Repeat until $p_n=p_0$\n",
    "\n",
    "![Jarvis_march_convex_hull](jarvis_march_convex_hull.png \"Convex Hull\")\n",
    "(from <https://en.wikipedia.org/wiki/Gift_wrapping_algorithm>)"
   ]
  },
  {
   "cell_type": "markdown",
   "metadata": {
    "slideshow": {
     "slide_type": "subslide"
    }
   },
   "source": [
    "The main utility function needed in the algorithm is to decide if a point $p_2$ is to the right of the line $p_1p_3$. We do this by computing the $z$-coordinate of the cross product of the vectors $p_2-p_1$ and $p_3-p_1$, which is $>0$ if the line $p_1p_2$ is clockwise oriented to the line $p_1p_3$. *Note*: If the lines are parallel this cross product is zero, which is a special case that we for simplicity do not handle here."
   ]
  },
  {
   "cell_type": "code",
   "execution_count": 3,
   "metadata": {
    "slideshow": {
     "slide_type": "fragment"
    }
   },
   "outputs": [
    {
     "data": {
      "text/plain": [
       "clockwise_oriented (generic function with 1 method)"
      ]
     },
     "execution_count": 3,
     "metadata": {},
     "output_type": "execute_result"
    }
   ],
   "source": [
    "function clockwise_oriented(p1, p2, p3)\n",
    "    # Return true if the line-segment between points p1,p2 is clockwise\n",
    "    # oriented to the line-segment between points p1,p3\n",
    "    cross = (p3[2] - p1[2]) * (p2[1] - p1[1]) - (p3[1] - p1[1]) * (p2[2] - p1[2])\n",
    "    return cross > 0\n",
    "end"
   ]
  },
  {
   "cell_type": "code",
   "execution_count": 4,
   "metadata": {
    "slideshow": {
     "slide_type": "fragment"
    }
   },
   "outputs": [
    {
     "name": "stdout",
     "output_type": "stream",
     "text": [
      "true\n",
      "false\n"
     ]
    }
   ],
   "source": [
    "# Tests\n",
    "println(clockwise_oriented([0,0], [1,1], [2,3]))\n",
    "println(clockwise_oriented([0,0], [1,1], [3,2]))"
   ]
  },
  {
   "cell_type": "markdown",
   "metadata": {
    "slideshow": {
     "slide_type": "slide"
    }
   },
   "source": [
    "The method can now be implemented as follows. Note the two loops:\n",
    "\n",
    "1. The outer loop considers each point $p_0,p_1,\\ldots$ on the convex hull. This is a `while` loop, since we do not know beforehand how many points it will include.\n",
    "2. The inner loop finds the next point such that all other points are to the right of the corresponding line segment. This is done by computing orientations to all other points.\n",
    "\n",
    "From this, it is clear that the computational complexity of the algorithm is $\\mathcal{O}(nh)$, where $n$ is the number of points and $h$ is the number of points on the complex hull."
   ]
  },
  {
   "cell_type": "code",
   "execution_count": 5,
   "metadata": {
    "slideshow": {
     "slide_type": "fragment"
    }
   },
   "outputs": [
    {
     "data": {
      "text/plain": [
       "convex_hull (generic function with 1 method)"
      ]
     },
     "execution_count": 5,
     "metadata": {},
     "output_type": "execute_result"
    }
   ],
   "source": [
    "function convex_hull(p)\n",
    "    # Find the nodes on the convex hull of the point array p using\n",
    "    # the Jarvis march (gift wrapping) algorithm\n",
    "\n",
    "    _, pointOnHull = findmin(first.(p)) # Start at left-most point\n",
    "    hull = [pointOnHull] # Output: Vector of node indices on the convex hull\n",
    "    \n",
    "    while length(hull) ≤ 1 || hull[1] != hull[end] # Loop until closed polygon\n",
    "        nextPoint = hull[end] % length(p) + 1 # First candidate, any point except current\n",
    "        for j = 1:length(p) # Consider all other points\n",
    "            if clockwise_oriented(p[hull[end]], p[nextPoint], p[j]) # If \"more to the left\", switch\n",
    "                nextPoint = j\n",
    "            end\n",
    "        end\n",
    "        push!(hull, nextPoint) # Update current point\n",
    "    end\n",
    "    return hull\n",
    "end"
   ]
  },
  {
   "cell_type": "code",
   "execution_count": 6,
   "metadata": {
    "slideshow": {
     "slide_type": "subslide"
    }
   },
   "outputs": [
    {
     "data": {
      "image/png": "[encoded data removed]",
      "text/plain": [
       "Figure(PyObject <Figure size 640x480 with 1 Axes>)"
      ]
     },
     "metadata": {},
     "output_type": "display_data"
    }
   ],
   "source": [
    "# Example: 100 random points, compute and draw the convex hull\n",
    "p = [ randn(2) for i = 1:100 ]\n",
    "hull = convex_hull(p)\n",
    "plot(first.(p), last.(p), \".\")\n",
    "plot(first.(p[hull]), last.(p[hull]))\n",
    "axis(\"equal\"); grid(true);"
   ]
  },
  {
   "cell_type": "code",
   "execution_count": null,
   "metadata": {},
   "outputs": [],
   "source": []
  }
 ],
 "metadata": {
  "kernelspec": {
   "display_name": "Julia 1.7.0-rc2",
   "language": "julia",
   "name": "julia-1.7"
  },
  "language_info": {
   "file_extension": ".jl",
   "mimetype": "application/julia",
   "name": "julia",
   "version": "1.7.0"
  }
 },
 "nbformat": 4,
 "nbformat_minor": 2
}
