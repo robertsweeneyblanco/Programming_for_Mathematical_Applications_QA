{
 "cells": [
  {
   "cell_type": "markdown",
   "metadata": {
    "slideshow": {
     "slide_type": "slide"
    }
   },
   "source": [
    "(structs)=\n",
    "# Structs and Objects\n",
    "\n",
    "We have seen a number of different *types* in Julia, such as `Int64`, `Float64`, `Array{Float64,2}`, etc. Now we will learn how to create new types, how to use them to store data, and how to define new functions (methods) and operators on them. This is closely related to the concept of *object orientation* in other computer languages.\n",
    "\n",
    "## Composite types\n",
    "\n",
    "The keyword `struct` is used to create a so-called composite type, that is, a new user-defined type.\n",
    "The type is given a name, and a list of *fields* (or *attributes*) which are names that will be used\n",
    "as variables to store data for objects of the new type.\n",
    "\n",
    "As an example, we create a new type named `MyPoly` for storing and operating on polynomials.\n",
    "The fields will be an array of coefficients `c`, and a character `var` to denote the name of the dependent\n",
    "variable:"
   ]
  },
  {
   "cell_type": "code",
   "execution_count": 1,
   "metadata": {
    "slideshow": {
     "slide_type": "fragment"
    }
   },
   "outputs": [],
   "source": [
    "struct MyPoly\n",
    "    c\n",
    "    var\n",
    "end"
   ]
  },
  {
   "cell_type": "markdown",
   "metadata": {
    "slideshow": {
     "slide_type": "subslide"
    }
   },
   "source": [
    "The coefficients `c` will represent the polynomial in the standard monomial form:\n",
    "\n",
    "$$\n",
    "p(x) = \\sum_{k=0}^d c_{n-k}x^n\n",
    "$$\n",
    "\n",
    "where $c$ is the array of coefficients, $d$ is the polynomial degree, and $n$ is the length of the array $c$. Note that we allow for $n$ to be greater than the number of required coefficients $d+1$, and that the coefficients are stored in reverse order (that is, highest exponents come first)."
   ]
  },
  {
   "cell_type": "markdown",
   "metadata": {
    "slideshow": {
     "slide_type": "fragment"
    }
   },
   "source": [
    "With this definition, we can create a so-called *instance* of the type\n",
    "(or *object*) by\n",
    "providing the values for each of the fields. For example, the polynomial\n",
    "$p(x) = 3x^2 - 5x + 2$ can be created as:"
   ]
  },
  {
   "cell_type": "code",
   "execution_count": 2,
   "metadata": {
    "slideshow": {
     "slide_type": "fragment"
    }
   },
   "outputs": [
    {
     "data": {
      "text/plain": [
       "MyPoly([3, -5, 2], 'x')"
      ]
     },
     "execution_count": 2,
     "metadata": {},
     "output_type": "execute_result"
    }
   ],
   "source": [
    "p = MyPoly([3,-5,2], 'x')"
   ]
  },
  {
   "cell_type": "markdown",
   "metadata": {
    "slideshow": {
     "slide_type": "slide"
    }
   },
   "source": [
    "Note that by default, Julia will print the object using the type name and a list of the field values. Later we will override this and create a specialized output function.\n",
    "\n",
    "You can define other ways to specify (or initialize) a polynomial using a so-called *constructor*,\n",
    "which is a function that is called when a type is initiated. For example, if you want to allow for\n",
    "a default value in the `var` field, you can add a constructor as shown below:"
   ]
  },
  {
   "cell_type": "code",
   "execution_count": 3,
   "metadata": {
    "slideshow": {
     "slide_type": "fragment"
    }
   },
   "outputs": [],
   "source": [
    "struct MyPoly\n",
    "    c\n",
    "    var\n",
    "    MyPoly(c, var='x') = new(c, var)\n",
    "end"
   ]
  },
  {
   "cell_type": "markdown",
   "metadata": {
    "slideshow": {
     "slide_type": "slide"
    }
   },
   "source": [
    "At this point, the struct `p` does not do anything besides simply storing the variables `c` and `var`. They can be accessed using a `.` notation:"
   ]
  },
  {
   "cell_type": "code",
   "execution_count": 4,
   "metadata": {
    "slideshow": {
     "slide_type": "fragment"
    }
   },
   "outputs": [
    {
     "data": {
      "text/plain": [
       "3-element Vector{Int64}:\n",
       "  3\n",
       " -5\n",
       "  2"
      ]
     },
     "execution_count": 4,
     "metadata": {},
     "output_type": "execute_result"
    }
   ],
   "source": [
    "p.c"
   ]
  },
  {
   "cell_type": "code",
   "execution_count": 5,
   "metadata": {
    "slideshow": {
     "slide_type": "fragment"
    }
   },
   "outputs": [
    {
     "data": {
      "text/plain": [
       "'x': ASCII/Unicode U+0078 (category Ll: Letter, lowercase)"
      ]
     },
     "execution_count": 5,
     "metadata": {},
     "output_type": "execute_result"
    }
   ],
   "source": [
    "p.var"
   ]
  },
  {
   "cell_type": "markdown",
   "metadata": {
    "slideshow": {
     "slide_type": "subslide"
    }
   },
   "source": [
    "However, structs in Julia are *immutable* which means that once created, you can not change their contents. This is different from many other language, and there are some good reasons for this design. If you need to change the variables in a struct, or even add new fields, simply use the keyword `mutable struct` instead of `struct`. However, here we will stay with a standard struct, since in our example we will only modify the polynomials coefficients `c`. This is an exception which actually is allowed, since the variable `c` is itself a mutable object and its content can be changed.\n",
    "\n",
    "For example, if you want to change the polynomial to $p(x) = -x^3 + 3x^2 - 5x + 2$ you can *not* change the actual array in `c`:\n",
    "\n",
    "```julia\n",
    "p.c = [-1,3,-5,2]  # Error: Immutable struct\n",
    "```\n",
    "\n",
    "but you can change the content in the existing array `c`:"
   ]
  },
  {
   "cell_type": "code",
   "execution_count": 6,
   "metadata": {
    "slideshow": {
     "slide_type": "fragment"
    }
   },
   "outputs": [
    {
     "data": {
      "text/plain": [
       "MyPoly([-1, 3, -5, 2], 'x')"
      ]
     },
     "execution_count": 6,
     "metadata": {},
     "output_type": "execute_result"
    }
   ],
   "source": [
    "resize!(p.c, 4)\n",
    "p.c[1:4] = [-1,3,-5,2]\n",
    "p"
   ]
  },
  {
   "cell_type": "markdown",
   "metadata": {
    "slideshow": {
     "slide_type": "subslide"
    }
   },
   "source": [
    "Of course, another option is to simply create a new instance of the `MyPoly` type:"
   ]
  },
  {
   "cell_type": "code",
   "execution_count": 7,
   "metadata": {
    "slideshow": {
     "slide_type": "fragment"
    }
   },
   "outputs": [
    {
     "data": {
      "text/plain": [
       "MyPoly([-1, 3, -5, 2], 'x')"
      ]
     },
     "execution_count": 7,
     "metadata": {},
     "output_type": "execute_result"
    }
   ],
   "source": [
    "p = MyPoly([-1,3,-5,2], p.var)"
   ]
  },
  {
   "cell_type": "markdown",
   "metadata": {
    "slideshow": {
     "slide_type": "slide"
    }
   },
   "source": [
    "## Functions on types\n",
    "\n",
    "We can easily define functions on new types, by passing the objects as arguments or return values.\n",
    "For example, we can easily define a function that multiplies a polynomial $p(x)$ by $x$ in the\n",
    "following way:"
   ]
  },
  {
   "cell_type": "code",
   "execution_count": 8,
   "metadata": {
    "slideshow": {
     "slide_type": "fragment"
    }
   },
   "outputs": [
    {
     "data": {
      "text/plain": [
       "MyPoly([-1, 3, -5, 2, 0], 'x')"
      ]
     },
     "execution_count": 8,
     "metadata": {},
     "output_type": "execute_result"
    }
   ],
   "source": [
    "function times_x(p)\n",
    "   return MyPoly(vcat(p.c,0), p.var) \n",
    "end\n",
    "\n",
    "times_x(p)"
   ]
  },
  {
   "cell_type": "markdown",
   "metadata": {
    "slideshow": {
     "slide_type": "subslide"
    }
   },
   "source": [
    "However, this function should only work if you pass a `MyPoly` type to it. In Julia you can write functions that operate differently on different types. A function which defines the behavior for a specific combination or number of arguments is called a *method*.\n",
    "\n",
    "A function which is specialized for a certain type can be created using a *type declaration* with the `::` operator. As an example, we create a `degree` function to find the degree $d$. The implementation\n",
    "is straight-forward, we simply search the for the first (highest degree) non-zero\n",
    "coefficient. Note that we define the degree of the zero polynomial to zero."
   ]
  },
  {
   "cell_type": "code",
   "execution_count": 9,
   "metadata": {
    "slideshow": {
     "slide_type": "fragment"
    }
   },
   "outputs": [
    {
     "data": {
      "text/plain": [
       "degree (generic function with 1 method)"
      ]
     },
     "execution_count": 9,
     "metadata": {},
     "output_type": "execute_result"
    }
   ],
   "source": [
    "function degree(p::MyPoly)\n",
    "    ix1 = findfirst(p.c .!= 0)\n",
    "    if ix1 == nothing\n",
    "        return 0\n",
    "    else\n",
    "        return length(p.c) - ix1\n",
    "    end\n",
    "end"
   ]
  },
  {
   "cell_type": "code",
   "execution_count": 10,
   "metadata": {
    "slideshow": {
     "slide_type": "subslide"
    }
   },
   "outputs": [
    {
     "name": "stdout",
     "output_type": "stream",
     "text": [
      "0\n",
      "0\n",
      "1\n",
      "4\n"
     ]
    }
   ],
   "source": [
    "println(degree(MyPoly([0,0,0,0,0])))\n",
    "println(degree(MyPoly([0,0,0,0,1])))\n",
    "println(degree(MyPoly([0,0,0,1,0])))\n",
    "println(degree(MyPoly([1,0,0,0,0])))"
   ]
  },
  {
   "cell_type": "markdown",
   "metadata": {
    "slideshow": {
     "slide_type": "subslide"
    }
   },
   "source": [
    "By specializing the `degree` function to the `MyPoly` type, we can now use the same function name for other combinations or types, that is, to implement other methods. This is also called *overloading*."
   ]
  },
  {
   "cell_type": "code",
   "execution_count": 11,
   "metadata": {
    "slideshow": {
     "slide_type": "fragment"
    }
   },
   "outputs": [
    {
     "name": "stdout",
     "output_type": "stream",
     "text": [
      "degree function called with any other argument\n",
      "degree function called with any other argument\n",
      "degree function called with Int argument\n"
     ]
    },
    {
     "data": {
      "text/plain": [
       "2"
      ]
     },
     "execution_count": 11,
     "metadata": {},
     "output_type": "execute_result"
    }
   ],
   "source": [
    "function degree(p::Int)\n",
    "    println(\"degree function called with Int argument\")\n",
    "end\n",
    "\n",
    "function degree(p)\n",
    "    println(\"degree function called with any other argument\")\n",
    "end\n",
    "\n",
    "degree(1.234)\n",
    "degree([1,2])\n",
    "degree(-123)\n",
    "degree(MyPoly([1,2,3]))"
   ]
  },
  {
   "cell_type": "markdown",
   "metadata": {
    "slideshow": {
     "slide_type": "slide"
    }
   },
   "source": [
    "## Customized printing\n",
    "\n",
    "Julia provides a special function `show` in the `Base` package, which can be overloaded to change how objects of a new type are printed. For our polynomials, instead of showing the array of coefficients `c` and the name of the independent variable `var`, we will write it as a polynomial in standard math notation.\n",
    "\n",
    "The details of this functions do not matter much, it mostly needs to deal with certain special cases to print polynomials correctly. The main point is that it will *only be called* for objects of type `MyPoly`."
   ]
  },
  {
   "cell_type": "code",
   "execution_count": 12,
   "metadata": {
    "slideshow": {
     "slide_type": "subslide"
    }
   },
   "outputs": [],
   "source": [
    "function Base.show(io::IO, p::MyPoly)\n",
    "    d = degree(p)\n",
    "    print(io, \"MyPoly(\")\n",
    "    for k = d:-1:0\n",
    "        coeff = p.c[end-k]\n",
    "        if coeff == 0 && d > 0\n",
    "            continue\n",
    "        end\n",
    "        if k < d\n",
    "            if isa(coeff, Real)\n",
    "                if coeff > 0\n",
    "                    print(io, \" + \")\n",
    "                else\n",
    "                    print(io, \" - \")\n",
    "                end\n",
    "                coeff = abs(coeff)\n",
    "            else\n",
    "                print(io, \" + \")\n",
    "            end\n",
    "        end\n",
    "        if isa(coeff, Real)\n",
    "            print(io, coeff)\n",
    "        else\n",
    "            print(io, \"($coeff)\")\n",
    "        end\n",
    "        if k == 0\n",
    "            continue\n",
    "        end\n",
    "        print(io, \"⋅\", p.var)\n",
    "        if k > 1\n",
    "            print(io, \"^\", k)\n",
    "        end\n",
    "    end\n",
    "    print(io, \")\")\n",
    "end"
   ]
  },
  {
   "cell_type": "code",
   "execution_count": 13,
   "metadata": {
    "slideshow": {
     "slide_type": "subslide"
    }
   },
   "outputs": [
    {
     "data": {
      "text/plain": [
       "MyPoly(-1⋅x^3 + 3⋅x^2 - 5⋅x + 2)"
      ]
     },
     "execution_count": 13,
     "metadata": {},
     "output_type": "execute_result"
    }
   ],
   "source": [
    "p"
   ]
  },
  {
   "cell_type": "code",
   "execution_count": 14,
   "metadata": {
    "slideshow": {
     "slide_type": "fragment"
    }
   },
   "outputs": [
    {
     "data": {
      "text/plain": [
       "MyPoly(-1.234⋅s^4 + 4.321)"
      ]
     },
     "execution_count": 14,
     "metadata": {},
     "output_type": "execute_result"
    }
   ],
   "source": [
    "MyPoly([-1.234,0,0,0,4.321], 's')"
   ]
  },
  {
   "cell_type": "markdown",
   "metadata": {
    "slideshow": {
     "slide_type": "slide"
    }
   },
   "source": [
    "## Callable objects\n",
    "\n",
    "One basic operation to perform on a polynomial is evaluation, that is, for a given number $x$ compute $p(x)$. We will implement this using *Horner's rule*:\n",
    "\n",
    "$$\n",
    "\\begin{align}\n",
    "p(x) &= a_nx^n + a_{n-1} x^{n-1} + \\cdots + a_0 \\\\\n",
    "     &= ((a_n + xa_{n-1})x + \\cdots)x + a_0\n",
    "\\end{align}\n",
    "$$\n",
    "\n",
    "While we could implement this in a function with a new name, for example, `polyval`, Julia allows the definition of a method which behaves like a function evaluating the polynomial:"
   ]
  },
  {
   "cell_type": "code",
   "execution_count": 15,
   "metadata": {
    "slideshow": {
     "slide_type": "fragment"
    }
   },
   "outputs": [],
   "source": [
    "function (p::MyPoly)(x)\n",
    "    d = degree(p)\n",
    "    v = p.c[end-d]\n",
    "    for cc = p.c[end-d+1:end]\n",
    "        v = v*x + cc\n",
    "    end\n",
    "    return v\n",
    "end"
   ]
  },
  {
   "cell_type": "code",
   "execution_count": 16,
   "metadata": {
    "slideshow": {
     "slide_type": "subslide"
    }
   },
   "outputs": [
    {
     "name": "stdout",
     "output_type": "stream",
     "text": [
      "-1\n",
      "-1.4808129039999995\n",
      "[-1.0, 32.0, -1.6270000000000002]\n"
     ]
    }
   ],
   "source": [
    "println(p(1))\n",
    "println(p(1.234))\n",
    "println(p.([1,-2,1.3]))  # Note: Broadcasting automatically defined"
   ]
  },
  {
   "cell_type": "markdown",
   "metadata": {
    "slideshow": {
     "slide_type": "slide"
    }
   },
   "source": [
    "## Plotting\n",
    "\n",
    "Using the evaluation functionality, we can easily implement plotting of polynomials. Again we reuse the name `plot` which is already used in the `PyPlot` package, but we specialize it to our `MyPoly` type:"
   ]
  },
  {
   "cell_type": "code",
   "execution_count": 17,
   "metadata": {
    "slideshow": {
     "slide_type": "fragment"
    }
   },
   "outputs": [],
   "source": [
    "using PyPlot\n",
    "function PyPlot.plot(p::MyPoly, xlim=[-2,2])\n",
    "    xx = collect(range(xlim[1], xlim[2], length=100))\n",
    "    plot(xx, p.(xx))\n",
    "    xlabel(string(p.var))\n",
    "end"
   ]
  },
  {
   "cell_type": "code",
   "execution_count": 18,
   "metadata": {
    "slideshow": {
     "slide_type": "subslide"
    }
   },
   "outputs": [
    {
     "data": {
      "image/png": "[encoded data removed]",
      "text/plain": [
       "Figure(PyObject <Figure size 640x480 with 1 Axes>)"
      ]
     },
     "metadata": {},
     "output_type": "display_data"
    },
    {
     "name": "stderr",
     "output_type": "stream",
     "text": [
      "┌ Warning: `vendor()` is deprecated, use `BLAS.get_config()` and inspect the output instead\n",
      "│   caller = npyinitialize() at numpy.jl:67\n",
      "└ @ PyCall /home/mfranco/.julia/packages/PyCall/L0fLP/src/numpy.jl:67\n"
     ]
    },
    {
     "data": {
      "text/plain": [
       "MyPoly(1⋅x^5 + 1⋅x^4 - 5⋅x^3 - 5⋅x^2 + 4⋅x + 4)"
      ]
     },
     "execution_count": 18,
     "metadata": {},
     "output_type": "execute_result"
    }
   ],
   "source": [
    "p = MyPoly([1,1,-5,-5,4,4])\n",
    "plot(p)\n",
    "p"
   ]
  },
  {
   "cell_type": "markdown",
   "metadata": {
    "slideshow": {
     "slide_type": "slide"
    }
   },
   "source": [
    "## Operator overloading\n",
    "\n",
    "Operators such as `+` can also be overloaded for new types, by specializing the function definition. These operators are so fundamental to the language itself that they are part of the `Base` package. This special package is automatically included by Julia, so there is no need to call `using Base` before using any of its functionality or specify `Base.func_name()` when calling one of its functions. However, when overloading a function in this package, we must still specify that the function is a part of this package with the usual syntax `Base.func_name()`. \n",
    "\n",
    "Adding polynomials is of course easy, we simply add the coefficients. However, for our implementation we first need to make sure the coefficient vectors are long enough to contain the sum:"
   ]
  },
  {
   "cell_type": "code",
   "execution_count": 19,
   "metadata": {
    "slideshow": {
     "slide_type": "fragment"
    }
   },
   "outputs": [],
   "source": [
    "function Base.:+(p1::MyPoly, p2::MyPoly)\n",
    "    if p1.var != p2.var\n",
    "        error(\"Cannot add polynomials of different independent variables.\")\n",
    "    end\n",
    "    d1 = degree(p1)\n",
    "    d2 = degree(p2)\n",
    "    d = max(d1,d2)\n",
    "    c = [fill(0, d-d1); p1.c] + [fill(0, d-d2); p2.c]\n",
    "    return MyPoly(c, p1.var)\n",
    "end"
   ]
  },
  {
   "cell_type": "code",
   "execution_count": 20,
   "metadata": {
    "slideshow": {
     "slide_type": "subslide"
    }
   },
   "outputs": [
    {
     "name": "stdout",
     "output_type": "stream",
     "text": [
      "MyPoly(1⋅x^5 + 1⋅x^4 - 5⋅x^3 - 5⋅x^2 + 4⋅x + 4)\n",
      "MyPoly(2⋅x^5 + 2⋅x^4 - 10⋅x^3 - 10⋅x^2 + 8⋅x + 8)\n",
      "MyPoly(1.0⋅x^5 + 1.0⋅x^4 - 5.0⋅x^3 - 5.0⋅x^2 + 5.1⋅x + 6.2)\n"
     ]
    },
    {
     "ename": "LoadError",
     "evalue": "Cannot add polynomials of different independent variables.",
     "output_type": "error",
     "traceback": [
      "Cannot add polynomials of different independent variables.",
      "",
      "Stacktrace:",
      " [1] error(s::String)",
      "   @ Base ./error.jl:33",
      " [2] +(p1::MyPoly, p2::MyPoly)",
      "   @ Main ./In[19]:3",
      " [3] top-level scope",
      "   @ In[20]:4",
      " [4] eval",
      "   @ ./boot.jl:373 [inlined]",
      " [5] include_string(mapexpr::typeof(REPL.softscope), mod::Module, code::String, filename::String)",
      "   @ Base ./loading.jl:1196"
     ]
    }
   ],
   "source": [
    "println(p)\n",
    "println(p + p)\n",
    "println(p + MyPoly([1.1,2.2]))\n",
    "println(p + MyPoly([1], 's')) # will trigger our error message"
   ]
  },
  {
   "cell_type": "markdown",
   "metadata": {
    "slideshow": {
     "slide_type": "subslide"
    }
   },
   "source": [
    "Subtraction is easiest done by overloading the `-` operator and reusing the implementation of `+`:"
   ]
  },
  {
   "cell_type": "code",
   "execution_count": 21,
   "metadata": {
    "slideshow": {
     "slide_type": "fragment"
    }
   },
   "outputs": [],
   "source": [
    "function Base.:-(p1::MyPoly, p2::MyPoly)\n",
    "    return p1 + MyPoly(-p2.c)\n",
    "end"
   ]
  },
  {
   "cell_type": "markdown",
   "metadata": {
    "slideshow": {
     "slide_type": "subslide"
    }
   },
   "source": [
    "Similarly with scalar multiplication, we overload `*`. Note that we do not specify the type of the first scalar argument `a`, it is assumed that it is a regular number (not a `MyPoly`) object. We also define multiplication in the reverse order, by reusing the same function (since we know that it commutes)."
   ]
  },
  {
   "cell_type": "code",
   "execution_count": 22,
   "metadata": {
    "slideshow": {
     "slide_type": "fragment"
    }
   },
   "outputs": [],
   "source": [
    "function Base.:*(a, p::MyPoly)\n",
    "    newc = a * p.c\n",
    "    return MyPoly(newc, p.var)\n",
    "end\n",
    "\n",
    "function Base.:*(p::MyPoly, a)\n",
    "    return a*p\n",
    "end"
   ]
  },
  {
   "cell_type": "markdown",
   "metadata": {
    "slideshow": {
     "slide_type": "slide"
    }
   },
   "source": [
    "Using the overloaded operators `+`, `-`, and `*` (for scalars), we can perform many polynomial operations:"
   ]
  },
  {
   "cell_type": "code",
   "execution_count": 23,
   "metadata": {
    "slideshow": {
     "slide_type": "fragment"
    }
   },
   "outputs": [
    {
     "data": {
      "image/png": "[encoded data removed]",
      "text/plain": [
       "Figure(PyObject <Figure size 640x480 with 1 Axes>)"
      ]
     },
     "metadata": {},
     "output_type": "display_data"
    }
   ],
   "source": [
    "p1 = 0.4p\n",
    "p2 = p1 - .3*MyPoly([-2,1,1])\n",
    "p3 = -1p2 + p\n",
    "plot.([p1,p2,p3]);"
   ]
  },
  {
   "cell_type": "markdown",
   "metadata": {
    "slideshow": {
     "slide_type": "slide"
    }
   },
   "source": [
    "## Generic programming\n",
    "\n",
    "In the examples above we have specialized many functions and operators to work in a specific way for objects of type `MyPoly`. However, note the advantages of *not* limiting the type of a variable or function argument to be of a certain type. For example, in the definition of `MyPoly` we did not specify that the coefficients `c` should be of e.g. integer or floating point types (in fact our examples used both). This means our functions work perfectly fine also for rational coefficients and arguments:"
   ]
  },
  {
   "cell_type": "code",
   "execution_count": 24,
   "metadata": {
    "slideshow": {
     "slide_type": "fragment"
    }
   },
   "outputs": [
    {
     "data": {
      "text/plain": [
       "MyPoly(1//1⋅x^2 - 2//3⋅x + 6//7)"
      ]
     },
     "execution_count": 24,
     "metadata": {},
     "output_type": "execute_result"
    }
   ],
   "source": [
    "p = MyPoly([1, -2//3, 6//7])"
   ]
  },
  {
   "cell_type": "code",
   "execution_count": 25,
   "metadata": {
    "slideshow": {
     "slide_type": "fragment"
    }
   },
   "outputs": [
    {
     "data": {
      "text/plain": [
       "2-element Vector{Rational{Int64}}:\n",
       "   25//21\n",
       " 1297//84"
      ]
     },
     "execution_count": 25,
     "metadata": {},
     "output_type": "execute_result"
    }
   ],
   "source": [
    "p.([1, -7//2])"
   ]
  },
  {
   "cell_type": "markdown",
   "metadata": {
    "slideshow": {
     "slide_type": "subslide"
    }
   },
   "source": [
    "and for complex:"
   ]
  },
  {
   "cell_type": "code",
   "execution_count": 26,
   "metadata": {
    "slideshow": {
     "slide_type": "fragment"
    }
   },
   "outputs": [
    {
     "data": {
      "text/plain": [
       "MyPoly((1 + 0im)⋅x^4 + (0 + 1im)⋅x^3 + (-1 + 0im)⋅x^2 + (0 - 1im)⋅x + (1 + 0im))"
      ]
     },
     "execution_count": 26,
     "metadata": {},
     "output_type": "execute_result"
    }
   ],
   "source": [
    "p = MyPoly([1, im, -1, -im, 1])"
   ]
  },
  {
   "cell_type": "code",
   "execution_count": 27,
   "metadata": {
    "slideshow": {
     "slide_type": "fragment"
    }
   },
   "outputs": [
    {
     "data": {
      "text/plain": [
       "3-element Vector{Complex{Int64}}:\n",
       "  1 + 0im\n",
       "  5 + 0im\n",
       " -2 + 1im"
      ]
     },
     "execution_count": 27,
     "metadata": {},
     "output_type": "execute_result"
    }
   ],
   "source": [
    "p.([0, im, -1 - im])"
   ]
  },
  {
   "cell_type": "markdown",
   "metadata": {
    "slideshow": {
     "slide_type": "subslide"
    }
   },
   "source": [
    "or for `BigFloat`:"
   ]
  },
  {
   "cell_type": "code",
   "execution_count": 28,
   "metadata": {
    "slideshow": {
     "slide_type": "fragment"
    }
   },
   "outputs": [
    {
     "data": {
      "text/plain": [
       "MyPoly(-1.5⋅x^5 - 0.5⋅x^4 + 0.5⋅x^3 + 1.5⋅x^2 + 2.5⋅x + 3.5)"
      ]
     },
     "execution_count": 28,
     "metadata": {},
     "output_type": "execute_result"
    }
   ],
   "source": [
    "p = MyPoly(collect(-1.5:3.5))"
   ]
  },
  {
   "cell_type": "code",
   "execution_count": 29,
   "metadata": {
    "slideshow": {
     "slide_type": "fragment"
    }
   },
   "outputs": [
    {
     "data": {
      "text/plain": [
       "405.2722682884305251107738095974542912801020079018409933037640550322547603287204"
      ]
     },
     "execution_count": 29,
     "metadata": {},
     "output_type": "execute_result"
    }
   ],
   "source": [
    "p(BigFloat(-π))"
   ]
  }
 ],
 "metadata": {
  "kernelspec": {
   "display_name": "Julia 1.7.0-rc2",
   "language": "julia",
   "name": "julia-1.7"
  },
  "language_info": {
   "file_extension": ".jl",
   "mimetype": "application/julia",
   "name": "julia",
   "version": "1.7.0"
  }
 },
 "nbformat": 4,
 "nbformat_minor": 2
}
