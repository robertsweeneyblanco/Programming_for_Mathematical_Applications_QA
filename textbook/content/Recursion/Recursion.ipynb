{
 "cells": [
  {
   "cell_type": "markdown",
   "metadata": {
    "slideshow": {
     "slide_type": "slide"
    }
   },
   "source": [
    "# Recursion"
   ]
  },
  {
   "cell_type": "markdown",
   "metadata": {
    "slideshow": {
     "slide_type": "slide"
    }
   },
   "source": [
    "A very powerful concept in programming is *recursion*, or functions which call themselves. A simple example is the factorial function, which can be defined as:\n",
    "\n",
    "$$\n",
    "x_n = \n",
    "\\begin{cases}\n",
    "1          &\\text{if }n = 0 \\\\\n",
    "n x_{n-1}, &\\text{if }n > 0\n",
    "\\end{cases}\n",
    "$$\n",
    "\n",
    "Note that:\n",
    "\n",
    "- There is a *base case*, $n=0$, which defines the output directly\n",
    "- For higher $n$, the output is defined *in terms of lower values*\n",
    "\n",
    "This can be implemented in a Julia function using an if-statement and a call to the function itself:"
   ]
  },
  {
   "cell_type": "code",
   "execution_count": 1,
   "metadata": {
    "slideshow": {
     "slide_type": "subslide"
    }
   },
   "outputs": [
    {
     "data": {
      "text/plain": [
       "recursive_factorial (generic function with 1 method)"
      ]
     },
     "execution_count": 1,
     "metadata": {},
     "output_type": "execute_result"
    }
   ],
   "source": [
    "function recursive_factorial(n)\n",
    "    if n == 0\n",
    "        return 1\n",
    "    else\n",
    "        return n*recursive_factorial(n-1)\n",
    "    end\n",
    "end"
   ]
  },
  {
   "cell_type": "code",
   "execution_count": 2,
   "metadata": {
    "slideshow": {
     "slide_type": "fragment"
    }
   },
   "outputs": [
    {
     "data": {
      "text/plain": [
       "5040"
      ]
     },
     "execution_count": 2,
     "metadata": {},
     "output_type": "execute_result"
    }
   ],
   "source": [
    "recursive_factorial(7)"
   ]
  },
  {
   "cell_type": "markdown",
   "metadata": {
    "slideshow": {
     "slide_type": "fragment"
    }
   },
   "source": [
    "Note the way this will be evaluated in Julia: Eventually it will call the function with $n=0$ which will return 1, this will be multiplied by 2, etc, and last it will multiply by 7. This can be demonstrated by printing additional information:"
   ]
  },
  {
   "cell_type": "code",
   "execution_count": 3,
   "metadata": {
    "slideshow": {
     "slide_type": "subslide"
    }
   },
   "outputs": [
    {
     "data": {
      "text/plain": [
       "recursive_factorial_info (generic function with 1 method)"
      ]
     },
     "execution_count": 3,
     "metadata": {},
     "output_type": "execute_result"
    }
   ],
   "source": [
    "function recursive_factorial_info(n)\n",
    "    if n == 0\n",
    "        println(\"n == 0, returning 1\")\n",
    "        return 1\n",
    "    else\n",
    "        println(\"n == \", n, \", calling itself with parameter \", n-1)\n",
    "        output = n*recursive_factorial_info(n-1)\n",
    "        println(\"n == \", n, \", finished calling itself, multiplying and returning \", n, \"! = \", output)\n",
    "        return output\n",
    "    end\n",
    "end"
   ]
  },
  {
   "cell_type": "code",
   "execution_count": 4,
   "metadata": {
    "slideshow": {
     "slide_type": "subslide"
    }
   },
   "outputs": [
    {
     "name": "stdout",
     "output_type": "stream",
     "text": [
      "n == 7, calling itself with parameter 6\n",
      "n == 6, calling itself with parameter 5\n",
      "n == 5, calling itself with parameter 4\n",
      "n == 4, calling itself with parameter 3\n",
      "n == 3, calling itself with parameter 2\n",
      "n == 2, calling itself with parameter 1\n",
      "n == 1, calling itself with parameter 0\n",
      "n == 0, returning 1\n",
      "n == 1, finished calling itself, multiplying and returning 1! = 1\n",
      "n == 2, finished calling itself, multiplying and returning 2! = 2\n",
      "n == 3, finished calling itself, multiplying and returning 3! = 6\n",
      "n == 4, finished calling itself, multiplying and returning 4! = 24\n",
      "n == 5, finished calling itself, multiplying and returning 5! = 120\n",
      "n == 6, finished calling itself, multiplying and returning 6! = 720\n",
      "n == 7, finished calling itself, multiplying and returning 7! = 5040\n"
     ]
    },
    {
     "data": {
      "text/plain": [
       "5040"
      ]
     },
     "execution_count": 4,
     "metadata": {},
     "output_type": "execute_result"
    }
   ],
   "source": [
    "recursive_factorial_info(7)"
   ]
  },
  {
   "cell_type": "markdown",
   "metadata": {
    "slideshow": {
     "slide_type": "fragment"
    }
   },
   "source": [
    "This example is highly hypothetical - the factorial function is easier and more efficient to implement using for-loops. But for more complex problems, recursion can be an essential tool."
   ]
  },
  {
   "cell_type": "markdown",
   "metadata": {
    "slideshow": {
     "slide_type": "slide"
    }
   },
   "source": [
    "## Example: The Ackermann function\n",
    "\n",
    "Think Julia, Exercise 6-5: The Ackermann function, $A(m, n)$, is defined:\n",
    "\n",
    "$$\n",
    "\\begin{equation} {A(m, n) = \\begin{cases} n+1& \\textrm{if}\\ m = 0 \\\\ A(m-1, 1)& \\textrm{if}\\ m > 0\\ \\textrm{and}\\ n = 0 \\\\ A(m-1, A(m, n-1))& \\textrm{if}\\ m > 0\\ \\textrm{and}\\ n > 0. \\end{cases}} \\end{equation}\n",
    "$$\n",
    "\n",
    "See https://en.wikipedia.org/wiki/Ackermann_function. Write a function named `ack` that evaluates the Ackermann function. Use your function to evaluate `ack(3, 4)`, which should be 125. What happens for larger values of m and n?"
   ]
  },
  {
   "cell_type": "markdown",
   "metadata": {
    "slideshow": {
     "slide_type": "subslide"
    }
   },
   "source": [
    "This example is not an obvious for-loop like the factorial function, but very easy to implement using recursion:"
   ]
  },
  {
   "cell_type": "code",
   "execution_count": 5,
   "metadata": {
    "slideshow": {
     "slide_type": "fragment"
    }
   },
   "outputs": [
    {
     "data": {
      "text/plain": [
       "ack (generic function with 1 method)"
      ]
     },
     "execution_count": 5,
     "metadata": {},
     "output_type": "execute_result"
    }
   ],
   "source": [
    "function ack(m,n)\n",
    "    if m == 0\n",
    "        return n + 1\n",
    "    elseif m > 0 && n == 0\n",
    "        return ack(m-1,1)\n",
    "    else\n",
    "        return ack(m-1, ack(m,n-1))\n",
    "    end\n",
    "end"
   ]
  },
  {
   "cell_type": "code",
   "execution_count": 6,
   "metadata": {
    "slideshow": {
     "slide_type": "fragment"
    }
   },
   "outputs": [
    {
     "data": {
      "text/plain": [
       "125"
      ]
     },
     "execution_count": 6,
     "metadata": {},
     "output_type": "execute_result"
    }
   ],
   "source": [
    "ack(3,4)"
   ]
  },
  {
   "cell_type": "markdown",
   "metadata": {
    "slideshow": {
     "slide_type": "subslide"
    }
   },
   "source": [
    "Again, let's print some additional information to try to understand how the recursive function calls itself:"
   ]
  },
  {
   "cell_type": "code",
   "execution_count": 7,
   "metadata": {
    "slideshow": {
     "slide_type": "fragment"
    }
   },
   "outputs": [
    {
     "data": {
      "text/plain": [
       "ack_info (generic function with 1 method)"
      ]
     },
     "execution_count": 7,
     "metadata": {},
     "output_type": "execute_result"
    }
   ],
   "source": [
    "function ack_info(m,n)\n",
    "    function printme()\n",
    "        print(\"ack(\", m, \",\", n, \"): \")\n",
    "    end\n",
    "    if m == 0\n",
    "        output = n + 1\n",
    "        printme()\n",
    "        println(\"Case 1: returning n + 1 = \", output)\n",
    "        return output\n",
    "    elseif m > 0 && n == 0\n",
    "        printme()\n",
    "        println(\"Case 2: calling itself with parameters m-1,1 == \", m-1, \",\", 1)\n",
    "        output = ack_info(m-1,1)\n",
    "        printme()\n",
    "        println(\"Case 2: finished calling itself, returning with output \", output)\n",
    "        return output\n",
    "    else\n",
    "        printme()\n",
    "        println(\"Case 3: calling itself for new n-value with parameters m,n-1 == \", m, \",\", n-1)\n",
    "        newn = ack_info(m,n-1)\n",
    "        printme()\n",
    "        println(\"Case 3: finished calling itself for new n-value == \", newn)\n",
    "        printme()\n",
    "        println(\"Case 3: calling itself with parameters m-1, A(m,n-1) == \", m-1, \",\", newn)\n",
    "        output = ack_info(m-1,newn)\n",
    "        printme()\n",
    "        println(\"Case 3: finished calling itself, returning \", output)\n",
    "        return output\n",
    "    end\n",
    "end"
   ]
  },
  {
   "cell_type": "code",
   "execution_count": 8,
   "metadata": {
    "slideshow": {
     "slide_type": "subslide"
    }
   },
   "outputs": [
    {
     "name": "stdout",
     "output_type": "stream",
     "text": [
      "ack(2,1): Case 3: calling itself for new n-value with parameters m,n-1 == 2,0\n",
      "ack(2,0): Case 2: calling itself with parameters m-1,1 == 1,1\n",
      "ack(1,1): Case 3: calling itself for new n-value with parameters m,n-1 == 1,0\n",
      "ack(1,0): Case 2: calling itself with parameters m-1,1 == 0,1\n",
      "ack(0,1): Case 1: returning n + 1 = 2\n",
      "ack(1,0): Case 2: finished calling itself, returning with output 2\n",
      "ack(1,1): Case 3: finished calling itself for new n-value == 2\n",
      "ack(1,1): Case 3: calling itself with parameters m-1, A(m,n-1) == 0,2\n",
      "ack(0,2): Case 1: returning n + 1 = 3\n",
      "ack(1,1): Case 3: finished calling itself, returning 3\n",
      "ack(2,0): Case 2: finished calling itself, returning with output 3\n",
      "ack(2,1): Case 3: finished calling itself for new n-value == 3\n",
      "ack(2,1): Case 3: calling itself with parameters m-1, A(m,n-1) == 1,3\n",
      "ack(1,3): Case 3: calling itself for new n-value with parameters m,n-1 == 1,2\n",
      "ack(1,2): Case 3: calling itself for new n-value with parameters m,n-1 == 1,1\n",
      "ack(1,1): Case 3: calling itself for new n-value with parameters m,n-1 == 1,0\n",
      "ack(1,0): Case 2: calling itself with parameters m-1,1 == 0,1\n",
      "ack(0,1): Case 1: returning n + 1 = 2\n",
      "ack(1,0): Case 2: finished calling itself, returning with output 2\n",
      "ack(1,1): Case 3: finished calling itself for new n-value == 2\n",
      "ack(1,1): Case 3: calling itself with parameters m-1, A(m,n-1) == 0,2\n",
      "ack(0,2): Case 1: returning n + 1 = 3\n",
      "ack(1,1): Case 3: finished calling itself, returning 3\n",
      "ack(1,2): Case 3: finished calling itself for new n-value == 3\n",
      "ack(1,2): Case 3: calling itself with parameters m-1, A(m,n-1) == 0,3\n",
      "ack(0,3): Case 1: returning n + 1 = 4\n",
      "ack(1,2): Case 3: finished calling itself, returning 4\n",
      "ack(1,3): Case 3: finished calling itself for new n-value == 4\n",
      "ack(1,3): Case 3: calling itself with parameters m-1, A(m,n-1) == 0,4\n",
      "ack(0,4): Case 1: returning n + 1 = 5\n",
      "ack(1,3): Case 3: finished calling itself, returning 5\n",
      "ack(2,1): Case 3: finished calling itself, returning 5\n"
     ]
    },
    {
     "data": {
      "text/plain": [
       "5"
      ]
     },
     "execution_count": 8,
     "metadata": {},
     "output_type": "execute_result"
    }
   ],
   "source": [
    "ack_info(2,1)"
   ]
  },
  {
   "cell_type": "markdown",
   "metadata": {
    "slideshow": {
     "slide_type": "subslide"
    }
   },
   "source": [
    "This also shows that the function calls itself for the same parameter values many times, suggesting that this could be done more efficiently by storing values that have already been computed."
   ]
  },
  {
   "cell_type": "markdown",
   "metadata": {
    "slideshow": {
     "slide_type": "slide"
    }
   },
   "source": [
    "## Example: The Greatest Common Divisor (GCD)\n",
    "\n",
    "Think Julia, Exercise 6-8: The greatest common divisor (GCD) of $a$ and $b$ is the largest number that divides both of them with no remainder.\n",
    "\n",
    "One way to find the GCD of two numbers is based on the observation that if $r$ is the remainder when $a$ is divided by $b$, then `gcd(a, b) = gcd(b, r)`. As a base case, we can use `gcd(a, 0) = a`."
   ]
  },
  {
   "cell_type": "code",
   "execution_count": 9,
   "metadata": {
    "slideshow": {
     "slide_type": "fragment"
    }
   },
   "outputs": [
    {
     "data": {
      "text/plain": [
       "my_gcd (generic function with 1 method)"
      ]
     },
     "execution_count": 9,
     "metadata": {},
     "output_type": "execute_result"
    }
   ],
   "source": [
    "function my_gcd(a,b)\n",
    "    if a == 0\n",
    "        return b\n",
    "    elseif b == 0\n",
    "        return a\n",
    "    else\n",
    "        return my_gcd(b, a % b)\n",
    "    end\n",
    "end"
   ]
  },
  {
   "cell_type": "code",
   "execution_count": 10,
   "metadata": {
    "slideshow": {
     "slide_type": "fragment"
    }
   },
   "outputs": [
    {
     "data": {
      "text/plain": [
       "123456789"
      ]
     },
     "execution_count": 10,
     "metadata": {},
     "output_type": "execute_result"
    }
   ],
   "source": [
    "factor = 123_456_789\n",
    "prime1 = 67_867_979\n",
    "prime2 = 86_028_121\n",
    "my_gcd(prime1*factor, prime2*factor)"
   ]
  },
  {
   "cell_type": "markdown",
   "metadata": {
    "slideshow": {
     "slide_type": "slide"
    }
   },
   "source": [
    "## Example: Recursive triangles\n",
    "\n",
    "Consider the shape obtained by the following algorithm:\n",
    "```\n",
    "    if the triangle is big enough\n",
    "        Connect the midpoints.\n",
    "        Color the interior triangle mauve.\n",
    "        Draw smaller versions of the same shape in each of the 3 remaining interior triangles\n",
    "    else\n",
    "        Color the whole triangle yellow.\n",
    "    end\n",
    "```\n",
    "\n",
    "We implement it as follows. \"Big enough\" is determined by keeping track of the level (depth) of recursion."
   ]
  },
  {
   "cell_type": "code",
   "execution_count": 11,
   "metadata": {
    "slideshow": {
     "slide_type": "subslide"
    }
   },
   "outputs": [
    {
     "data": {
      "text/plain": [
       "drawTriangle (generic function with 1 method)"
      ]
     },
     "execution_count": 11,
     "metadata": {},
     "output_type": "execute_result"
    }
   ],
   "source": [
    "using PyPlot\n",
    "\n",
    "function drawTriangle(x, y, level)\n",
    "    # Draw recursively colored triangles.\n",
    "    # x,y are 3-vectors that define the vertices of a triangle.\n",
    "    \n",
    "    if level == 0\n",
    "        # Recursion limit (depth) reached\n",
    "        fill(x, y, \"y\") # Color whole triangle yellow\n",
    "    else\n",
    "        # Draw the triangle...\n",
    "        plot(x[[1,2,3,1]], y[[1,2,3,1]], \"k\", linewidth=0.5)\n",
    "        # Determine the midpoints...\n",
    "        a = (x + x[[2,3,1]]) / 2\n",
    "        b = (y + y[[2,3,1]]) / 2\n",
    "        # Draw and color the interior triangle mauve\n",
    "        fill(a, b, \"m\")\n",
    "        # Apply the process to the three \"corner\" triangles...\n",
    "        newx = [x a a[[3,1,2]]]\n",
    "        newy = [y b b[[3,1,2]]]\n",
    "        for i = 1:3\n",
    "            drawTriangle(newx[i,:], newy[i,:], level - 1)\n",
    "        end\n",
    "    end\n",
    "end"
   ]
  },
  {
   "cell_type": "code",
   "execution_count": 12,
   "metadata": {
    "slideshow": {
     "slide_type": "subslide"
    }
   },
   "outputs": [
    {
     "data": {
      "image/png": "[encoded data removed]",
      "text/plain": [
       "Figure(PyObject <Figure size 640x480 with 1 Axes>)"
      ]
     },
     "metadata": {},
     "output_type": "display_data"
    },
    {
     "name": "stderr",
     "output_type": "stream",
     "text": [
      "┌ Warning: `vendor()` is deprecated, use `BLAS.get_config()` and inspect the output instead\n",
      "│   caller = npyinitialize() at numpy.jl:67\n",
      "└ @ PyCall /home/mfranco/.julia/packages/PyCall/L0fLP/src/numpy.jl:67\n"
     ]
    }
   ],
   "source": [
    "# Equilateral triangle\n",
    "x = [0, 1, 0.5]\n",
    "y = [0, 0, 1/sqrt(2)]\n",
    "\n",
    "drawTriangle(x, y, 5)"
   ]
  },
  {
   "attachments": {},
   "cell_type": "markdown",
   "metadata": {
    "slideshow": {
     "slide_type": "slide"
    }
   },
   "source": [
    "## Merge sort\n",
    "\n",
    "Merge sort is a so-called Divide and Conquer algorithm. It divides an input array into two halves, calls itself for these two halves and then merges the two sorted halves. The method is illustrated below, for a simple test case with 7 elements:\n",
    "![merge_sort](merge_sort.png \"Merge sort\")\n",
    "(from <https://en.wikipedia.org/wiki/Merge_sort>)"
   ]
  },
  {
   "cell_type": "markdown",
   "metadata": {
    "slideshow": {
     "slide_type": "subslide"
    }
   },
   "source": [
    "In our implementation, the `mergeLR!(L, R, x)` function is used for merging two halves. It assumes that the arrays `L` and `R` are sorted, and merges them into one:"
   ]
  },
  {
   "cell_type": "code",
   "execution_count": 13,
   "metadata": {
    "slideshow": {
     "slide_type": "fragment"
    }
   },
   "outputs": [
    {
     "data": {
      "text/plain": [
       "mergeLR! (generic function with 1 method)"
      ]
     },
     "execution_count": 13,
     "metadata": {},
     "output_type": "execute_result"
    }
   ],
   "source": [
    "function mergeLR!(L, R, x)\n",
    "    # Merge the *already sorted arrays* L and R into a sorted array x\n",
    "    i = j = k = 1\n",
    "        \n",
    "    # Merge L and R into x\n",
    "    while i <= length(L) && j <= length(R)\n",
    "        if L[i] < R[j]\n",
    "            x[k] = L[i]\n",
    "            i += 1\n",
    "        else\n",
    "            x[k] = R[j]\n",
    "            j += 1\n",
    "        end\n",
    "        k += 1\n",
    "    end\n",
    "\n",
    "    # Copy remaining elements\n",
    "    while i <= length(L)\n",
    "        x[k] = L[i]\n",
    "        i += 1\n",
    "        k += 1\n",
    "    end\n",
    "    while j <= length(R)\n",
    "        x[k] = R[j]\n",
    "        j += 1\n",
    "        k += 1\n",
    "    end\n",
    "end"
   ]
  },
  {
   "cell_type": "markdown",
   "metadata": {
    "slideshow": {
     "slide_type": "subslide"
    }
   },
   "source": [
    "This can now be used to recursively split the array into two approximately equal-sized arrays until they have length 1, and then apply the `mergeLR!` function at each level:"
   ]
  },
  {
   "cell_type": "code",
   "execution_count": 14,
   "metadata": {
    "slideshow": {
     "slide_type": "fragment"
    }
   },
   "outputs": [
    {
     "data": {
      "text/plain": [
       "mergesort! (generic function with 1 method)"
      ]
     },
     "execution_count": 14,
     "metadata": {},
     "output_type": "execute_result"
    }
   ],
   "source": [
    "function mergesort!(x)\n",
    "    # Sort the elements of the array x using the Mergesort algorithm\n",
    "    if length(x) <= 1\n",
    "        return x\n",
    "    else\n",
    "        mid = length(x) ÷ 2   # Find the midpoint of the array\n",
    "        L = x[1:mid]          # Divide array into 2 halves\n",
    "        R = x[mid+1:end]\n",
    "\n",
    "        mergesort!(L)         # Sort first half\n",
    "        mergesort!(R)         # Sort second half\n",
    "        \n",
    "        mergeLR!(L, R, x)\n",
    "    end\n",
    "end"
   ]
  },
  {
   "cell_type": "code",
   "execution_count": 15,
   "metadata": {
    "slideshow": {
     "slide_type": "subslide"
    }
   },
   "outputs": [
    {
     "name": "stdout",
     "output_type": "stream",
     "text": [
      "[336, 619, 143, 67, 680, 349, 849, 247, 738, 87]\n",
      "[67, 87, 143, 247, 336, 349, 619, 680, 738, 849]\n"
     ]
    }
   ],
   "source": [
    "# Example: Sort random integers\n",
    "x = rand(1:1000, 10)\n",
    "println(x)\n",
    "mergesort!(x)\n",
    "println(x)"
   ]
  },
  {
   "cell_type": "markdown",
   "metadata": {
    "slideshow": {
     "slide_type": "subslide"
    }
   },
   "source": [
    "It can be shown that the number of operations needed for this algorithm to sort an array of length $n$ is about a constant times $n \\log_2 n$ (which is optimal for methods based on general comparisons). We can roughly verify this using the `@time` macro which measures execution time:"
   ]
  },
  {
   "cell_type": "code",
   "execution_count": 16,
   "metadata": {
    "slideshow": {
     "slide_type": "fragment"
    }
   },
   "outputs": [
    {
     "name": "stdout",
     "output_type": "stream",
     "text": [
      "n = 1000\n",
      "  0.080596 seconds (52.68 k allocations: 2.782 MiB, 99.71% compilation time)\n",
      "n = 10000\n",
      "  0.002353 seconds (20.00 k allocations: 2.145 MiB)\n",
      "n = 100000\n",
      "  0.038876 seconds (200.06 k allocations: 23.976 MiB, 28.18% gc time)\n",
      "n = 1000000\n",
      "  0.593117 seconds (2.00 M allocations: 266.090 MiB, 47.88% gc time, 0.92% compilation time)\n",
      "n = 10000000\n",
      "  3.937098 seconds (20.01 M allocations: 2.834 GiB, 11.18% gc time)\n"
     ]
    }
   ],
   "source": [
    "for array_size = Int64[1e3, 1e4, 1e5, 1e6, 1e7]\n",
    "    x = rand(array_size)   # Random floating point numbers\n",
    "    println(\"n = \", array_size)\n",
    "    @time mergesort!(x)\n",
    "end"
   ]
  },
  {
   "cell_type": "markdown",
   "metadata": {
    "slideshow": {
     "slide_type": "fragment"
    }
   },
   "source": [
    "We can see that at least for the larger values, the execution time is a little more than 10 times larger when $n$ gets 10 times larger, showing slightly more than a linear dependency on $n$."
   ]
  },
  {
   "cell_type": "markdown",
   "metadata": {},
   "source": [
    "## Saving intermediate values in a recursion\n",
    "\n",
    "The function below implements the so-called *McCarthy 91 function*:\n",
    "\n",
    "$$\n",
    "M(n) = \n",
    "\\begin{cases}\n",
    "n-10, & \\text{if }n > 100 \\\\\n",
    "M(M(n+11)), & \\text{if } n \\le 100\n",
    "\\end{cases}\n",
    "$$\n",
    "\n",
    "While trivial to implement using recursion, it is not that easy to trace the recursive calls to the function. Therefore, we define a function `Mvalues(n)` which creates an empty array `returned_values`. Inside this function we define the actual recursive function `M(n)`, and each time it is called we push the value that it returns to the `returned_values` array. Note that the order of these numbers in the array will not be the same as the order in which `M(n)` is called, since the values are pushed to the array at the end of the function."
   ]
  },
  {
   "cell_type": "code",
   "execution_count": 17,
   "metadata": {},
   "outputs": [
    {
     "data": {
      "text/plain": [
       "Mvalues (generic function with 1 method)"
      ]
     },
     "execution_count": 17,
     "metadata": {},
     "output_type": "execute_result"
    }
   ],
   "source": [
    "function Mvalues(n)\n",
    "    returned_values = Int64[]\n",
    "\n",
    "    function M(n)\n",
    "        if n > 100\n",
    "            newval = n - 10\n",
    "        else\n",
    "            newval = M(M(n + 11))\n",
    "        end\n",
    "        push!(returned_values, newval)\n",
    "        return newval\n",
    "    end\n",
    "\n",
    "    M(n)\n",
    "    return returned_values\n",
    "end"
   ]
  },
  {
   "cell_type": "code",
   "execution_count": 18,
   "metadata": {},
   "outputs": [
    {
     "data": {
      "text/plain": [
       "1-element Vector{Int64}:\n",
       " 95"
      ]
     },
     "execution_count": 18,
     "metadata": {},
     "output_type": "execute_result"
    }
   ],
   "source": [
    "Mvalues(105)     # Easy - terminates immediately, M(105) = 95"
   ]
  },
  {
   "cell_type": "code",
   "execution_count": 19,
   "metadata": {},
   "outputs": [
    {
     "data": {
      "text/plain": [
       "9-element Vector{Int64}:\n",
       "  98\n",
       "  99\n",
       " 100\n",
       " 101\n",
       "  91\n",
       "  91\n",
       "  91\n",
       "  91\n",
       "  91"
      ]
     },
     "execution_count": 19,
     "metadata": {},
     "output_type": "execute_result"
    }
   ],
   "source": [
    "Mvalues(97)      # More complex - finally returns M(97) = 91"
   ]
  }
 ],
 "metadata": {
  "kernelspec": {
   "display_name": "Julia 1.7.0-rc2",
   "language": "julia",
   "name": "julia-1.7"
  },
  "language_info": {
   "file_extension": ".jl",
   "mimetype": "application/julia",
   "name": "julia",
   "version": "1.7.0"
  }
 },
 "nbformat": 4,
 "nbformat_minor": 2
}
