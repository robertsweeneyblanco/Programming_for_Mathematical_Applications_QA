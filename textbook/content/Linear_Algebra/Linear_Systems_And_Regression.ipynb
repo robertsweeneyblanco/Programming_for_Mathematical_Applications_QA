{
 "cells": [
  {
   "cell_type": "markdown",
   "metadata": {},
   "source": [
    "# Linear Systems and Regression"
   ]
  },
  {
   "cell_type": "code",
   "execution_count": 1,
   "metadata": {},
   "outputs": [],
   "source": [
    "using LinearAlgebra"
   ]
  },
  {
   "cell_type": "markdown",
   "metadata": {},
   "source": [
    "## Linear Systems"
   ]
  },
  {
   "cell_type": "markdown",
   "metadata": {
    "slideshow": {
     "slide_type": "slide"
    }
   },
   "source": [
    "One of the most common uses of matrices is for solving linear systems of equations. Julia uses the backslash operator `\\` for this:"
   ]
  },
  {
   "cell_type": "code",
   "execution_count": 2,
   "metadata": {
    "slideshow": {
     "slide_type": "fragment"
    }
   },
   "outputs": [
    {
     "data": {
      "text/plain": [
       "true"
      ]
     },
     "execution_count": 2,
     "metadata": {},
     "output_type": "execute_result"
    }
   ],
   "source": [
    "A = [1 2; 3 4]\n",
    "b = [5,1]\n",
    "x = A \\ b         # Solve Ax = b for x\n",
    "A*x == b        # Confirm solution is correct"
   ]
  },
  {
   "cell_type": "markdown",
   "metadata": {
    "slideshow": {
     "slide_type": "subslide"
    }
   },
   "source": [
    "One way to view the syntax `A\\b` is that it multiplies by `A`-inverse from the left, but using much more efficient and accurate algorithms.\n",
    "\n",
    "For systems with many right-hand side vectors `b`, the `\\` operator also works with matrices:"
   ]
  },
  {
   "cell_type": "code",
   "execution_count": 3,
   "metadata": {
    "slideshow": {
     "slide_type": "fragment"
    }
   },
   "outputs": [
    {
     "data": {
      "text/plain": [
       "false"
      ]
     },
     "execution_count": 3,
     "metadata": {},
     "output_type": "execute_result"
    }
   ],
   "source": [
    "B = [5 7; 1 -3]\n",
    "X = A \\ B          # Solve for two RHS vectors\n",
    "A*X == B"
   ]
  },
  {
   "cell_type": "markdown",
   "metadata": {
    "slideshow": {
     "slide_type": "slide"
    }
   },
   "source": [
    "The algorithm used by the `\\` operator is typically Gaussian elimination, but the details are quite complex depending on the type of matrices involved. Due to the high cost of general Gaussian elimination, it can make a big difference if you use a specialized matrix type:"
   ]
  },
  {
   "cell_type": "code",
   "execution_count": 4,
   "metadata": {
    "slideshow": {
     "slide_type": "fragment"
    }
   },
   "outputs": [
    {
     "name": "stdout",
     "output_type": "stream",
     "text": [
      "  0.186211 seconds (380.23 k allocations: 23.836 MiB, 99.95% compilation time)\n",
      "  0.000041 seconds (4 allocations: 63.000 KiB)\n",
      "  0.000048 seconds (4 allocations: 63.000 KiB)\n",
      "  0.300326 seconds (297.61 k allocations: 50.643 MiB, 3.03% gc time, 59.62% compilation time)\n",
      "  0.127201 seconds (5 allocations: 30.564 MiB, 5.90% gc time)\n",
      "  0.120655 seconds (5 allocations: 30.564 MiB)\n"
     ]
    }
   ],
   "source": [
    "n = 2000\n",
    "T = SymTridiagonal(2ones(n), -ones(n))     # n-by-n symmetric tridiagonal\n",
    "\n",
    "for rep = 1:3 @time T \\ randn(n) end       # Very fast since T is a SymTridiagonal\n",
    "Tfull = Matrix(T)                          # Convert T to a full 2D array\n",
    "for rep = 1:3 @time Tfull \\ randn(n) end   # Now \\ is magnitudes slower"
   ]
  },
  {
   "cell_type": "markdown",
   "metadata": {
    "slideshow": {
     "slide_type": "slide"
    }
   },
   "source": [
    "The matrix `A` in `A\\b` can also be rectangular, in which case a minimum-norm least squares solution is computed."
   ]
  },
  {
   "cell_type": "markdown",
   "metadata": {
    "slideshow": {
     "slide_type": "fragment"
    }
   },
   "source": [
    "## Linear regression\n",
    "\n",
    "Suppose you want to approximate a set of $n$ points $(x_i,y_i)$, $i=1,\\ldots,n$, by a straight line. The *least squares approximation* $y=a + bx$ is given by the least-squares solution of the following over-determined system:\n",
    "\n",
    "$$\n",
    "\\begin{pmatrix}\n",
    "1 & x_1 \\\\\n",
    "1 & x_2 \\\\\n",
    "\\vdots & \\vdots \\\\\n",
    "1 & x_n\n",
    "\\end{pmatrix}\n",
    "\\begin{pmatrix}\n",
    "a \\\\ b\n",
    "\\end{pmatrix}=\n",
    "\\begin{pmatrix}\n",
    "y_1 \\\\ y_2 \\\\ \\vdots \\\\ y_n\n",
    "\\end{pmatrix}\n",
    "$$"
   ]
  },
  {
   "cell_type": "code",
   "execution_count": 5,
   "metadata": {
    "slideshow": {
     "slide_type": "slide"
    }
   },
   "outputs": [
    {
     "data": {
      "image/png": "[encoded data removed]",
      "text/plain": [
       "Figure(PyObject <Figure size 640x480 with 1 Axes>)"
      ]
     },
     "metadata": {},
     "output_type": "display_data"
    }
   ],
   "source": [
    "x = 0:0.1:10\n",
    "n = length(x)\n",
    "y = 3x .- 2 + randn(n)     # Example data: straight line with noise\n",
    "\n",
    "A = [ones(n) x]            # LHS\n",
    "ab = A \\ y                 # Least-squares solution\n",
    "\n",
    "using PyPlot\n",
    "xplot = 0:10;\n",
    "yplot = @. ab[1] + ab[2] * xplot\n",
    "plot(x,y,\".\")\n",
    "plot(xplot, yplot, \"r\");"
   ]
  }
 ],
 "metadata": {
  "kernelspec": {
   "display_name": "Julia 1.9.2",
   "language": "julia",
   "name": "julia-1.9"
  },
  "language_info": {
   "file_extension": ".jl",
   "mimetype": "application/julia",
   "name": "julia",
   "version": "1.9.2"
  }
 },
 "nbformat": 4,
 "nbformat_minor": 2
}
