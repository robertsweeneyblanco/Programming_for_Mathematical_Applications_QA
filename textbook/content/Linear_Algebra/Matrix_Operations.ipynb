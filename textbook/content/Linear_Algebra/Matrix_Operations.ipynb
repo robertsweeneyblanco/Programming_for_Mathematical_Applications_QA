{
 "cells": [
  {
   "cell_type": "markdown",
   "metadata": {
    "slideshow": {
     "slide_type": "slide"
    }
   },
   "source": [
    "# Matrix Operations"
   ]
  },
  {
   "cell_type": "markdown",
   "metadata": {
    "slideshow": {
     "slide_type": "slide"
    }
   },
   "source": [
    "## Creating Vectors and Matrices\n",
    "\n",
    "We have already seen how to create 1D and 2D arrays in Julia. These can be naturally used to represent vectors and matrices:"
   ]
  },
  {
   "cell_type": "code",
   "execution_count": 1,
   "metadata": {
    "slideshow": {
     "slide_type": "fragment"
    }
   },
   "outputs": [
    {
     "data": {
      "text/plain": [
       "3-element Vector{Float64}:\n",
       "  0.8892349004816178\n",
       " -0.0719021404866299\n",
       " -0.25712061831490673"
      ]
     },
     "execution_count": 1,
     "metadata": {},
     "output_type": "execute_result"
    }
   ],
   "source": [
    "x = randn(3)   # Random vector"
   ]
  },
  {
   "cell_type": "code",
   "execution_count": 2,
   "metadata": {
    "slideshow": {
     "slide_type": "fragment"
    }
   },
   "outputs": [
    {
     "data": {
      "text/plain": [
       "3×3 Matrix{Float64}:\n",
       " -1.15805    -1.14501    -0.657621\n",
       "  0.541023   -0.0855135  -0.176993\n",
       " -0.0148093   0.068844    0.770481"
      ]
     },
     "execution_count": 2,
     "metadata": {},
     "output_type": "execute_result"
    }
   ],
   "source": [
    "A = randn(3,3) # Random matrix"
   ]
  },
  {
   "cell_type": "markdown",
   "metadata": {
    "slideshow": {
     "slide_type": "slide"
    }
   },
   "source": [
    "## Basic Matrix Operations\n",
    "\n",
    "Julia also defines common matrix operations for arrays, some in the base library and some in the `LinearAlgebra` package."
   ]
  },
  {
   "cell_type": "code",
   "execution_count": 3,
   "metadata": {
    "slideshow": {
     "slide_type": "fragment"
    }
   },
   "outputs": [],
   "source": [
    "using LinearAlgebra"
   ]
  },
  {
   "cell_type": "markdown",
   "metadata": {
    "slideshow": {
     "slide_type": "subslide"
    }
   },
   "source": [
    "For example addition, subtraction, and scalar multiplication work as expected:"
   ]
  },
  {
   "cell_type": "code",
   "execution_count": 4,
   "metadata": {
    "slideshow": {
     "slide_type": "fragment"
    }
   },
   "outputs": [
    {
     "data": {
      "text/plain": [
       "3-element Vector{Float64}:\n",
       " 4.898239271678415\n",
       " 0.6997793206629153\n",
       " 0.17053637235532998"
      ]
     },
     "execution_count": 4,
     "metadata": {},
     "output_type": "execute_result"
    }
   ],
   "source": [
    "y = randn(3)\n",
    "x - 3y"
   ]
  },
  {
   "cell_type": "markdown",
   "metadata": {
    "slideshow": {
     "slide_type": "fragment"
    }
   },
   "source": [
    "Note that this happens to be the same operation as the corresponding *elementwise* operation `x .- 3y`, because of the definition of vector addition. However, if you try to multiply two vectors\n",
    "\n",
    "```julia\n",
    "z = x * y   # Error - cannot multiply two vectors\n",
    "```\n",
    "\n",
    "you get an error. Use can use the `dot` function or the $\\cdot$ syntax (type `\\cdot` and tab) to compute dot products:"
   ]
  },
  {
   "cell_type": "code",
   "execution_count": 5,
   "metadata": {
    "slideshow": {
     "slide_type": "fragment"
    }
   },
   "outputs": [
    {
     "data": {
      "text/plain": [
       "-1.1331672081177433"
      ]
     },
     "execution_count": 5,
     "metadata": {},
     "output_type": "execute_result"
    }
   ],
   "source": [
    "x_dot_y_1 = dot(x,y)   # Dot product\n",
    "x_dot_y_2 = x ⋅ y      # Same thing"
   ]
  },
  {
   "cell_type": "markdown",
   "metadata": {
    "slideshow": {
     "slide_type": "subslide"
    }
   },
   "source": [
    "For the special case of vectors of length 3, Julia also defines the cross product:"
   ]
  },
  {
   "cell_type": "code",
   "execution_count": 6,
   "metadata": {
    "slideshow": {
     "slide_type": "fragment"
    }
   },
   "outputs": [
    {
     "data": {
      "text/plain": [
       "3-element Vector{Float64}:\n",
       " -0.05588858713655367\n",
       "  0.4703617347627336\n",
       " -0.32482069427271026"
      ]
     },
     "execution_count": 6,
     "metadata": {},
     "output_type": "execute_result"
    }
   ],
   "source": [
    "x_cross_y = cross(x,y)"
   ]
  },
  {
   "cell_type": "markdown",
   "metadata": {
    "slideshow": {
     "slide_type": "slide"
    }
   },
   "source": [
    "The 2-norm of a vector can be calculated using the `norm` function:"
   ]
  },
  {
   "cell_type": "code",
   "execution_count": 7,
   "metadata": {
    "slideshow": {
     "slide_type": "fragment"
    }
   },
   "outputs": [
    {
     "data": {
      "text/plain": [
       "0.0"
      ]
     },
     "execution_count": 7,
     "metadata": {},
     "output_type": "execute_result"
    }
   ],
   "source": [
    "a = norm(x)                 # 2-norm of x\n",
    "b = sqrt(sum(abs.(x).^2))   # Should be the same\n",
    "a - b                       # Confirm"
   ]
  },
  {
   "cell_type": "markdown",
   "metadata": {
    "slideshow": {
     "slide_type": "fragment"
    }
   },
   "source": [
    "More generally, the `norm` function takes a second argument `p` in which case it computes the $p$-norm:\n",
    "\n",
    "$$\n",
    "\\|A\\|_p = \\left( \\sum_{i=1}^n | a_i | ^p \\right)^{1/p}\n",
    "$$\n",
    "\n",
    "This includes the so-called max-norm, by setting `p` to `Inf`."
   ]
  },
  {
   "cell_type": "markdown",
   "metadata": {
    "slideshow": {
     "slide_type": "slide"
    }
   },
   "source": [
    "## Matrix Multiplication\n",
    "\n",
    "Matrix multiplication is performed using the `*` operator. Recall the definition of the product of two matrices $C=AB$ where $A$ is $m$-by-$k$, $B$ is $k$-by-$n$, and $C$ is $m$-by-$n$: \n",
    "\n",
    "$$\n",
    "C_{ij} = \\sum_{\\ell=1}^k A_{i\\ell} B_{\\ell j},\\qquad\\text{ for }i=1,\\ldots,m\\text{ and }j=1,\\ldots,n\n",
    "$$\n",
    "\n",
    "If the \"middle dimensions\" ($k$ in the example above) do not match, Julia gives an error."
   ]
  },
  {
   "cell_type": "code",
   "execution_count": 8,
   "metadata": {
    "slideshow": {
     "slide_type": "fragment"
    }
   },
   "outputs": [
    {
     "data": {
      "text/plain": [
       "4×3 Matrix{Float64}:\n",
       " -1.22317   -0.96037    0.298082\n",
       " -0.798993  -0.451545  -1.49723\n",
       "  0.555024  -0.406885   0.778622\n",
       "  1.99122    2.26293    2.52958"
      ]
     },
     "execution_count": 8,
     "metadata": {},
     "output_type": "execute_result"
    }
   ],
   "source": [
    "B = randn(4,3)\n",
    "C = B*A     # OK, since B is 4-by-3 and A is 3-by-3"
   ]
  },
  {
   "cell_type": "markdown",
   "metadata": {
    "slideshow": {
     "slide_type": "subslide"
    }
   },
   "source": [
    "Note that unlike addition and subtraction, matrix multiplication is completely different from elementwise multiplication:"
   ]
  },
  {
   "cell_type": "code",
   "execution_count": 9,
   "metadata": {
    "slideshow": {
     "slide_type": "fragment"
    }
   },
   "outputs": [
    {
     "data": {
      "text/plain": [
       "3×3 Matrix{Float64}:\n",
       "  0.609739   -0.0675654  -0.0250656\n",
       "  0.962879    0.631663    0.508349\n",
       " -0.0427665  -0.0593733   0.00244597"
      ]
     },
     "execution_count": 9,
     "metadata": {},
     "output_type": "execute_result"
    }
   ],
   "source": [
    "AA = A*A     # Square of matrix\n",
    "A2 = A.*A    # Square of each entry in matrix\n",
    "A2 - AA      # These are not the same"
   ]
  },
  {
   "cell_type": "markdown",
   "metadata": {
    "slideshow": {
     "slide_type": "subslide"
    }
   },
   "source": [
    "Similarly, the power `^` operator will compute *matrix powers*, not elementwise powers:"
   ]
  },
  {
   "cell_type": "code",
   "execution_count": 10,
   "metadata": {
    "slideshow": {
     "slide_type": "fragment"
    }
   },
   "outputs": [
    {
     "data": {
      "text/plain": [
       "3×3 Matrix{ComplexF64}:\n",
       "  -0.699585+3.10425e-19im  -0.889248+1.85352e-18im    -0.445545+2.94266e-17im\n",
       "   0.423833+3.46945e-17im   0.145918+5.55112e-17im  -0.00288211-3.46945e-18im\n",
       " -0.0164066-8.67362e-19im  0.0248005-8.67362e-19im     0.372698+5.42101e-20im"
      ]
     },
     "execution_count": 10,
     "metadata": {},
     "output_type": "execute_result"
    }
   ],
   "source": [
    "A_to_the_power_of_2 = A^2       # Same as A*A\n",
    "A_to_the_power_of_3_5 = A^3.5   # A^3.5, much harder to compute!"
   ]
  },
  {
   "cell_type": "markdown",
   "metadata": {
    "slideshow": {
     "slide_type": "fragment"
    }
   },
   "source": [
    "Note that Julia automatically returns a matrix of complex numbers when needed (even if the input matrix was real)."
   ]
  },
  {
   "cell_type": "markdown",
   "metadata": {
    "slideshow": {
     "slide_type": "slide"
    }
   },
   "source": [
    "## Matrix Transpose\n",
    "\n",
    "Matrices can be transposed using the `transpose` function, or conjugate transposed using the `adjoint` function or the convenient `'` syntax: "
   ]
  },
  {
   "cell_type": "code",
   "execution_count": 11,
   "metadata": {
    "slideshow": {
     "slide_type": "fragment"
    }
   },
   "outputs": [
    {
     "data": {
      "text/plain": [
       "3×4 Matrix{Float64}:\n",
       " -1.51919    1.71411   -3.51545    1.36572\n",
       "  0.323782   0.577764  -0.275168  -1.27398\n",
       "  0.830835  -1.47123    1.42235    1.27231"
      ]
     },
     "execution_count": 11,
     "metadata": {},
     "output_type": "execute_result"
    }
   ],
   "source": [
    "BT = transpose(B)     # B is 4-by-3, so BT is 3-by-4\n",
    "BT2 = B'              # Same thing (since B is real so conjugate does not matter)\n",
    "\n",
    "A * B'                # Well-defined, since A is 3-by-3 and B' is 3-by-4"
   ]
  },
  {
   "cell_type": "markdown",
   "metadata": {
    "slideshow": {
     "slide_type": "fragment"
    }
   },
   "source": [
    "Since the dot product between two vectors can be written as $z = x^*y$ (conjugate transpose of $x$), matrix multiplication can be used to provide an alternative syntax:"
   ]
  },
  {
   "cell_type": "code",
   "execution_count": 12,
   "metadata": {
    "slideshow": {
     "slide_type": "fragment"
    }
   },
   "outputs": [
    {
     "data": {
      "text/plain": [
       "-1.1331672081177433"
      ]
     },
     "execution_count": 12,
     "metadata": {},
     "output_type": "execute_result"
    }
   ],
   "source": [
    "x_dot_y_3 = x' * y"
   ]
  },
  {
   "cell_type": "markdown",
   "metadata": {
    "slideshow": {
     "slide_type": "slide"
    }
   },
   "source": [
    "In all these examples, the vectors `x` and `y` have been 1D arrays. It is also possible to use 2D arrays (or matrices) to represent vectors, which allows for both column- and row-vectors:"
   ]
  },
  {
   "cell_type": "code",
   "execution_count": 13,
   "metadata": {
    "slideshow": {
     "slide_type": "fragment"
    }
   },
   "outputs": [
    {
     "data": {
      "text/plain": [
       "1×3 Matrix{Float64}:\n",
       " 0.874197  0.631681  -0.720351"
      ]
     },
     "execution_count": 13,
     "metadata": {},
     "output_type": "execute_result"
    }
   ],
   "source": [
    "a = randn(3,1)   # Column vector\n",
    "b = randn(1,3)   # Row vector"
   ]
  },
  {
   "cell_type": "markdown",
   "metadata": {
    "slideshow": {
     "slide_type": "fragment"
    }
   },
   "source": [
    "Note that `a' * b` is now invalid because of the dimensions. One option is to do `a' * b'`, but it is generally safer to use the `dot` function to compute the dot product:"
   ]
  },
  {
   "cell_type": "code",
   "execution_count": 14,
   "metadata": {
    "slideshow": {
     "slide_type": "fragment"
    }
   },
   "outputs": [
    {
     "data": {
      "text/plain": [
       "-1.6114571135923468"
      ]
     },
     "execution_count": 14,
     "metadata": {},
     "output_type": "execute_result"
    }
   ],
   "source": [
    "a_dot_b = dot(a,b)"
   ]
  },
  {
   "cell_type": "markdown",
   "metadata": {},
   "source": [
    "## Other Matrix Operations\n",
    "\n",
    "The `LinearAlgebra` package defines many other common matrix operations. For example, determinant, trace, and inverse matrix (but note that inverse matrices are often inefficient and ill-conditioned, use `\\` instead for solving linear systems):"
   ]
  },
  {
   "cell_type": "code",
   "execution_count": 15,
   "metadata": {},
   "outputs": [
    {
     "name": "stdout",
     "output_type": "stream",
     "text": [
      "det(A) = 0.3094892084286972\n",
      "tr(A) = -0.6323971104372268\n",
      "inv(A) = [-1.010742525157353 -0.42035781995469435 0.7252325494999748; -0.13171578005462825 -0.5112927776592611 -5.571527004674333; -0.6380479933666557 -1.0060872070827533 -1.7331619846667148]\n"
     ]
    }
   ],
   "source": [
    "A = randn(3,3)\n",
    "println(\"det(A) = \", det(A))\n",
    "println(\"tr(A) = \", tr(A))\n",
    "println(\"inv(A) = \", inv(A))"
   ]
  },
  {
   "cell_type": "markdown",
   "metadata": {},
   "source": [
    "## Eigenvalues and Eigenvectors"
   ]
  },
  {
   "cell_type": "markdown",
   "metadata": {},
   "source": [
    "Eigenvalues and eigenvectors can be computed using the functions `eigvals` and `eigvects`. Note that the output of these functions is in general complex, even though the matrices are real."
   ]
  },
  {
   "cell_type": "code",
   "execution_count": 16,
   "metadata": {},
   "outputs": [
    {
     "data": {
      "text/plain": [
       "3-element Vector{ComplexF64}:\n",
       " -1.5196613311881448 + 0.0im\n",
       " -1.0211792640462782 - 1.2667279612854871im\n",
       " -1.0211792640462782 + 1.2667279612854871im"
      ]
     },
     "execution_count": 16,
     "metadata": {},
     "output_type": "execute_result"
    }
   ],
   "source": [
    "A = randn(3,3)\n",
    "lambda = eigvals(A)     # Eigenvalues"
   ]
  },
  {
   "cell_type": "code",
   "execution_count": 17,
   "metadata": {},
   "outputs": [
    {
     "data": {
      "text/plain": [
       "3×3 Matrix{ComplexF64}:\n",
       " 0.509338+0.0im   0.196503+0.557665im   0.196503-0.557665im\n",
       " -0.74161+0.0im  0.0666145+0.482036im  0.0666145-0.482036im\n",
       " 0.436566+0.0im   0.643117-0.0im        0.643117+0.0im"
      ]
     },
     "execution_count": 17,
     "metadata": {},
     "output_type": "execute_result"
    }
   ],
   "source": [
    "X = eigvecs(A)          # Eigenvectors"
   ]
  },
  {
   "cell_type": "code",
   "execution_count": 18,
   "metadata": {},
   "outputs": [
    {
     "data": {
      "text/plain": [
       "1.3414875847488985e-15"
      ]
     },
     "execution_count": 18,
     "metadata": {},
     "output_type": "execute_result"
    }
   ],
   "source": [
    "norm(A*X - X*Diagonal(lambda))     # Confirm A*X = X*LAMBDA"
   ]
  },
  {
   "cell_type": "markdown",
   "metadata": {},
   "source": [
    "The `Diagonal` function above is an example of a special matrix in Julia discussed in the next section."
   ]
  },
  {
   "cell_type": "markdown",
   "metadata": {},
   "source": [
    "## Example: Eigenvalues of Random Matrices\n",
    "\n",
    "Random matrix theory studies the distribution of the eigenvalues of certain classes of randomly generated matrices, which have many important applications. For example, matrices with entries from the normal distribution can be shown to have eigenvalues concentrated inside a circle in the complex plane:"
   ]
  },
  {
   "cell_type": "code",
   "execution_count": 19,
   "metadata": {},
   "outputs": [
    {
     "data": {
      "image/png": "[encoded data removed]",
      "text/plain": [
       "Figure(PyObject <Figure size 640x480 with 1 Axes>)"
      ]
     },
     "metadata": {},
     "output_type": "display_data"
    },
    {
     "name": "stderr",
     "output_type": "stream",
     "text": [
      "┌ Warning: `vendor()` is deprecated, use `BLAS.get_config()` and inspect the output instead\n",
      "│   caller = npyinitialize() at numpy.jl:67\n",
      "└ @ PyCall /home/mfranco/.julia/packages/PyCall/L0fLP/src/numpy.jl:67\n"
     ]
    }
   ],
   "source": [
    "using PyPlot\n",
    "n = 1000\n",
    "A = randn(n,n)\n",
    "l = eigvals(A)\n",
    "plot(real(l), imag(l), \".\")\n",
    "axis(\"equal\");\n",
    "# Draw circle\n",
    "radius = sqrt(n)\n",
    "phi = 2π*(0:100)/100\n",
    "plot(radius*cos.(phi), radius*sin.(phi));"
   ]
  },
  {
   "cell_type": "markdown",
   "metadata": {},
   "source": [
    "## Other data types\n",
    "\n",
    "We already saw how matrix operations can be performed on complex numbers. Many operations are also defined for rational numbers, which allows for exact linear algebra computations:"
   ]
  },
  {
   "cell_type": "code",
   "execution_count": 20,
   "metadata": {},
   "outputs": [
    {
     "data": {
      "text/plain": [
       "3×3 Matrix{Rational{Int64}}:\n",
       " -1//2   1//1    1//6\n",
       "  4//5  -3//10   7//6\n",
       " -1//5   1//1   -6//7"
      ]
     },
     "metadata": {},
     "output_type": "display_data"
    },
    {
     "data": {
      "text/plain": [
       "3×3 Matrix{Rational{Int64}}:\n",
       " -955//1082  1075//1082   2555//2164\n",
       "  475//1082   485//1082   1505//2164\n",
       "  777//1082   315//1082  -1365//2164"
      ]
     },
     "execution_count": 20,
     "metadata": {},
     "output_type": "execute_result"
    }
   ],
   "source": [
    "num = rand(-10:10, 3, 3)\n",
    "den = rand(1:10, 3, 3)\n",
    "rat = num .// den\n",
    "display(rat)\n",
    "inv(rat)"
   ]
  }
 ],
 "metadata": {
  "kernelspec": {
   "display_name": "Julia 1.7.0-rc2",
   "language": "julia",
   "name": "julia-1.7"
  },
  "language_info": {
   "file_extension": ".jl",
   "mimetype": "application/julia",
   "name": "julia",
   "version": "1.7.0"
  }
 },
 "nbformat": 4,
 "nbformat_minor": 2
}
